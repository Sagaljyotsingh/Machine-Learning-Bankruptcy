{
  "cells": [
    {
      "cell_type": "code",
      "execution_count": 1,
      "id": "c1948b78",
      "metadata": {
        "id": "c1948b78"
      },
      "outputs": [],
      "source": [
        "import pandas as pd\n",
        "import numpy as np\n",
        "import plotly.express as px"
      ]
    },
    {
      "cell_type": "code",
      "execution_count": 2,
      "id": "336a401e",
      "metadata": {
        "colab": {
          "base_uri": "https://localhost:8080/",
          "height": 73
        },
        "id": "336a401e",
        "outputId": "a3c4ea26-653f-4716-ce6b-5450a6fed771"
      },
      "outputs": [
        {
          "output_type": "display_data",
          "data": {
            "text/plain": [
              "<IPython.core.display.HTML object>"
            ],
            "text/html": [
              "\n",
              "     <input type=\"file\" id=\"files-4760a1a0-8aef-4838-8c5a-6f16af98eabf\" name=\"files[]\" multiple disabled\n",
              "        style=\"border:none\" />\n",
              "     <output id=\"result-4760a1a0-8aef-4838-8c5a-6f16af98eabf\">\n",
              "      Upload widget is only available when the cell has been executed in the\n",
              "      current browser session. Please rerun this cell to enable.\n",
              "      </output>\n",
              "      <script>// Copyright 2017 Google LLC\n",
              "//\n",
              "// Licensed under the Apache License, Version 2.0 (the \"License\");\n",
              "// you may not use this file except in compliance with the License.\n",
              "// You may obtain a copy of the License at\n",
              "//\n",
              "//      http://www.apache.org/licenses/LICENSE-2.0\n",
              "//\n",
              "// Unless required by applicable law or agreed to in writing, software\n",
              "// distributed under the License is distributed on an \"AS IS\" BASIS,\n",
              "// WITHOUT WARRANTIES OR CONDITIONS OF ANY KIND, either express or implied.\n",
              "// See the License for the specific language governing permissions and\n",
              "// limitations under the License.\n",
              "\n",
              "/**\n",
              " * @fileoverview Helpers for google.colab Python module.\n",
              " */\n",
              "(function(scope) {\n",
              "function span(text, styleAttributes = {}) {\n",
              "  const element = document.createElement('span');\n",
              "  element.textContent = text;\n",
              "  for (const key of Object.keys(styleAttributes)) {\n",
              "    element.style[key] = styleAttributes[key];\n",
              "  }\n",
              "  return element;\n",
              "}\n",
              "\n",
              "// Max number of bytes which will be uploaded at a time.\n",
              "const MAX_PAYLOAD_SIZE = 100 * 1024;\n",
              "\n",
              "function _uploadFiles(inputId, outputId) {\n",
              "  const steps = uploadFilesStep(inputId, outputId);\n",
              "  const outputElement = document.getElementById(outputId);\n",
              "  // Cache steps on the outputElement to make it available for the next call\n",
              "  // to uploadFilesContinue from Python.\n",
              "  outputElement.steps = steps;\n",
              "\n",
              "  return _uploadFilesContinue(outputId);\n",
              "}\n",
              "\n",
              "// This is roughly an async generator (not supported in the browser yet),\n",
              "// where there are multiple asynchronous steps and the Python side is going\n",
              "// to poll for completion of each step.\n",
              "// This uses a Promise to block the python side on completion of each step,\n",
              "// then passes the result of the previous step as the input to the next step.\n",
              "function _uploadFilesContinue(outputId) {\n",
              "  const outputElement = document.getElementById(outputId);\n",
              "  const steps = outputElement.steps;\n",
              "\n",
              "  const next = steps.next(outputElement.lastPromiseValue);\n",
              "  return Promise.resolve(next.value.promise).then((value) => {\n",
              "    // Cache the last promise value to make it available to the next\n",
              "    // step of the generator.\n",
              "    outputElement.lastPromiseValue = value;\n",
              "    return next.value.response;\n",
              "  });\n",
              "}\n",
              "\n",
              "/**\n",
              " * Generator function which is called between each async step of the upload\n",
              " * process.\n",
              " * @param {string} inputId Element ID of the input file picker element.\n",
              " * @param {string} outputId Element ID of the output display.\n",
              " * @return {!Iterable<!Object>} Iterable of next steps.\n",
              " */\n",
              "function* uploadFilesStep(inputId, outputId) {\n",
              "  const inputElement = document.getElementById(inputId);\n",
              "  inputElement.disabled = false;\n",
              "\n",
              "  const outputElement = document.getElementById(outputId);\n",
              "  outputElement.innerHTML = '';\n",
              "\n",
              "  const pickedPromise = new Promise((resolve) => {\n",
              "    inputElement.addEventListener('change', (e) => {\n",
              "      resolve(e.target.files);\n",
              "    });\n",
              "  });\n",
              "\n",
              "  const cancel = document.createElement('button');\n",
              "  inputElement.parentElement.appendChild(cancel);\n",
              "  cancel.textContent = 'Cancel upload';\n",
              "  const cancelPromise = new Promise((resolve) => {\n",
              "    cancel.onclick = () => {\n",
              "      resolve(null);\n",
              "    };\n",
              "  });\n",
              "\n",
              "  // Wait for the user to pick the files.\n",
              "  const files = yield {\n",
              "    promise: Promise.race([pickedPromise, cancelPromise]),\n",
              "    response: {\n",
              "      action: 'starting',\n",
              "    }\n",
              "  };\n",
              "\n",
              "  cancel.remove();\n",
              "\n",
              "  // Disable the input element since further picks are not allowed.\n",
              "  inputElement.disabled = true;\n",
              "\n",
              "  if (!files) {\n",
              "    return {\n",
              "      response: {\n",
              "        action: 'complete',\n",
              "      }\n",
              "    };\n",
              "  }\n",
              "\n",
              "  for (const file of files) {\n",
              "    const li = document.createElement('li');\n",
              "    li.append(span(file.name, {fontWeight: 'bold'}));\n",
              "    li.append(span(\n",
              "        `(${file.type || 'n/a'}) - ${file.size} bytes, ` +\n",
              "        `last modified: ${\n",
              "            file.lastModifiedDate ? file.lastModifiedDate.toLocaleDateString() :\n",
              "                                    'n/a'} - `));\n",
              "    const percent = span('0% done');\n",
              "    li.appendChild(percent);\n",
              "\n",
              "    outputElement.appendChild(li);\n",
              "\n",
              "    const fileDataPromise = new Promise((resolve) => {\n",
              "      const reader = new FileReader();\n",
              "      reader.onload = (e) => {\n",
              "        resolve(e.target.result);\n",
              "      };\n",
              "      reader.readAsArrayBuffer(file);\n",
              "    });\n",
              "    // Wait for the data to be ready.\n",
              "    let fileData = yield {\n",
              "      promise: fileDataPromise,\n",
              "      response: {\n",
              "        action: 'continue',\n",
              "      }\n",
              "    };\n",
              "\n",
              "    // Use a chunked sending to avoid message size limits. See b/62115660.\n",
              "    let position = 0;\n",
              "    do {\n",
              "      const length = Math.min(fileData.byteLength - position, MAX_PAYLOAD_SIZE);\n",
              "      const chunk = new Uint8Array(fileData, position, length);\n",
              "      position += length;\n",
              "\n",
              "      const base64 = btoa(String.fromCharCode.apply(null, chunk));\n",
              "      yield {\n",
              "        response: {\n",
              "          action: 'append',\n",
              "          file: file.name,\n",
              "          data: base64,\n",
              "        },\n",
              "      };\n",
              "\n",
              "      let percentDone = fileData.byteLength === 0 ?\n",
              "          100 :\n",
              "          Math.round((position / fileData.byteLength) * 100);\n",
              "      percent.textContent = `${percentDone}% done`;\n",
              "\n",
              "    } while (position < fileData.byteLength);\n",
              "  }\n",
              "\n",
              "  // All done.\n",
              "  yield {\n",
              "    response: {\n",
              "      action: 'complete',\n",
              "    }\n",
              "  };\n",
              "}\n",
              "\n",
              "scope.google = scope.google || {};\n",
              "scope.google.colab = scope.google.colab || {};\n",
              "scope.google.colab._files = {\n",
              "  _uploadFiles,\n",
              "  _uploadFilesContinue,\n",
              "};\n",
              "})(self);\n",
              "</script> "
            ]
          },
          "metadata": {}
        },
        {
          "output_type": "stream",
          "name": "stdout",
          "text": [
            "Saving Bankruptcy_data(1)(1).xlsx to Bankruptcy_data(1)(1).xlsx\n"
          ]
        }
      ],
      "source": [
        "from google.colab import files\n",
        "df = files.upload()"
      ]
    },
    {
      "cell_type": "code",
      "source": [
        "import io\n",
        "dt = pd.read_excel(io.BytesIO(df['Bankruptcy_data(1)(1).xlsx']))"
      ],
      "metadata": {
        "id": "XqKu6l1IhJ-5"
      },
      "id": "XqKu6l1IhJ-5",
      "execution_count": 4,
      "outputs": []
    },
    {
      "cell_type": "code",
      "execution_count": 5,
      "id": "wIHHe-O7-X-p",
      "metadata": {
        "colab": {
          "base_uri": "https://localhost:8080/"
        },
        "id": "wIHHe-O7-X-p",
        "outputId": "40568dc5-5b51-4725-be1a-e07c73b2f636",
        "scrolled": true
      },
      "outputs": [
        {
          "output_type": "execute_result",
          "data": {
            "text/plain": [
              "pandas.core.frame.DataFrame"
            ]
          },
          "metadata": {},
          "execution_count": 5
        }
      ],
      "source": [
        "type(dt)"
      ]
    },
    {
      "cell_type": "code",
      "execution_count": 6,
      "id": "77829b9e",
      "metadata": {
        "colab": {
          "base_uri": "https://localhost:8080/",
          "height": 223
        },
        "id": "77829b9e",
        "outputId": "e9728bf5-7ef6-4cd4-f913-77ecfa3d57f9"
      },
      "outputs": [
        {
          "output_type": "execute_result",
          "data": {
            "text/plain": [
              "    EPS  Liquidity  Profitability  Productivity  Leverage Ratio  \\\n",
              "0  1.58       0.36           0.18          0.13            1.33   \n",
              "1  1.41       0.36           0.19          0.12            1.31   \n",
              "2  0.31       0.32           0.13          0.08            1.03   \n",
              "3  0.71       0.28           0.14          0.08            0.80   \n",
              "4  0.75       0.41           0.13          0.08            0.20   \n",
              "\n",
              "   Asset Turnover  Operational Margin  Return on Equity  Market Book Ratio  \\\n",
              "0            1.77                0.07              0.15               2.22   \n",
              "1            1.59                0.07              0.13               2.41   \n",
              "2            1.55                0.05              0.04               2.56   \n",
              "3            1.39                0.06              0.05               5.28   \n",
              "4            1.30                0.06              0.04               8.68   \n",
              "\n",
              "   Assets Growth  Sales Growth  Employee Growth  BK  \n",
              "0            NaN           NaN              NaN   0  \n",
              "1       0.126319      0.014278         0.040179   0  \n",
              "2       0.368077      0.327909         0.566524   0  \n",
              "3      -0.020809     -0.118904        -0.095890   0  \n",
              "4       0.233089      0.146807         0.053030   0  "
            ],
            "text/html": [
              "\n",
              "  <div id=\"df-3251f3b0-b235-4ff5-8dc6-86fa823931a9\" class=\"colab-df-container\">\n",
              "    <div>\n",
              "<style scoped>\n",
              "    .dataframe tbody tr th:only-of-type {\n",
              "        vertical-align: middle;\n",
              "    }\n",
              "\n",
              "    .dataframe tbody tr th {\n",
              "        vertical-align: top;\n",
              "    }\n",
              "\n",
              "    .dataframe thead th {\n",
              "        text-align: right;\n",
              "    }\n",
              "</style>\n",
              "<table border=\"1\" class=\"dataframe\">\n",
              "  <thead>\n",
              "    <tr style=\"text-align: right;\">\n",
              "      <th></th>\n",
              "      <th>EPS</th>\n",
              "      <th>Liquidity</th>\n",
              "      <th>Profitability</th>\n",
              "      <th>Productivity</th>\n",
              "      <th>Leverage Ratio</th>\n",
              "      <th>Asset Turnover</th>\n",
              "      <th>Operational Margin</th>\n",
              "      <th>Return on Equity</th>\n",
              "      <th>Market Book Ratio</th>\n",
              "      <th>Assets Growth</th>\n",
              "      <th>Sales Growth</th>\n",
              "      <th>Employee Growth</th>\n",
              "      <th>BK</th>\n",
              "    </tr>\n",
              "  </thead>\n",
              "  <tbody>\n",
              "    <tr>\n",
              "      <th>0</th>\n",
              "      <td>1.58</td>\n",
              "      <td>0.36</td>\n",
              "      <td>0.18</td>\n",
              "      <td>0.13</td>\n",
              "      <td>1.33</td>\n",
              "      <td>1.77</td>\n",
              "      <td>0.07</td>\n",
              "      <td>0.15</td>\n",
              "      <td>2.22</td>\n",
              "      <td>NaN</td>\n",
              "      <td>NaN</td>\n",
              "      <td>NaN</td>\n",
              "      <td>0</td>\n",
              "    </tr>\n",
              "    <tr>\n",
              "      <th>1</th>\n",
              "      <td>1.41</td>\n",
              "      <td>0.36</td>\n",
              "      <td>0.19</td>\n",
              "      <td>0.12</td>\n",
              "      <td>1.31</td>\n",
              "      <td>1.59</td>\n",
              "      <td>0.07</td>\n",
              "      <td>0.13</td>\n",
              "      <td>2.41</td>\n",
              "      <td>0.126319</td>\n",
              "      <td>0.014278</td>\n",
              "      <td>0.040179</td>\n",
              "      <td>0</td>\n",
              "    </tr>\n",
              "    <tr>\n",
              "      <th>2</th>\n",
              "      <td>0.31</td>\n",
              "      <td>0.32</td>\n",
              "      <td>0.13</td>\n",
              "      <td>0.08</td>\n",
              "      <td>1.03</td>\n",
              "      <td>1.55</td>\n",
              "      <td>0.05</td>\n",
              "      <td>0.04</td>\n",
              "      <td>2.56</td>\n",
              "      <td>0.368077</td>\n",
              "      <td>0.327909</td>\n",
              "      <td>0.566524</td>\n",
              "      <td>0</td>\n",
              "    </tr>\n",
              "    <tr>\n",
              "      <th>3</th>\n",
              "      <td>0.71</td>\n",
              "      <td>0.28</td>\n",
              "      <td>0.14</td>\n",
              "      <td>0.08</td>\n",
              "      <td>0.80</td>\n",
              "      <td>1.39</td>\n",
              "      <td>0.06</td>\n",
              "      <td>0.05</td>\n",
              "      <td>5.28</td>\n",
              "      <td>-0.020809</td>\n",
              "      <td>-0.118904</td>\n",
              "      <td>-0.095890</td>\n",
              "      <td>0</td>\n",
              "    </tr>\n",
              "    <tr>\n",
              "      <th>4</th>\n",
              "      <td>0.75</td>\n",
              "      <td>0.41</td>\n",
              "      <td>0.13</td>\n",
              "      <td>0.08</td>\n",
              "      <td>0.20</td>\n",
              "      <td>1.30</td>\n",
              "      <td>0.06</td>\n",
              "      <td>0.04</td>\n",
              "      <td>8.68</td>\n",
              "      <td>0.233089</td>\n",
              "      <td>0.146807</td>\n",
              "      <td>0.053030</td>\n",
              "      <td>0</td>\n",
              "    </tr>\n",
              "  </tbody>\n",
              "</table>\n",
              "</div>\n",
              "    <div class=\"colab-df-buttons\">\n",
              "\n",
              "  <div class=\"colab-df-container\">\n",
              "    <button class=\"colab-df-convert\" onclick=\"convertToInteractive('df-3251f3b0-b235-4ff5-8dc6-86fa823931a9')\"\n",
              "            title=\"Convert this dataframe to an interactive table.\"\n",
              "            style=\"display:none;\">\n",
              "\n",
              "  <svg xmlns=\"http://www.w3.org/2000/svg\" height=\"24px\" viewBox=\"0 -960 960 960\">\n",
              "    <path d=\"M120-120v-720h720v720H120Zm60-500h600v-160H180v160Zm220 220h160v-160H400v160Zm0 220h160v-160H400v160ZM180-400h160v-160H180v160Zm440 0h160v-160H620v160ZM180-180h160v-160H180v160Zm440 0h160v-160H620v160Z\"/>\n",
              "  </svg>\n",
              "    </button>\n",
              "\n",
              "  <style>\n",
              "    .colab-df-container {\n",
              "      display:flex;\n",
              "      gap: 12px;\n",
              "    }\n",
              "\n",
              "    .colab-df-convert {\n",
              "      background-color: #E8F0FE;\n",
              "      border: none;\n",
              "      border-radius: 50%;\n",
              "      cursor: pointer;\n",
              "      display: none;\n",
              "      fill: #1967D2;\n",
              "      height: 32px;\n",
              "      padding: 0 0 0 0;\n",
              "      width: 32px;\n",
              "    }\n",
              "\n",
              "    .colab-df-convert:hover {\n",
              "      background-color: #E2EBFA;\n",
              "      box-shadow: 0px 1px 2px rgba(60, 64, 67, 0.3), 0px 1px 3px 1px rgba(60, 64, 67, 0.15);\n",
              "      fill: #174EA6;\n",
              "    }\n",
              "\n",
              "    .colab-df-buttons div {\n",
              "      margin-bottom: 4px;\n",
              "    }\n",
              "\n",
              "    [theme=dark] .colab-df-convert {\n",
              "      background-color: #3B4455;\n",
              "      fill: #D2E3FC;\n",
              "    }\n",
              "\n",
              "    [theme=dark] .colab-df-convert:hover {\n",
              "      background-color: #434B5C;\n",
              "      box-shadow: 0px 1px 3px 1px rgba(0, 0, 0, 0.15);\n",
              "      filter: drop-shadow(0px 1px 2px rgba(0, 0, 0, 0.3));\n",
              "      fill: #FFFFFF;\n",
              "    }\n",
              "  </style>\n",
              "\n",
              "    <script>\n",
              "      const buttonEl =\n",
              "        document.querySelector('#df-3251f3b0-b235-4ff5-8dc6-86fa823931a9 button.colab-df-convert');\n",
              "      buttonEl.style.display =\n",
              "        google.colab.kernel.accessAllowed ? 'block' : 'none';\n",
              "\n",
              "      async function convertToInteractive(key) {\n",
              "        const element = document.querySelector('#df-3251f3b0-b235-4ff5-8dc6-86fa823931a9');\n",
              "        const dataTable =\n",
              "          await google.colab.kernel.invokeFunction('convertToInteractive',\n",
              "                                                    [key], {});\n",
              "        if (!dataTable) return;\n",
              "\n",
              "        const docLinkHtml = 'Like what you see? Visit the ' +\n",
              "          '<a target=\"_blank\" href=https://colab.research.google.com/notebooks/data_table.ipynb>data table notebook</a>'\n",
              "          + ' to learn more about interactive tables.';\n",
              "        element.innerHTML = '';\n",
              "        dataTable['output_type'] = 'display_data';\n",
              "        await google.colab.output.renderOutput(dataTable, element);\n",
              "        const docLink = document.createElement('div');\n",
              "        docLink.innerHTML = docLinkHtml;\n",
              "        element.appendChild(docLink);\n",
              "      }\n",
              "    </script>\n",
              "  </div>\n",
              "\n",
              "\n",
              "<div id=\"df-393c43aa-b80f-4cf0-8f4a-e160910e107f\">\n",
              "  <button class=\"colab-df-quickchart\" onclick=\"quickchart('df-393c43aa-b80f-4cf0-8f4a-e160910e107f')\"\n",
              "            title=\"Suggest charts\"\n",
              "            style=\"display:none;\">\n",
              "\n",
              "<svg xmlns=\"http://www.w3.org/2000/svg\" height=\"24px\"viewBox=\"0 0 24 24\"\n",
              "     width=\"24px\">\n",
              "    <g>\n",
              "        <path d=\"M19 3H5c-1.1 0-2 .9-2 2v14c0 1.1.9 2 2 2h14c1.1 0 2-.9 2-2V5c0-1.1-.9-2-2-2zM9 17H7v-7h2v7zm4 0h-2V7h2v10zm4 0h-2v-4h2v4z\"/>\n",
              "    </g>\n",
              "</svg>\n",
              "  </button>\n",
              "\n",
              "<style>\n",
              "  .colab-df-quickchart {\n",
              "      --bg-color: #E8F0FE;\n",
              "      --fill-color: #1967D2;\n",
              "      --hover-bg-color: #E2EBFA;\n",
              "      --hover-fill-color: #174EA6;\n",
              "      --disabled-fill-color: #AAA;\n",
              "      --disabled-bg-color: #DDD;\n",
              "  }\n",
              "\n",
              "  [theme=dark] .colab-df-quickchart {\n",
              "      --bg-color: #3B4455;\n",
              "      --fill-color: #D2E3FC;\n",
              "      --hover-bg-color: #434B5C;\n",
              "      --hover-fill-color: #FFFFFF;\n",
              "      --disabled-bg-color: #3B4455;\n",
              "      --disabled-fill-color: #666;\n",
              "  }\n",
              "\n",
              "  .colab-df-quickchart {\n",
              "    background-color: var(--bg-color);\n",
              "    border: none;\n",
              "    border-radius: 50%;\n",
              "    cursor: pointer;\n",
              "    display: none;\n",
              "    fill: var(--fill-color);\n",
              "    height: 32px;\n",
              "    padding: 0;\n",
              "    width: 32px;\n",
              "  }\n",
              "\n",
              "  .colab-df-quickchart:hover {\n",
              "    background-color: var(--hover-bg-color);\n",
              "    box-shadow: 0 1px 2px rgba(60, 64, 67, 0.3), 0 1px 3px 1px rgba(60, 64, 67, 0.15);\n",
              "    fill: var(--button-hover-fill-color);\n",
              "  }\n",
              "\n",
              "  .colab-df-quickchart-complete:disabled,\n",
              "  .colab-df-quickchart-complete:disabled:hover {\n",
              "    background-color: var(--disabled-bg-color);\n",
              "    fill: var(--disabled-fill-color);\n",
              "    box-shadow: none;\n",
              "  }\n",
              "\n",
              "  .colab-df-spinner {\n",
              "    border: 2px solid var(--fill-color);\n",
              "    border-color: transparent;\n",
              "    border-bottom-color: var(--fill-color);\n",
              "    animation:\n",
              "      spin 1s steps(1) infinite;\n",
              "  }\n",
              "\n",
              "  @keyframes spin {\n",
              "    0% {\n",
              "      border-color: transparent;\n",
              "      border-bottom-color: var(--fill-color);\n",
              "      border-left-color: var(--fill-color);\n",
              "    }\n",
              "    20% {\n",
              "      border-color: transparent;\n",
              "      border-left-color: var(--fill-color);\n",
              "      border-top-color: var(--fill-color);\n",
              "    }\n",
              "    30% {\n",
              "      border-color: transparent;\n",
              "      border-left-color: var(--fill-color);\n",
              "      border-top-color: var(--fill-color);\n",
              "      border-right-color: var(--fill-color);\n",
              "    }\n",
              "    40% {\n",
              "      border-color: transparent;\n",
              "      border-right-color: var(--fill-color);\n",
              "      border-top-color: var(--fill-color);\n",
              "    }\n",
              "    60% {\n",
              "      border-color: transparent;\n",
              "      border-right-color: var(--fill-color);\n",
              "    }\n",
              "    80% {\n",
              "      border-color: transparent;\n",
              "      border-right-color: var(--fill-color);\n",
              "      border-bottom-color: var(--fill-color);\n",
              "    }\n",
              "    90% {\n",
              "      border-color: transparent;\n",
              "      border-bottom-color: var(--fill-color);\n",
              "    }\n",
              "  }\n",
              "</style>\n",
              "\n",
              "  <script>\n",
              "    async function quickchart(key) {\n",
              "      const quickchartButtonEl =\n",
              "        document.querySelector('#' + key + ' button');\n",
              "      quickchartButtonEl.disabled = true;  // To prevent multiple clicks.\n",
              "      quickchartButtonEl.classList.add('colab-df-spinner');\n",
              "      try {\n",
              "        const charts = await google.colab.kernel.invokeFunction(\n",
              "            'suggestCharts', [key], {});\n",
              "      } catch (error) {\n",
              "        console.error('Error during call to suggestCharts:', error);\n",
              "      }\n",
              "      quickchartButtonEl.classList.remove('colab-df-spinner');\n",
              "      quickchartButtonEl.classList.add('colab-df-quickchart-complete');\n",
              "    }\n",
              "    (() => {\n",
              "      let quickchartButtonEl =\n",
              "        document.querySelector('#df-393c43aa-b80f-4cf0-8f4a-e160910e107f button');\n",
              "      quickchartButtonEl.style.display =\n",
              "        google.colab.kernel.accessAllowed ? 'block' : 'none';\n",
              "    })();\n",
              "  </script>\n",
              "</div>\n",
              "    </div>\n",
              "  </div>\n"
            ]
          },
          "metadata": {},
          "execution_count": 6
        }
      ],
      "source": [
        "dt.head()"
      ]
    },
    {
      "cell_type": "code",
      "execution_count": null,
      "id": "e367e815",
      "metadata": {
        "colab": {
          "base_uri": "https://localhost:8080/",
          "height": 206
        },
        "id": "e367e815",
        "outputId": "9981fb33-16bc-44fc-8e01-1c42959ee201"
      },
      "outputs": [
        {
          "data": {
            "text/html": [
              "<div>\n",
              "<style scoped>\n",
              "    .dataframe tbody tr th:only-of-type {\n",
              "        vertical-align: middle;\n",
              "    }\n",
              "\n",
              "    .dataframe tbody tr th {\n",
              "        vertical-align: top;\n",
              "    }\n",
              "\n",
              "    .dataframe thead th {\n",
              "        text-align: right;\n",
              "    }\n",
              "</style>\n",
              "<table border=\"1\" class=\"dataframe\">\n",
              "  <thead>\n",
              "    <tr style=\"text-align: right;\">\n",
              "      <th></th>\n",
              "      <th>EPS</th>\n",
              "      <th>Liquidity</th>\n",
              "      <th>Profitability</th>\n",
              "      <th>Productivity</th>\n",
              "      <th>Leverage Ratio</th>\n",
              "      <th>Asset Turnover</th>\n",
              "      <th>Operational Margin</th>\n",
              "      <th>Return on Equity</th>\n",
              "      <th>Market Book Ratio</th>\n",
              "      <th>Assets Growth</th>\n",
              "      <th>Sales Growth</th>\n",
              "      <th>Employee Growth</th>\n",
              "      <th>BK</th>\n",
              "    </tr>\n",
              "  </thead>\n",
              "  <tbody>\n",
              "    <tr>\n",
              "      <th>92867</th>\n",
              "      <td>-1.488171</td>\n",
              "      <td>-0.015494</td>\n",
              "      <td>-0.758859</td>\n",
              "      <td>-0.056905</td>\n",
              "      <td>-1042.104918</td>\n",
              "      <td>0.174115</td>\n",
              "      <td>-0.326823</td>\n",
              "      <td>-6.614095</td>\n",
              "      <td>-1.846719</td>\n",
              "      <td>-0.073287</td>\n",
              "      <td>-0.557483</td>\n",
              "      <td>-0.076923</td>\n",
              "      <td>0</td>\n",
              "    </tr>\n",
              "    <tr>\n",
              "      <th>92868</th>\n",
              "      <td>-1.807630</td>\n",
              "      <td>0.093838</td>\n",
              "      <td>-1.204734</td>\n",
              "      <td>-0.121122</td>\n",
              "      <td>-4.530214</td>\n",
              "      <td>0.215844</td>\n",
              "      <td>-0.561155</td>\n",
              "      <td>-4.519074</td>\n",
              "      <td>-2.474549</td>\n",
              "      <td>-0.201835</td>\n",
              "      <td>-0.010544</td>\n",
              "      <td>-0.208333</td>\n",
              "      <td>0</td>\n",
              "    </tr>\n",
              "    <tr>\n",
              "      <th>92869</th>\n",
              "      <td>-0.015660</td>\n",
              "      <td>0.039260</td>\n",
              "      <td>0.000000</td>\n",
              "      <td>-0.082429</td>\n",
              "      <td>0.744907</td>\n",
              "      <td>0.254186</td>\n",
              "      <td>-0.324286</td>\n",
              "      <td>-0.569448</td>\n",
              "      <td>3274.505633</td>\n",
              "      <td>-0.168001</td>\n",
              "      <td>-0.020206</td>\n",
              "      <td>-0.105263</td>\n",
              "      <td>0</td>\n",
              "    </tr>\n",
              "    <tr>\n",
              "      <th>92870</th>\n",
              "      <td>-0.133054</td>\n",
              "      <td>0.053678</td>\n",
              "      <td>-0.029471</td>\n",
              "      <td>0.000998</td>\n",
              "      <td>0.574570</td>\n",
              "      <td>0.195683</td>\n",
              "      <td>0.005101</td>\n",
              "      <td>-0.085842</td>\n",
              "      <td>36.474842</td>\n",
              "      <td>0.076936</td>\n",
              "      <td>-0.170928</td>\n",
              "      <td>-0.058824</td>\n",
              "      <td>0</td>\n",
              "    </tr>\n",
              "    <tr>\n",
              "      <th>92871</th>\n",
              "      <td>-0.648028</td>\n",
              "      <td>-0.036524</td>\n",
              "      <td>-0.219774</td>\n",
              "      <td>-0.144842</td>\n",
              "      <td>0.693342</td>\n",
              "      <td>0.222476</td>\n",
              "      <td>-0.651048</td>\n",
              "      <td>-0.498483</td>\n",
              "      <td>55.624410</td>\n",
              "      <td>-0.063630</td>\n",
              "      <td>0.064574</td>\n",
              "      <td>0.062500</td>\n",
              "      <td>1</td>\n",
              "    </tr>\n",
              "  </tbody>\n",
              "</table>\n",
              "</div>"
            ],
            "text/plain": [
              "            EPS  Liquidity  Profitability  Productivity  Leverage Ratio  \\\n",
              "92867 -1.488171  -0.015494      -0.758859     -0.056905    -1042.104918   \n",
              "92868 -1.807630   0.093838      -1.204734     -0.121122       -4.530214   \n",
              "92869 -0.015660   0.039260       0.000000     -0.082429        0.744907   \n",
              "92870 -0.133054   0.053678      -0.029471      0.000998        0.574570   \n",
              "92871 -0.648028  -0.036524      -0.219774     -0.144842        0.693342   \n",
              "\n",
              "       Asset Turnover  Operational Margin  Return on Equity  \\\n",
              "92867        0.174115           -0.326823         -6.614095   \n",
              "92868        0.215844           -0.561155         -4.519074   \n",
              "92869        0.254186           -0.324286         -0.569448   \n",
              "92870        0.195683            0.005101         -0.085842   \n",
              "92871        0.222476           -0.651048         -0.498483   \n",
              "\n",
              "       Market Book Ratio  Assets Growth  Sales Growth  Employee Growth  BK  \n",
              "92867          -1.846719      -0.073287     -0.557483        -0.076923   0  \n",
              "92868          -2.474549      -0.201835     -0.010544        -0.208333   0  \n",
              "92869        3274.505633      -0.168001     -0.020206        -0.105263   0  \n",
              "92870          36.474842       0.076936     -0.170928        -0.058824   0  \n",
              "92871          55.624410      -0.063630      0.064574         0.062500   1  "
            ]
          },
          "execution_count": 5,
          "metadata": {},
          "output_type": "execute_result"
        }
      ],
      "source": [
        "dt.tail()"
      ]
    },
    {
      "cell_type": "code",
      "execution_count": null,
      "id": "3a2069a0",
      "metadata": {
        "colab": {
          "base_uri": "https://localhost:8080/"
        },
        "id": "3a2069a0",
        "outputId": "105073d0-0ad8-4c88-cd65-c633d5e39fe0"
      },
      "outputs": [
        {
          "data": {
            "text/plain": [
              "EPS                      5\n",
              "Liquidity              247\n",
              "Profitability          247\n",
              "Productivity           247\n",
              "Leverage Ratio          26\n",
              "Asset Turnover         247\n",
              "Operational Margin    5557\n",
              "Return on Equity         8\n",
              "Market Book Ratio       57\n",
              "Assets Growth         6701\n",
              "Sales Growth          6701\n",
              "Employee Growth       7010\n",
              "BK                       0\n",
              "dtype: int64"
            ]
          },
          "execution_count": 51,
          "metadata": {},
          "output_type": "execute_result"
        }
      ],
      "source": [
        "null_count = dt.isnull().sum()\n",
        "null_count"
      ]
    },
    {
      "cell_type": "markdown",
      "id": "45aoHvUbUkVq",
      "metadata": {
        "id": "45aoHvUbUkVq"
      },
      "source": [
        "We need to replace null values and outliers with the mean of the data."
      ]
    },
    {
      "cell_type": "code",
      "execution_count": 7,
      "id": "5f6ceUelSDGf",
      "metadata": {
        "id": "5f6ceUelSDGf"
      },
      "outputs": [],
      "source": [
        "y = dt['BK']"
      ]
    },
    {
      "cell_type": "code",
      "execution_count": 8,
      "id": "0fd8GXUzQ7Cm",
      "metadata": {
        "colab": {
          "base_uri": "https://localhost:8080/",
          "height": 223
        },
        "id": "0fd8GXUzQ7Cm",
        "outputId": "30a70382-0ff7-4e3a-d536-71488d3f4cd1"
      },
      "outputs": [
        {
          "output_type": "execute_result",
          "data": {
            "text/plain": [
              "    EPS  Liquidity  Profitability  Productivity  Leverage Ratio  \\\n",
              "0  1.58       0.36           0.18          0.13            1.33   \n",
              "1  1.41       0.36           0.19          0.12            1.31   \n",
              "2  0.31       0.32           0.13          0.08            1.03   \n",
              "3  0.71       0.28           0.14          0.08            0.80   \n",
              "4  0.75       0.41           0.13          0.08            0.20   \n",
              "\n",
              "   Asset Turnover  Operational Margin  Return on Equity  Market Book Ratio  \\\n",
              "0            1.77                0.07              0.15               2.22   \n",
              "1            1.59                0.07              0.13               2.41   \n",
              "2            1.55                0.05              0.04               2.56   \n",
              "3            1.39                0.06              0.05               5.28   \n",
              "4            1.30                0.06              0.04               8.68   \n",
              "\n",
              "   Assets Growth  Sales Growth  Employee Growth  \n",
              "0            NaN           NaN              NaN  \n",
              "1       0.126319      0.014278         0.040179  \n",
              "2       0.368077      0.327909         0.566524  \n",
              "3      -0.020809     -0.118904        -0.095890  \n",
              "4       0.233089      0.146807         0.053030  "
            ],
            "text/html": [
              "\n",
              "  <div id=\"df-40d218b1-9073-4d1c-996f-04f6cabf47d0\" class=\"colab-df-container\">\n",
              "    <div>\n",
              "<style scoped>\n",
              "    .dataframe tbody tr th:only-of-type {\n",
              "        vertical-align: middle;\n",
              "    }\n",
              "\n",
              "    .dataframe tbody tr th {\n",
              "        vertical-align: top;\n",
              "    }\n",
              "\n",
              "    .dataframe thead th {\n",
              "        text-align: right;\n",
              "    }\n",
              "</style>\n",
              "<table border=\"1\" class=\"dataframe\">\n",
              "  <thead>\n",
              "    <tr style=\"text-align: right;\">\n",
              "      <th></th>\n",
              "      <th>EPS</th>\n",
              "      <th>Liquidity</th>\n",
              "      <th>Profitability</th>\n",
              "      <th>Productivity</th>\n",
              "      <th>Leverage Ratio</th>\n",
              "      <th>Asset Turnover</th>\n",
              "      <th>Operational Margin</th>\n",
              "      <th>Return on Equity</th>\n",
              "      <th>Market Book Ratio</th>\n",
              "      <th>Assets Growth</th>\n",
              "      <th>Sales Growth</th>\n",
              "      <th>Employee Growth</th>\n",
              "    </tr>\n",
              "  </thead>\n",
              "  <tbody>\n",
              "    <tr>\n",
              "      <th>0</th>\n",
              "      <td>1.58</td>\n",
              "      <td>0.36</td>\n",
              "      <td>0.18</td>\n",
              "      <td>0.13</td>\n",
              "      <td>1.33</td>\n",
              "      <td>1.77</td>\n",
              "      <td>0.07</td>\n",
              "      <td>0.15</td>\n",
              "      <td>2.22</td>\n",
              "      <td>NaN</td>\n",
              "      <td>NaN</td>\n",
              "      <td>NaN</td>\n",
              "    </tr>\n",
              "    <tr>\n",
              "      <th>1</th>\n",
              "      <td>1.41</td>\n",
              "      <td>0.36</td>\n",
              "      <td>0.19</td>\n",
              "      <td>0.12</td>\n",
              "      <td>1.31</td>\n",
              "      <td>1.59</td>\n",
              "      <td>0.07</td>\n",
              "      <td>0.13</td>\n",
              "      <td>2.41</td>\n",
              "      <td>0.126319</td>\n",
              "      <td>0.014278</td>\n",
              "      <td>0.040179</td>\n",
              "    </tr>\n",
              "    <tr>\n",
              "      <th>2</th>\n",
              "      <td>0.31</td>\n",
              "      <td>0.32</td>\n",
              "      <td>0.13</td>\n",
              "      <td>0.08</td>\n",
              "      <td>1.03</td>\n",
              "      <td>1.55</td>\n",
              "      <td>0.05</td>\n",
              "      <td>0.04</td>\n",
              "      <td>2.56</td>\n",
              "      <td>0.368077</td>\n",
              "      <td>0.327909</td>\n",
              "      <td>0.566524</td>\n",
              "    </tr>\n",
              "    <tr>\n",
              "      <th>3</th>\n",
              "      <td>0.71</td>\n",
              "      <td>0.28</td>\n",
              "      <td>0.14</td>\n",
              "      <td>0.08</td>\n",
              "      <td>0.80</td>\n",
              "      <td>1.39</td>\n",
              "      <td>0.06</td>\n",
              "      <td>0.05</td>\n",
              "      <td>5.28</td>\n",
              "      <td>-0.020809</td>\n",
              "      <td>-0.118904</td>\n",
              "      <td>-0.095890</td>\n",
              "    </tr>\n",
              "    <tr>\n",
              "      <th>4</th>\n",
              "      <td>0.75</td>\n",
              "      <td>0.41</td>\n",
              "      <td>0.13</td>\n",
              "      <td>0.08</td>\n",
              "      <td>0.20</td>\n",
              "      <td>1.30</td>\n",
              "      <td>0.06</td>\n",
              "      <td>0.04</td>\n",
              "      <td>8.68</td>\n",
              "      <td>0.233089</td>\n",
              "      <td>0.146807</td>\n",
              "      <td>0.053030</td>\n",
              "    </tr>\n",
              "  </tbody>\n",
              "</table>\n",
              "</div>\n",
              "    <div class=\"colab-df-buttons\">\n",
              "\n",
              "  <div class=\"colab-df-container\">\n",
              "    <button class=\"colab-df-convert\" onclick=\"convertToInteractive('df-40d218b1-9073-4d1c-996f-04f6cabf47d0')\"\n",
              "            title=\"Convert this dataframe to an interactive table.\"\n",
              "            style=\"display:none;\">\n",
              "\n",
              "  <svg xmlns=\"http://www.w3.org/2000/svg\" height=\"24px\" viewBox=\"0 -960 960 960\">\n",
              "    <path d=\"M120-120v-720h720v720H120Zm60-500h600v-160H180v160Zm220 220h160v-160H400v160Zm0 220h160v-160H400v160ZM180-400h160v-160H180v160Zm440 0h160v-160H620v160ZM180-180h160v-160H180v160Zm440 0h160v-160H620v160Z\"/>\n",
              "  </svg>\n",
              "    </button>\n",
              "\n",
              "  <style>\n",
              "    .colab-df-container {\n",
              "      display:flex;\n",
              "      gap: 12px;\n",
              "    }\n",
              "\n",
              "    .colab-df-convert {\n",
              "      background-color: #E8F0FE;\n",
              "      border: none;\n",
              "      border-radius: 50%;\n",
              "      cursor: pointer;\n",
              "      display: none;\n",
              "      fill: #1967D2;\n",
              "      height: 32px;\n",
              "      padding: 0 0 0 0;\n",
              "      width: 32px;\n",
              "    }\n",
              "\n",
              "    .colab-df-convert:hover {\n",
              "      background-color: #E2EBFA;\n",
              "      box-shadow: 0px 1px 2px rgba(60, 64, 67, 0.3), 0px 1px 3px 1px rgba(60, 64, 67, 0.15);\n",
              "      fill: #174EA6;\n",
              "    }\n",
              "\n",
              "    .colab-df-buttons div {\n",
              "      margin-bottom: 4px;\n",
              "    }\n",
              "\n",
              "    [theme=dark] .colab-df-convert {\n",
              "      background-color: #3B4455;\n",
              "      fill: #D2E3FC;\n",
              "    }\n",
              "\n",
              "    [theme=dark] .colab-df-convert:hover {\n",
              "      background-color: #434B5C;\n",
              "      box-shadow: 0px 1px 3px 1px rgba(0, 0, 0, 0.15);\n",
              "      filter: drop-shadow(0px 1px 2px rgba(0, 0, 0, 0.3));\n",
              "      fill: #FFFFFF;\n",
              "    }\n",
              "  </style>\n",
              "\n",
              "    <script>\n",
              "      const buttonEl =\n",
              "        document.querySelector('#df-40d218b1-9073-4d1c-996f-04f6cabf47d0 button.colab-df-convert');\n",
              "      buttonEl.style.display =\n",
              "        google.colab.kernel.accessAllowed ? 'block' : 'none';\n",
              "\n",
              "      async function convertToInteractive(key) {\n",
              "        const element = document.querySelector('#df-40d218b1-9073-4d1c-996f-04f6cabf47d0');\n",
              "        const dataTable =\n",
              "          await google.colab.kernel.invokeFunction('convertToInteractive',\n",
              "                                                    [key], {});\n",
              "        if (!dataTable) return;\n",
              "\n",
              "        const docLinkHtml = 'Like what you see? Visit the ' +\n",
              "          '<a target=\"_blank\" href=https://colab.research.google.com/notebooks/data_table.ipynb>data table notebook</a>'\n",
              "          + ' to learn more about interactive tables.';\n",
              "        element.innerHTML = '';\n",
              "        dataTable['output_type'] = 'display_data';\n",
              "        await google.colab.output.renderOutput(dataTable, element);\n",
              "        const docLink = document.createElement('div');\n",
              "        docLink.innerHTML = docLinkHtml;\n",
              "        element.appendChild(docLink);\n",
              "      }\n",
              "    </script>\n",
              "  </div>\n",
              "\n",
              "\n",
              "<div id=\"df-f2805800-9775-4060-9e12-46f7c37fec93\">\n",
              "  <button class=\"colab-df-quickchart\" onclick=\"quickchart('df-f2805800-9775-4060-9e12-46f7c37fec93')\"\n",
              "            title=\"Suggest charts\"\n",
              "            style=\"display:none;\">\n",
              "\n",
              "<svg xmlns=\"http://www.w3.org/2000/svg\" height=\"24px\"viewBox=\"0 0 24 24\"\n",
              "     width=\"24px\">\n",
              "    <g>\n",
              "        <path d=\"M19 3H5c-1.1 0-2 .9-2 2v14c0 1.1.9 2 2 2h14c1.1 0 2-.9 2-2V5c0-1.1-.9-2-2-2zM9 17H7v-7h2v7zm4 0h-2V7h2v10zm4 0h-2v-4h2v4z\"/>\n",
              "    </g>\n",
              "</svg>\n",
              "  </button>\n",
              "\n",
              "<style>\n",
              "  .colab-df-quickchart {\n",
              "      --bg-color: #E8F0FE;\n",
              "      --fill-color: #1967D2;\n",
              "      --hover-bg-color: #E2EBFA;\n",
              "      --hover-fill-color: #174EA6;\n",
              "      --disabled-fill-color: #AAA;\n",
              "      --disabled-bg-color: #DDD;\n",
              "  }\n",
              "\n",
              "  [theme=dark] .colab-df-quickchart {\n",
              "      --bg-color: #3B4455;\n",
              "      --fill-color: #D2E3FC;\n",
              "      --hover-bg-color: #434B5C;\n",
              "      --hover-fill-color: #FFFFFF;\n",
              "      --disabled-bg-color: #3B4455;\n",
              "      --disabled-fill-color: #666;\n",
              "  }\n",
              "\n",
              "  .colab-df-quickchart {\n",
              "    background-color: var(--bg-color);\n",
              "    border: none;\n",
              "    border-radius: 50%;\n",
              "    cursor: pointer;\n",
              "    display: none;\n",
              "    fill: var(--fill-color);\n",
              "    height: 32px;\n",
              "    padding: 0;\n",
              "    width: 32px;\n",
              "  }\n",
              "\n",
              "  .colab-df-quickchart:hover {\n",
              "    background-color: var(--hover-bg-color);\n",
              "    box-shadow: 0 1px 2px rgba(60, 64, 67, 0.3), 0 1px 3px 1px rgba(60, 64, 67, 0.15);\n",
              "    fill: var(--button-hover-fill-color);\n",
              "  }\n",
              "\n",
              "  .colab-df-quickchart-complete:disabled,\n",
              "  .colab-df-quickchart-complete:disabled:hover {\n",
              "    background-color: var(--disabled-bg-color);\n",
              "    fill: var(--disabled-fill-color);\n",
              "    box-shadow: none;\n",
              "  }\n",
              "\n",
              "  .colab-df-spinner {\n",
              "    border: 2px solid var(--fill-color);\n",
              "    border-color: transparent;\n",
              "    border-bottom-color: var(--fill-color);\n",
              "    animation:\n",
              "      spin 1s steps(1) infinite;\n",
              "  }\n",
              "\n",
              "  @keyframes spin {\n",
              "    0% {\n",
              "      border-color: transparent;\n",
              "      border-bottom-color: var(--fill-color);\n",
              "      border-left-color: var(--fill-color);\n",
              "    }\n",
              "    20% {\n",
              "      border-color: transparent;\n",
              "      border-left-color: var(--fill-color);\n",
              "      border-top-color: var(--fill-color);\n",
              "    }\n",
              "    30% {\n",
              "      border-color: transparent;\n",
              "      border-left-color: var(--fill-color);\n",
              "      border-top-color: var(--fill-color);\n",
              "      border-right-color: var(--fill-color);\n",
              "    }\n",
              "    40% {\n",
              "      border-color: transparent;\n",
              "      border-right-color: var(--fill-color);\n",
              "      border-top-color: var(--fill-color);\n",
              "    }\n",
              "    60% {\n",
              "      border-color: transparent;\n",
              "      border-right-color: var(--fill-color);\n",
              "    }\n",
              "    80% {\n",
              "      border-color: transparent;\n",
              "      border-right-color: var(--fill-color);\n",
              "      border-bottom-color: var(--fill-color);\n",
              "    }\n",
              "    90% {\n",
              "      border-color: transparent;\n",
              "      border-bottom-color: var(--fill-color);\n",
              "    }\n",
              "  }\n",
              "</style>\n",
              "\n",
              "  <script>\n",
              "    async function quickchart(key) {\n",
              "      const quickchartButtonEl =\n",
              "        document.querySelector('#' + key + ' button');\n",
              "      quickchartButtonEl.disabled = true;  // To prevent multiple clicks.\n",
              "      quickchartButtonEl.classList.add('colab-df-spinner');\n",
              "      try {\n",
              "        const charts = await google.colab.kernel.invokeFunction(\n",
              "            'suggestCharts', [key], {});\n",
              "      } catch (error) {\n",
              "        console.error('Error during call to suggestCharts:', error);\n",
              "      }\n",
              "      quickchartButtonEl.classList.remove('colab-df-spinner');\n",
              "      quickchartButtonEl.classList.add('colab-df-quickchart-complete');\n",
              "    }\n",
              "    (() => {\n",
              "      let quickchartButtonEl =\n",
              "        document.querySelector('#df-f2805800-9775-4060-9e12-46f7c37fec93 button');\n",
              "      quickchartButtonEl.style.display =\n",
              "        google.colab.kernel.accessAllowed ? 'block' : 'none';\n",
              "    })();\n",
              "  </script>\n",
              "</div>\n",
              "    </div>\n",
              "  </div>\n"
            ]
          },
          "metadata": {},
          "execution_count": 8
        }
      ],
      "source": [
        "dt1 = dt.drop(columns = ['BK']).copy() # We will exclude BK as it is the categorical dependent variable.\n",
        "dt1.head()"
      ]
    },
    {
      "cell_type": "markdown",
      "id": "j4-DTA0SV3px",
      "metadata": {
        "id": "j4-DTA0SV3px"
      },
      "source": [
        "We need to replace null values and extreme outliers of numeric data with the mean."
      ]
    },
    {
      "cell_type": "code",
      "execution_count": 9,
      "id": "aUb1AsHaQrfg",
      "metadata": {
        "id": "aUb1AsHaQrfg"
      },
      "outputs": [],
      "source": [
        "def replace_outliers_and_nulls_with_mean(df):\n",
        "    replaced_df = df.copy()\n",
        "    for column in df.columns:\n",
        "        Q1 = df[column].quantile(0.25)\n",
        "        Q3 = df[column].quantile(0.75)\n",
        "        IQR = Q3 - Q1\n",
        "        lower_bound = Q1 - 3.0 * IQR\n",
        "        upper_bound = Q3 + 3.0 * IQR\n",
        "\n",
        "        # Replace extreme outliers with NaN\n",
        "        replaced_df[column] = replaced_df[column].apply(\n",
        "            lambda x: x if lower_bound <= x <= upper_bound else pd.NA\n",
        "        )\n",
        "\n",
        "        # Replace null values with the mean of the column\n",
        "        column_mean = replaced_df[column].mean()\n",
        "        replaced_df[column].fillna(column_mean, inplace=True)\n",
        "\n",
        "    return replaced_df\n"
      ]
    },
    {
      "cell_type": "code",
      "execution_count": 10,
      "id": "cAAVj41xRSjV",
      "metadata": {
        "colab": {
          "base_uri": "https://localhost:8080/"
        },
        "id": "cAAVj41xRSjV",
        "outputId": "dd291245-7ebc-4896-d336-6c4a19a48d89"
      },
      "outputs": [
        {
          "output_type": "execute_result",
          "data": {
            "text/plain": [
              "EPS                   0\n",
              "Liquidity             0\n",
              "Profitability         0\n",
              "Productivity          0\n",
              "Leverage Ratio        0\n",
              "Asset Turnover        0\n",
              "Operational Margin    0\n",
              "Return on Equity      0\n",
              "Market Book Ratio     0\n",
              "Assets Growth         0\n",
              "Sales Growth          0\n",
              "Employee Growth       0\n",
              "dtype: int64"
            ]
          },
          "metadata": {},
          "execution_count": 10
        }
      ],
      "source": [
        "dt1 = replace_outliers_and_nulls_with_mean(dt1)\n",
        "dt1.isnull().sum()"
      ]
    },
    {
      "cell_type": "code",
      "execution_count": 11,
      "id": "KD-rBL35Rbpw",
      "metadata": {
        "colab": {
          "base_uri": "https://localhost:8080/",
          "height": 223
        },
        "id": "KD-rBL35Rbpw",
        "outputId": "41ab8d11-7d8e-46d4-801e-348a8b94acbf"
      },
      "outputs": [
        {
          "output_type": "execute_result",
          "data": {
            "text/plain": [
              "    EPS  Liquidity  Profitability  Productivity  Leverage Ratio  \\\n",
              "0  1.58       0.36           0.18          0.13            1.33   \n",
              "1  1.41       0.36           0.19          0.12            1.31   \n",
              "2  0.31       0.32           0.13          0.08            1.03   \n",
              "3  0.71       0.28           0.14          0.08            0.80   \n",
              "4  0.75       0.41           0.13          0.08            0.20   \n",
              "\n",
              "   Asset Turnover  Operational Margin  Return on Equity  Market Book Ratio  \\\n",
              "0            1.77                0.07              0.15               2.22   \n",
              "1            1.59                0.07              0.13               2.41   \n",
              "2            1.55                0.05              0.04               2.56   \n",
              "3            1.39                0.06              0.05               5.28   \n",
              "4            1.30                0.06              0.04               8.68   \n",
              "\n",
              "   Assets Growth  Sales Growth  Employee Growth  \n",
              "0       0.055101      0.070823         0.032852  \n",
              "1       0.126319      0.014278         0.040179  \n",
              "2       0.368077      0.327909         0.566524  \n",
              "3      -0.020809     -0.118904        -0.095890  \n",
              "4       0.233089      0.146807         0.053030  "
            ],
            "text/html": [
              "\n",
              "  <div id=\"df-6c6d739e-6ed6-46cc-b22b-4363f55126fa\" class=\"colab-df-container\">\n",
              "    <div>\n",
              "<style scoped>\n",
              "    .dataframe tbody tr th:only-of-type {\n",
              "        vertical-align: middle;\n",
              "    }\n",
              "\n",
              "    .dataframe tbody tr th {\n",
              "        vertical-align: top;\n",
              "    }\n",
              "\n",
              "    .dataframe thead th {\n",
              "        text-align: right;\n",
              "    }\n",
              "</style>\n",
              "<table border=\"1\" class=\"dataframe\">\n",
              "  <thead>\n",
              "    <tr style=\"text-align: right;\">\n",
              "      <th></th>\n",
              "      <th>EPS</th>\n",
              "      <th>Liquidity</th>\n",
              "      <th>Profitability</th>\n",
              "      <th>Productivity</th>\n",
              "      <th>Leverage Ratio</th>\n",
              "      <th>Asset Turnover</th>\n",
              "      <th>Operational Margin</th>\n",
              "      <th>Return on Equity</th>\n",
              "      <th>Market Book Ratio</th>\n",
              "      <th>Assets Growth</th>\n",
              "      <th>Sales Growth</th>\n",
              "      <th>Employee Growth</th>\n",
              "    </tr>\n",
              "  </thead>\n",
              "  <tbody>\n",
              "    <tr>\n",
              "      <th>0</th>\n",
              "      <td>1.58</td>\n",
              "      <td>0.36</td>\n",
              "      <td>0.18</td>\n",
              "      <td>0.13</td>\n",
              "      <td>1.33</td>\n",
              "      <td>1.77</td>\n",
              "      <td>0.07</td>\n",
              "      <td>0.15</td>\n",
              "      <td>2.22</td>\n",
              "      <td>0.055101</td>\n",
              "      <td>0.070823</td>\n",
              "      <td>0.032852</td>\n",
              "    </tr>\n",
              "    <tr>\n",
              "      <th>1</th>\n",
              "      <td>1.41</td>\n",
              "      <td>0.36</td>\n",
              "      <td>0.19</td>\n",
              "      <td>0.12</td>\n",
              "      <td>1.31</td>\n",
              "      <td>1.59</td>\n",
              "      <td>0.07</td>\n",
              "      <td>0.13</td>\n",
              "      <td>2.41</td>\n",
              "      <td>0.126319</td>\n",
              "      <td>0.014278</td>\n",
              "      <td>0.040179</td>\n",
              "    </tr>\n",
              "    <tr>\n",
              "      <th>2</th>\n",
              "      <td>0.31</td>\n",
              "      <td>0.32</td>\n",
              "      <td>0.13</td>\n",
              "      <td>0.08</td>\n",
              "      <td>1.03</td>\n",
              "      <td>1.55</td>\n",
              "      <td>0.05</td>\n",
              "      <td>0.04</td>\n",
              "      <td>2.56</td>\n",
              "      <td>0.368077</td>\n",
              "      <td>0.327909</td>\n",
              "      <td>0.566524</td>\n",
              "    </tr>\n",
              "    <tr>\n",
              "      <th>3</th>\n",
              "      <td>0.71</td>\n",
              "      <td>0.28</td>\n",
              "      <td>0.14</td>\n",
              "      <td>0.08</td>\n",
              "      <td>0.80</td>\n",
              "      <td>1.39</td>\n",
              "      <td>0.06</td>\n",
              "      <td>0.05</td>\n",
              "      <td>5.28</td>\n",
              "      <td>-0.020809</td>\n",
              "      <td>-0.118904</td>\n",
              "      <td>-0.095890</td>\n",
              "    </tr>\n",
              "    <tr>\n",
              "      <th>4</th>\n",
              "      <td>0.75</td>\n",
              "      <td>0.41</td>\n",
              "      <td>0.13</td>\n",
              "      <td>0.08</td>\n",
              "      <td>0.20</td>\n",
              "      <td>1.30</td>\n",
              "      <td>0.06</td>\n",
              "      <td>0.04</td>\n",
              "      <td>8.68</td>\n",
              "      <td>0.233089</td>\n",
              "      <td>0.146807</td>\n",
              "      <td>0.053030</td>\n",
              "    </tr>\n",
              "  </tbody>\n",
              "</table>\n",
              "</div>\n",
              "    <div class=\"colab-df-buttons\">\n",
              "\n",
              "  <div class=\"colab-df-container\">\n",
              "    <button class=\"colab-df-convert\" onclick=\"convertToInteractive('df-6c6d739e-6ed6-46cc-b22b-4363f55126fa')\"\n",
              "            title=\"Convert this dataframe to an interactive table.\"\n",
              "            style=\"display:none;\">\n",
              "\n",
              "  <svg xmlns=\"http://www.w3.org/2000/svg\" height=\"24px\" viewBox=\"0 -960 960 960\">\n",
              "    <path d=\"M120-120v-720h720v720H120Zm60-500h600v-160H180v160Zm220 220h160v-160H400v160Zm0 220h160v-160H400v160ZM180-400h160v-160H180v160Zm440 0h160v-160H620v160ZM180-180h160v-160H180v160Zm440 0h160v-160H620v160Z\"/>\n",
              "  </svg>\n",
              "    </button>\n",
              "\n",
              "  <style>\n",
              "    .colab-df-container {\n",
              "      display:flex;\n",
              "      gap: 12px;\n",
              "    }\n",
              "\n",
              "    .colab-df-convert {\n",
              "      background-color: #E8F0FE;\n",
              "      border: none;\n",
              "      border-radius: 50%;\n",
              "      cursor: pointer;\n",
              "      display: none;\n",
              "      fill: #1967D2;\n",
              "      height: 32px;\n",
              "      padding: 0 0 0 0;\n",
              "      width: 32px;\n",
              "    }\n",
              "\n",
              "    .colab-df-convert:hover {\n",
              "      background-color: #E2EBFA;\n",
              "      box-shadow: 0px 1px 2px rgba(60, 64, 67, 0.3), 0px 1px 3px 1px rgba(60, 64, 67, 0.15);\n",
              "      fill: #174EA6;\n",
              "    }\n",
              "\n",
              "    .colab-df-buttons div {\n",
              "      margin-bottom: 4px;\n",
              "    }\n",
              "\n",
              "    [theme=dark] .colab-df-convert {\n",
              "      background-color: #3B4455;\n",
              "      fill: #D2E3FC;\n",
              "    }\n",
              "\n",
              "    [theme=dark] .colab-df-convert:hover {\n",
              "      background-color: #434B5C;\n",
              "      box-shadow: 0px 1px 3px 1px rgba(0, 0, 0, 0.15);\n",
              "      filter: drop-shadow(0px 1px 2px rgba(0, 0, 0, 0.3));\n",
              "      fill: #FFFFFF;\n",
              "    }\n",
              "  </style>\n",
              "\n",
              "    <script>\n",
              "      const buttonEl =\n",
              "        document.querySelector('#df-6c6d739e-6ed6-46cc-b22b-4363f55126fa button.colab-df-convert');\n",
              "      buttonEl.style.display =\n",
              "        google.colab.kernel.accessAllowed ? 'block' : 'none';\n",
              "\n",
              "      async function convertToInteractive(key) {\n",
              "        const element = document.querySelector('#df-6c6d739e-6ed6-46cc-b22b-4363f55126fa');\n",
              "        const dataTable =\n",
              "          await google.colab.kernel.invokeFunction('convertToInteractive',\n",
              "                                                    [key], {});\n",
              "        if (!dataTable) return;\n",
              "\n",
              "        const docLinkHtml = 'Like what you see? Visit the ' +\n",
              "          '<a target=\"_blank\" href=https://colab.research.google.com/notebooks/data_table.ipynb>data table notebook</a>'\n",
              "          + ' to learn more about interactive tables.';\n",
              "        element.innerHTML = '';\n",
              "        dataTable['output_type'] = 'display_data';\n",
              "        await google.colab.output.renderOutput(dataTable, element);\n",
              "        const docLink = document.createElement('div');\n",
              "        docLink.innerHTML = docLinkHtml;\n",
              "        element.appendChild(docLink);\n",
              "      }\n",
              "    </script>\n",
              "  </div>\n",
              "\n",
              "\n",
              "<div id=\"df-861925b6-0b9e-4cfd-8834-1a67af161958\">\n",
              "  <button class=\"colab-df-quickchart\" onclick=\"quickchart('df-861925b6-0b9e-4cfd-8834-1a67af161958')\"\n",
              "            title=\"Suggest charts\"\n",
              "            style=\"display:none;\">\n",
              "\n",
              "<svg xmlns=\"http://www.w3.org/2000/svg\" height=\"24px\"viewBox=\"0 0 24 24\"\n",
              "     width=\"24px\">\n",
              "    <g>\n",
              "        <path d=\"M19 3H5c-1.1 0-2 .9-2 2v14c0 1.1.9 2 2 2h14c1.1 0 2-.9 2-2V5c0-1.1-.9-2-2-2zM9 17H7v-7h2v7zm4 0h-2V7h2v10zm4 0h-2v-4h2v4z\"/>\n",
              "    </g>\n",
              "</svg>\n",
              "  </button>\n",
              "\n",
              "<style>\n",
              "  .colab-df-quickchart {\n",
              "      --bg-color: #E8F0FE;\n",
              "      --fill-color: #1967D2;\n",
              "      --hover-bg-color: #E2EBFA;\n",
              "      --hover-fill-color: #174EA6;\n",
              "      --disabled-fill-color: #AAA;\n",
              "      --disabled-bg-color: #DDD;\n",
              "  }\n",
              "\n",
              "  [theme=dark] .colab-df-quickchart {\n",
              "      --bg-color: #3B4455;\n",
              "      --fill-color: #D2E3FC;\n",
              "      --hover-bg-color: #434B5C;\n",
              "      --hover-fill-color: #FFFFFF;\n",
              "      --disabled-bg-color: #3B4455;\n",
              "      --disabled-fill-color: #666;\n",
              "  }\n",
              "\n",
              "  .colab-df-quickchart {\n",
              "    background-color: var(--bg-color);\n",
              "    border: none;\n",
              "    border-radius: 50%;\n",
              "    cursor: pointer;\n",
              "    display: none;\n",
              "    fill: var(--fill-color);\n",
              "    height: 32px;\n",
              "    padding: 0;\n",
              "    width: 32px;\n",
              "  }\n",
              "\n",
              "  .colab-df-quickchart:hover {\n",
              "    background-color: var(--hover-bg-color);\n",
              "    box-shadow: 0 1px 2px rgba(60, 64, 67, 0.3), 0 1px 3px 1px rgba(60, 64, 67, 0.15);\n",
              "    fill: var(--button-hover-fill-color);\n",
              "  }\n",
              "\n",
              "  .colab-df-quickchart-complete:disabled,\n",
              "  .colab-df-quickchart-complete:disabled:hover {\n",
              "    background-color: var(--disabled-bg-color);\n",
              "    fill: var(--disabled-fill-color);\n",
              "    box-shadow: none;\n",
              "  }\n",
              "\n",
              "  .colab-df-spinner {\n",
              "    border: 2px solid var(--fill-color);\n",
              "    border-color: transparent;\n",
              "    border-bottom-color: var(--fill-color);\n",
              "    animation:\n",
              "      spin 1s steps(1) infinite;\n",
              "  }\n",
              "\n",
              "  @keyframes spin {\n",
              "    0% {\n",
              "      border-color: transparent;\n",
              "      border-bottom-color: var(--fill-color);\n",
              "      border-left-color: var(--fill-color);\n",
              "    }\n",
              "    20% {\n",
              "      border-color: transparent;\n",
              "      border-left-color: var(--fill-color);\n",
              "      border-top-color: var(--fill-color);\n",
              "    }\n",
              "    30% {\n",
              "      border-color: transparent;\n",
              "      border-left-color: var(--fill-color);\n",
              "      border-top-color: var(--fill-color);\n",
              "      border-right-color: var(--fill-color);\n",
              "    }\n",
              "    40% {\n",
              "      border-color: transparent;\n",
              "      border-right-color: var(--fill-color);\n",
              "      border-top-color: var(--fill-color);\n",
              "    }\n",
              "    60% {\n",
              "      border-color: transparent;\n",
              "      border-right-color: var(--fill-color);\n",
              "    }\n",
              "    80% {\n",
              "      border-color: transparent;\n",
              "      border-right-color: var(--fill-color);\n",
              "      border-bottom-color: var(--fill-color);\n",
              "    }\n",
              "    90% {\n",
              "      border-color: transparent;\n",
              "      border-bottom-color: var(--fill-color);\n",
              "    }\n",
              "  }\n",
              "</style>\n",
              "\n",
              "  <script>\n",
              "    async function quickchart(key) {\n",
              "      const quickchartButtonEl =\n",
              "        document.querySelector('#' + key + ' button');\n",
              "      quickchartButtonEl.disabled = true;  // To prevent multiple clicks.\n",
              "      quickchartButtonEl.classList.add('colab-df-spinner');\n",
              "      try {\n",
              "        const charts = await google.colab.kernel.invokeFunction(\n",
              "            'suggestCharts', [key], {});\n",
              "      } catch (error) {\n",
              "        console.error('Error during call to suggestCharts:', error);\n",
              "      }\n",
              "      quickchartButtonEl.classList.remove('colab-df-spinner');\n",
              "      quickchartButtonEl.classList.add('colab-df-quickchart-complete');\n",
              "    }\n",
              "    (() => {\n",
              "      let quickchartButtonEl =\n",
              "        document.querySelector('#df-861925b6-0b9e-4cfd-8834-1a67af161958 button');\n",
              "      quickchartButtonEl.style.display =\n",
              "        google.colab.kernel.accessAllowed ? 'block' : 'none';\n",
              "    })();\n",
              "  </script>\n",
              "</div>\n",
              "    </div>\n",
              "  </div>\n"
            ]
          },
          "metadata": {},
          "execution_count": 11
        }
      ],
      "source": [
        "dt1.head()"
      ]
    },
    {
      "cell_type": "code",
      "execution_count": null,
      "id": "g4fTj02YReG8",
      "metadata": {
        "colab": {
          "base_uri": "https://localhost:8080/"
        },
        "id": "g4fTj02YReG8",
        "outputId": "74afdbb2-5cf4-44a1-e98a-24ecfa17b405"
      },
      "outputs": [
        {
          "data": {
            "text/plain": [
              "(92872, 12)"
            ]
          },
          "execution_count": 57,
          "metadata": {},
          "output_type": "execute_result"
        }
      ],
      "source": [
        "dt1.shape"
      ]
    },
    {
      "cell_type": "code",
      "execution_count": 23,
      "id": "3Uo4SGwBal-o",
      "metadata": {
        "id": "3Uo4SGwBal-o"
      },
      "outputs": [],
      "source": [
        "X = dt1"
      ]
    },
    {
      "cell_type": "code",
      "execution_count": null,
      "id": "IbbIMg_qSlX-",
      "metadata": {
        "colab": {
          "base_uri": "https://localhost:8080/"
        },
        "id": "IbbIMg_qSlX-",
        "outputId": "69ea5b22-055c-4c30-9c4a-d1bec7f60453"
      },
      "outputs": [
        {
          "data": {
            "text/plain": [
              "(92872,)"
            ]
          },
          "execution_count": 59,
          "metadata": {},
          "output_type": "execute_result"
        }
      ],
      "source": [
        "y.shape"
      ]
    },
    {
      "cell_type": "code",
      "execution_count": 12,
      "id": "gjOOxo1OSnHZ",
      "metadata": {
        "colab": {
          "base_uri": "https://localhost:8080/",
          "height": 223
        },
        "id": "gjOOxo1OSnHZ",
        "outputId": "0b35d738-0e81-40e9-e007-18fecd8cb505"
      },
      "outputs": [
        {
          "output_type": "execute_result",
          "data": {
            "text/plain": [
              "    EPS  Liquidity  Profitability  Productivity  Leverage Ratio  \\\n",
              "0  1.58       0.36           0.18          0.13            1.33   \n",
              "1  1.41       0.36           0.19          0.12            1.31   \n",
              "2  0.31       0.32           0.13          0.08            1.03   \n",
              "3  0.71       0.28           0.14          0.08            0.80   \n",
              "4  0.75       0.41           0.13          0.08            0.20   \n",
              "\n",
              "   Asset Turnover  Operational Margin  Return on Equity  Market Book Ratio  \\\n",
              "0            1.77                0.07              0.15               2.22   \n",
              "1            1.59                0.07              0.13               2.41   \n",
              "2            1.55                0.05              0.04               2.56   \n",
              "3            1.39                0.06              0.05               5.28   \n",
              "4            1.30                0.06              0.04               8.68   \n",
              "\n",
              "   Assets Growth  Sales Growth  Employee Growth  BK  \n",
              "0       0.055101      0.070823         0.032852   0  \n",
              "1       0.126319      0.014278         0.040179   0  \n",
              "2       0.368077      0.327909         0.566524   0  \n",
              "3      -0.020809     -0.118904        -0.095890   0  \n",
              "4       0.233089      0.146807         0.053030   0  "
            ],
            "text/html": [
              "\n",
              "  <div id=\"df-6450681d-d17f-4ee4-b035-1250ba146c5a\" class=\"colab-df-container\">\n",
              "    <div>\n",
              "<style scoped>\n",
              "    .dataframe tbody tr th:only-of-type {\n",
              "        vertical-align: middle;\n",
              "    }\n",
              "\n",
              "    .dataframe tbody tr th {\n",
              "        vertical-align: top;\n",
              "    }\n",
              "\n",
              "    .dataframe thead th {\n",
              "        text-align: right;\n",
              "    }\n",
              "</style>\n",
              "<table border=\"1\" class=\"dataframe\">\n",
              "  <thead>\n",
              "    <tr style=\"text-align: right;\">\n",
              "      <th></th>\n",
              "      <th>EPS</th>\n",
              "      <th>Liquidity</th>\n",
              "      <th>Profitability</th>\n",
              "      <th>Productivity</th>\n",
              "      <th>Leverage Ratio</th>\n",
              "      <th>Asset Turnover</th>\n",
              "      <th>Operational Margin</th>\n",
              "      <th>Return on Equity</th>\n",
              "      <th>Market Book Ratio</th>\n",
              "      <th>Assets Growth</th>\n",
              "      <th>Sales Growth</th>\n",
              "      <th>Employee Growth</th>\n",
              "      <th>BK</th>\n",
              "    </tr>\n",
              "  </thead>\n",
              "  <tbody>\n",
              "    <tr>\n",
              "      <th>0</th>\n",
              "      <td>1.58</td>\n",
              "      <td>0.36</td>\n",
              "      <td>0.18</td>\n",
              "      <td>0.13</td>\n",
              "      <td>1.33</td>\n",
              "      <td>1.77</td>\n",
              "      <td>0.07</td>\n",
              "      <td>0.15</td>\n",
              "      <td>2.22</td>\n",
              "      <td>0.055101</td>\n",
              "      <td>0.070823</td>\n",
              "      <td>0.032852</td>\n",
              "      <td>0</td>\n",
              "    </tr>\n",
              "    <tr>\n",
              "      <th>1</th>\n",
              "      <td>1.41</td>\n",
              "      <td>0.36</td>\n",
              "      <td>0.19</td>\n",
              "      <td>0.12</td>\n",
              "      <td>1.31</td>\n",
              "      <td>1.59</td>\n",
              "      <td>0.07</td>\n",
              "      <td>0.13</td>\n",
              "      <td>2.41</td>\n",
              "      <td>0.126319</td>\n",
              "      <td>0.014278</td>\n",
              "      <td>0.040179</td>\n",
              "      <td>0</td>\n",
              "    </tr>\n",
              "    <tr>\n",
              "      <th>2</th>\n",
              "      <td>0.31</td>\n",
              "      <td>0.32</td>\n",
              "      <td>0.13</td>\n",
              "      <td>0.08</td>\n",
              "      <td>1.03</td>\n",
              "      <td>1.55</td>\n",
              "      <td>0.05</td>\n",
              "      <td>0.04</td>\n",
              "      <td>2.56</td>\n",
              "      <td>0.368077</td>\n",
              "      <td>0.327909</td>\n",
              "      <td>0.566524</td>\n",
              "      <td>0</td>\n",
              "    </tr>\n",
              "    <tr>\n",
              "      <th>3</th>\n",
              "      <td>0.71</td>\n",
              "      <td>0.28</td>\n",
              "      <td>0.14</td>\n",
              "      <td>0.08</td>\n",
              "      <td>0.80</td>\n",
              "      <td>1.39</td>\n",
              "      <td>0.06</td>\n",
              "      <td>0.05</td>\n",
              "      <td>5.28</td>\n",
              "      <td>-0.020809</td>\n",
              "      <td>-0.118904</td>\n",
              "      <td>-0.095890</td>\n",
              "      <td>0</td>\n",
              "    </tr>\n",
              "    <tr>\n",
              "      <th>4</th>\n",
              "      <td>0.75</td>\n",
              "      <td>0.41</td>\n",
              "      <td>0.13</td>\n",
              "      <td>0.08</td>\n",
              "      <td>0.20</td>\n",
              "      <td>1.30</td>\n",
              "      <td>0.06</td>\n",
              "      <td>0.04</td>\n",
              "      <td>8.68</td>\n",
              "      <td>0.233089</td>\n",
              "      <td>0.146807</td>\n",
              "      <td>0.053030</td>\n",
              "      <td>0</td>\n",
              "    </tr>\n",
              "  </tbody>\n",
              "</table>\n",
              "</div>\n",
              "    <div class=\"colab-df-buttons\">\n",
              "\n",
              "  <div class=\"colab-df-container\">\n",
              "    <button class=\"colab-df-convert\" onclick=\"convertToInteractive('df-6450681d-d17f-4ee4-b035-1250ba146c5a')\"\n",
              "            title=\"Convert this dataframe to an interactive table.\"\n",
              "            style=\"display:none;\">\n",
              "\n",
              "  <svg xmlns=\"http://www.w3.org/2000/svg\" height=\"24px\" viewBox=\"0 -960 960 960\">\n",
              "    <path d=\"M120-120v-720h720v720H120Zm60-500h600v-160H180v160Zm220 220h160v-160H400v160Zm0 220h160v-160H400v160ZM180-400h160v-160H180v160Zm440 0h160v-160H620v160ZM180-180h160v-160H180v160Zm440 0h160v-160H620v160Z\"/>\n",
              "  </svg>\n",
              "    </button>\n",
              "\n",
              "  <style>\n",
              "    .colab-df-container {\n",
              "      display:flex;\n",
              "      gap: 12px;\n",
              "    }\n",
              "\n",
              "    .colab-df-convert {\n",
              "      background-color: #E8F0FE;\n",
              "      border: none;\n",
              "      border-radius: 50%;\n",
              "      cursor: pointer;\n",
              "      display: none;\n",
              "      fill: #1967D2;\n",
              "      height: 32px;\n",
              "      padding: 0 0 0 0;\n",
              "      width: 32px;\n",
              "    }\n",
              "\n",
              "    .colab-df-convert:hover {\n",
              "      background-color: #E2EBFA;\n",
              "      box-shadow: 0px 1px 2px rgba(60, 64, 67, 0.3), 0px 1px 3px 1px rgba(60, 64, 67, 0.15);\n",
              "      fill: #174EA6;\n",
              "    }\n",
              "\n",
              "    .colab-df-buttons div {\n",
              "      margin-bottom: 4px;\n",
              "    }\n",
              "\n",
              "    [theme=dark] .colab-df-convert {\n",
              "      background-color: #3B4455;\n",
              "      fill: #D2E3FC;\n",
              "    }\n",
              "\n",
              "    [theme=dark] .colab-df-convert:hover {\n",
              "      background-color: #434B5C;\n",
              "      box-shadow: 0px 1px 3px 1px rgba(0, 0, 0, 0.15);\n",
              "      filter: drop-shadow(0px 1px 2px rgba(0, 0, 0, 0.3));\n",
              "      fill: #FFFFFF;\n",
              "    }\n",
              "  </style>\n",
              "\n",
              "    <script>\n",
              "      const buttonEl =\n",
              "        document.querySelector('#df-6450681d-d17f-4ee4-b035-1250ba146c5a button.colab-df-convert');\n",
              "      buttonEl.style.display =\n",
              "        google.colab.kernel.accessAllowed ? 'block' : 'none';\n",
              "\n",
              "      async function convertToInteractive(key) {\n",
              "        const element = document.querySelector('#df-6450681d-d17f-4ee4-b035-1250ba146c5a');\n",
              "        const dataTable =\n",
              "          await google.colab.kernel.invokeFunction('convertToInteractive',\n",
              "                                                    [key], {});\n",
              "        if (!dataTable) return;\n",
              "\n",
              "        const docLinkHtml = 'Like what you see? Visit the ' +\n",
              "          '<a target=\"_blank\" href=https://colab.research.google.com/notebooks/data_table.ipynb>data table notebook</a>'\n",
              "          + ' to learn more about interactive tables.';\n",
              "        element.innerHTML = '';\n",
              "        dataTable['output_type'] = 'display_data';\n",
              "        await google.colab.output.renderOutput(dataTable, element);\n",
              "        const docLink = document.createElement('div');\n",
              "        docLink.innerHTML = docLinkHtml;\n",
              "        element.appendChild(docLink);\n",
              "      }\n",
              "    </script>\n",
              "  </div>\n",
              "\n",
              "\n",
              "<div id=\"df-e8e7559f-1367-4085-8d63-bea0ef7755e4\">\n",
              "  <button class=\"colab-df-quickchart\" onclick=\"quickchart('df-e8e7559f-1367-4085-8d63-bea0ef7755e4')\"\n",
              "            title=\"Suggest charts\"\n",
              "            style=\"display:none;\">\n",
              "\n",
              "<svg xmlns=\"http://www.w3.org/2000/svg\" height=\"24px\"viewBox=\"0 0 24 24\"\n",
              "     width=\"24px\">\n",
              "    <g>\n",
              "        <path d=\"M19 3H5c-1.1 0-2 .9-2 2v14c0 1.1.9 2 2 2h14c1.1 0 2-.9 2-2V5c0-1.1-.9-2-2-2zM9 17H7v-7h2v7zm4 0h-2V7h2v10zm4 0h-2v-4h2v4z\"/>\n",
              "    </g>\n",
              "</svg>\n",
              "  </button>\n",
              "\n",
              "<style>\n",
              "  .colab-df-quickchart {\n",
              "      --bg-color: #E8F0FE;\n",
              "      --fill-color: #1967D2;\n",
              "      --hover-bg-color: #E2EBFA;\n",
              "      --hover-fill-color: #174EA6;\n",
              "      --disabled-fill-color: #AAA;\n",
              "      --disabled-bg-color: #DDD;\n",
              "  }\n",
              "\n",
              "  [theme=dark] .colab-df-quickchart {\n",
              "      --bg-color: #3B4455;\n",
              "      --fill-color: #D2E3FC;\n",
              "      --hover-bg-color: #434B5C;\n",
              "      --hover-fill-color: #FFFFFF;\n",
              "      --disabled-bg-color: #3B4455;\n",
              "      --disabled-fill-color: #666;\n",
              "  }\n",
              "\n",
              "  .colab-df-quickchart {\n",
              "    background-color: var(--bg-color);\n",
              "    border: none;\n",
              "    border-radius: 50%;\n",
              "    cursor: pointer;\n",
              "    display: none;\n",
              "    fill: var(--fill-color);\n",
              "    height: 32px;\n",
              "    padding: 0;\n",
              "    width: 32px;\n",
              "  }\n",
              "\n",
              "  .colab-df-quickchart:hover {\n",
              "    background-color: var(--hover-bg-color);\n",
              "    box-shadow: 0 1px 2px rgba(60, 64, 67, 0.3), 0 1px 3px 1px rgba(60, 64, 67, 0.15);\n",
              "    fill: var(--button-hover-fill-color);\n",
              "  }\n",
              "\n",
              "  .colab-df-quickchart-complete:disabled,\n",
              "  .colab-df-quickchart-complete:disabled:hover {\n",
              "    background-color: var(--disabled-bg-color);\n",
              "    fill: var(--disabled-fill-color);\n",
              "    box-shadow: none;\n",
              "  }\n",
              "\n",
              "  .colab-df-spinner {\n",
              "    border: 2px solid var(--fill-color);\n",
              "    border-color: transparent;\n",
              "    border-bottom-color: var(--fill-color);\n",
              "    animation:\n",
              "      spin 1s steps(1) infinite;\n",
              "  }\n",
              "\n",
              "  @keyframes spin {\n",
              "    0% {\n",
              "      border-color: transparent;\n",
              "      border-bottom-color: var(--fill-color);\n",
              "      border-left-color: var(--fill-color);\n",
              "    }\n",
              "    20% {\n",
              "      border-color: transparent;\n",
              "      border-left-color: var(--fill-color);\n",
              "      border-top-color: var(--fill-color);\n",
              "    }\n",
              "    30% {\n",
              "      border-color: transparent;\n",
              "      border-left-color: var(--fill-color);\n",
              "      border-top-color: var(--fill-color);\n",
              "      border-right-color: var(--fill-color);\n",
              "    }\n",
              "    40% {\n",
              "      border-color: transparent;\n",
              "      border-right-color: var(--fill-color);\n",
              "      border-top-color: var(--fill-color);\n",
              "    }\n",
              "    60% {\n",
              "      border-color: transparent;\n",
              "      border-right-color: var(--fill-color);\n",
              "    }\n",
              "    80% {\n",
              "      border-color: transparent;\n",
              "      border-right-color: var(--fill-color);\n",
              "      border-bottom-color: var(--fill-color);\n",
              "    }\n",
              "    90% {\n",
              "      border-color: transparent;\n",
              "      border-bottom-color: var(--fill-color);\n",
              "    }\n",
              "  }\n",
              "</style>\n",
              "\n",
              "  <script>\n",
              "    async function quickchart(key) {\n",
              "      const quickchartButtonEl =\n",
              "        document.querySelector('#' + key + ' button');\n",
              "      quickchartButtonEl.disabled = true;  // To prevent multiple clicks.\n",
              "      quickchartButtonEl.classList.add('colab-df-spinner');\n",
              "      try {\n",
              "        const charts = await google.colab.kernel.invokeFunction(\n",
              "            'suggestCharts', [key], {});\n",
              "      } catch (error) {\n",
              "        console.error('Error during call to suggestCharts:', error);\n",
              "      }\n",
              "      quickchartButtonEl.classList.remove('colab-df-spinner');\n",
              "      quickchartButtonEl.classList.add('colab-df-quickchart-complete');\n",
              "    }\n",
              "    (() => {\n",
              "      let quickchartButtonEl =\n",
              "        document.querySelector('#df-e8e7559f-1367-4085-8d63-bea0ef7755e4 button');\n",
              "      quickchartButtonEl.style.display =\n",
              "        google.colab.kernel.accessAllowed ? 'block' : 'none';\n",
              "    })();\n",
              "  </script>\n",
              "</div>\n",
              "    </div>\n",
              "  </div>\n"
            ]
          },
          "metadata": {},
          "execution_count": 12
        }
      ],
      "source": [
        "data = pd.DataFrame()\n",
        "data = pd.concat([data, dt1, y], axis = 1)\n",
        "data.head()"
      ]
    },
    {
      "cell_type": "markdown",
      "id": "kzpkwNArTn6O",
      "metadata": {
        "id": "kzpkwNArTn6O"
      },
      "source": [
        "Now the dataframe is ready for modeling :)"
      ]
    },
    {
      "cell_type": "code",
      "execution_count": 13,
      "id": "Qi9MCBMuTeES",
      "metadata": {
        "colab": {
          "base_uri": "https://localhost:8080/"
        },
        "id": "Qi9MCBMuTeES",
        "outputId": "c56dbd39-3b4e-40ff-bca2-6552768e52ac"
      },
      "outputs": [
        {
          "output_type": "execute_result",
          "data": {
            "text/plain": [
              "pandas.core.frame.DataFrame"
            ]
          },
          "metadata": {},
          "execution_count": 13
        }
      ],
      "source": [
        "fd = data\n",
        "type(fd)"
      ]
    },
    {
      "cell_type": "code",
      "execution_count": 14,
      "id": "dUKOzNSbY1Zc",
      "metadata": {
        "id": "dUKOzNSbY1Zc"
      },
      "outputs": [],
      "source": [
        "import plotly.graph_objects as go"
      ]
    },
    {
      "cell_type": "code",
      "execution_count": 15,
      "id": "vZufWcUngCLY",
      "metadata": {
        "id": "vZufWcUngCLY"
      },
      "outputs": [],
      "source": [
        "fd['BK'] = fd['BK'].replace({0: 'No', 1: 'Yes'})"
      ]
    },
    {
      "cell_type": "code",
      "execution_count": 16,
      "id": "PBxdp39rd1d2",
      "metadata": {
        "id": "PBxdp39rd1d2"
      },
      "outputs": [],
      "source": [
        "value_counts = fd['BK'].value_counts()"
      ]
    },
    {
      "cell_type": "code",
      "execution_count": 17,
      "id": "mJdQlM4hZINZ",
      "metadata": {
        "colab": {
          "base_uri": "https://localhost:8080/",
          "height": 542
        },
        "id": "mJdQlM4hZINZ",
        "outputId": "9683faf0-9732-4b60-927c-ddd89ae5bb3a"
      },
      "outputs": [
        {
          "output_type": "display_data",
          "data": {
            "text/html": [
              "<html>\n",
              "<head><meta charset=\"utf-8\" /></head>\n",
              "<body>\n",
              "    <div>            <script src=\"https://cdnjs.cloudflare.com/ajax/libs/mathjax/2.7.5/MathJax.js?config=TeX-AMS-MML_SVG\"></script><script type=\"text/javascript\">if (window.MathJax && window.MathJax.Hub && window.MathJax.Hub.Config) {window.MathJax.Hub.Config({SVG: {font: \"STIX-Web\"}});}</script>                <script type=\"text/javascript\">window.PlotlyConfig = {MathJaxConfig: 'local'};</script>\n",
              "        <script charset=\"utf-8\" src=\"https://cdn.plot.ly/plotly-2.24.1.min.js\"></script>                <div id=\"e05f1886-39a7-468f-b9b6-c921d1ba2bcd\" class=\"plotly-graph-div\" style=\"height:525px; width:100%;\"></div>            <script type=\"text/javascript\">                                    window.PLOTLYENV=window.PLOTLYENV || {};                                    if (document.getElementById(\"e05f1886-39a7-468f-b9b6-c921d1ba2bcd\")) {                    Plotly.newPlot(                        \"e05f1886-39a7-468f-b9b6-c921d1ba2bcd\",                        [{\"alignmentgroup\":\"True\",\"hovertemplate\":\"Bankrupcy=%{x}\\u003cbr\\u003eCount=%{y}\\u003cbr\\u003etext=%{text}\\u003cextra\\u003e\\u003c\\u002fextra\\u003e\",\"legendgroup\":\"\",\"marker\":{\"color\":\"#636efa\",\"pattern\":{\"shape\":\"\"}},\"name\":\"\",\"offsetgroup\":\"\",\"orientation\":\"v\",\"showlegend\":false,\"text\":[92314.0,558.0],\"textposition\":\"outside\",\"x\":[\"No\",\"Yes\"],\"xaxis\":\"x\",\"y\":[92314,558],\"yaxis\":\"y\",\"type\":\"bar\",\"texttemplate\":\"%{text}\"}],                        {\"template\":{\"data\":{\"histogram2dcontour\":[{\"type\":\"histogram2dcontour\",\"colorbar\":{\"outlinewidth\":0,\"ticks\":\"\"},\"colorscale\":[[0.0,\"#0d0887\"],[0.1111111111111111,\"#46039f\"],[0.2222222222222222,\"#7201a8\"],[0.3333333333333333,\"#9c179e\"],[0.4444444444444444,\"#bd3786\"],[0.5555555555555556,\"#d8576b\"],[0.6666666666666666,\"#ed7953\"],[0.7777777777777778,\"#fb9f3a\"],[0.8888888888888888,\"#fdca26\"],[1.0,\"#f0f921\"]]}],\"choropleth\":[{\"type\":\"choropleth\",\"colorbar\":{\"outlinewidth\":0,\"ticks\":\"\"}}],\"histogram2d\":[{\"type\":\"histogram2d\",\"colorbar\":{\"outlinewidth\":0,\"ticks\":\"\"},\"colorscale\":[[0.0,\"#0d0887\"],[0.1111111111111111,\"#46039f\"],[0.2222222222222222,\"#7201a8\"],[0.3333333333333333,\"#9c179e\"],[0.4444444444444444,\"#bd3786\"],[0.5555555555555556,\"#d8576b\"],[0.6666666666666666,\"#ed7953\"],[0.7777777777777778,\"#fb9f3a\"],[0.8888888888888888,\"#fdca26\"],[1.0,\"#f0f921\"]]}],\"heatmap\":[{\"type\":\"heatmap\",\"colorbar\":{\"outlinewidth\":0,\"ticks\":\"\"},\"colorscale\":[[0.0,\"#0d0887\"],[0.1111111111111111,\"#46039f\"],[0.2222222222222222,\"#7201a8\"],[0.3333333333333333,\"#9c179e\"],[0.4444444444444444,\"#bd3786\"],[0.5555555555555556,\"#d8576b\"],[0.6666666666666666,\"#ed7953\"],[0.7777777777777778,\"#fb9f3a\"],[0.8888888888888888,\"#fdca26\"],[1.0,\"#f0f921\"]]}],\"heatmapgl\":[{\"type\":\"heatmapgl\",\"colorbar\":{\"outlinewidth\":0,\"ticks\":\"\"},\"colorscale\":[[0.0,\"#0d0887\"],[0.1111111111111111,\"#46039f\"],[0.2222222222222222,\"#7201a8\"],[0.3333333333333333,\"#9c179e\"],[0.4444444444444444,\"#bd3786\"],[0.5555555555555556,\"#d8576b\"],[0.6666666666666666,\"#ed7953\"],[0.7777777777777778,\"#fb9f3a\"],[0.8888888888888888,\"#fdca26\"],[1.0,\"#f0f921\"]]}],\"contourcarpet\":[{\"type\":\"contourcarpet\",\"colorbar\":{\"outlinewidth\":0,\"ticks\":\"\"}}],\"contour\":[{\"type\":\"contour\",\"colorbar\":{\"outlinewidth\":0,\"ticks\":\"\"},\"colorscale\":[[0.0,\"#0d0887\"],[0.1111111111111111,\"#46039f\"],[0.2222222222222222,\"#7201a8\"],[0.3333333333333333,\"#9c179e\"],[0.4444444444444444,\"#bd3786\"],[0.5555555555555556,\"#d8576b\"],[0.6666666666666666,\"#ed7953\"],[0.7777777777777778,\"#fb9f3a\"],[0.8888888888888888,\"#fdca26\"],[1.0,\"#f0f921\"]]}],\"surface\":[{\"type\":\"surface\",\"colorbar\":{\"outlinewidth\":0,\"ticks\":\"\"},\"colorscale\":[[0.0,\"#0d0887\"],[0.1111111111111111,\"#46039f\"],[0.2222222222222222,\"#7201a8\"],[0.3333333333333333,\"#9c179e\"],[0.4444444444444444,\"#bd3786\"],[0.5555555555555556,\"#d8576b\"],[0.6666666666666666,\"#ed7953\"],[0.7777777777777778,\"#fb9f3a\"],[0.8888888888888888,\"#fdca26\"],[1.0,\"#f0f921\"]]}],\"mesh3d\":[{\"type\":\"mesh3d\",\"colorbar\":{\"outlinewidth\":0,\"ticks\":\"\"}}],\"scatter\":[{\"fillpattern\":{\"fillmode\":\"overlay\",\"size\":10,\"solidity\":0.2},\"type\":\"scatter\"}],\"parcoords\":[{\"type\":\"parcoords\",\"line\":{\"colorbar\":{\"outlinewidth\":0,\"ticks\":\"\"}}}],\"scatterpolargl\":[{\"type\":\"scatterpolargl\",\"marker\":{\"colorbar\":{\"outlinewidth\":0,\"ticks\":\"\"}}}],\"bar\":[{\"error_x\":{\"color\":\"#2a3f5f\"},\"error_y\":{\"color\":\"#2a3f5f\"},\"marker\":{\"line\":{\"color\":\"#E5ECF6\",\"width\":0.5},\"pattern\":{\"fillmode\":\"overlay\",\"size\":10,\"solidity\":0.2}},\"type\":\"bar\"}],\"scattergeo\":[{\"type\":\"scattergeo\",\"marker\":{\"colorbar\":{\"outlinewidth\":0,\"ticks\":\"\"}}}],\"scatterpolar\":[{\"type\":\"scatterpolar\",\"marker\":{\"colorbar\":{\"outlinewidth\":0,\"ticks\":\"\"}}}],\"histogram\":[{\"marker\":{\"pattern\":{\"fillmode\":\"overlay\",\"size\":10,\"solidity\":0.2}},\"type\":\"histogram\"}],\"scattergl\":[{\"type\":\"scattergl\",\"marker\":{\"colorbar\":{\"outlinewidth\":0,\"ticks\":\"\"}}}],\"scatter3d\":[{\"type\":\"scatter3d\",\"line\":{\"colorbar\":{\"outlinewidth\":0,\"ticks\":\"\"}},\"marker\":{\"colorbar\":{\"outlinewidth\":0,\"ticks\":\"\"}}}],\"scattermapbox\":[{\"type\":\"scattermapbox\",\"marker\":{\"colorbar\":{\"outlinewidth\":0,\"ticks\":\"\"}}}],\"scatterternary\":[{\"type\":\"scatterternary\",\"marker\":{\"colorbar\":{\"outlinewidth\":0,\"ticks\":\"\"}}}],\"scattercarpet\":[{\"type\":\"scattercarpet\",\"marker\":{\"colorbar\":{\"outlinewidth\":0,\"ticks\":\"\"}}}],\"carpet\":[{\"aaxis\":{\"endlinecolor\":\"#2a3f5f\",\"gridcolor\":\"white\",\"linecolor\":\"white\",\"minorgridcolor\":\"white\",\"startlinecolor\":\"#2a3f5f\"},\"baxis\":{\"endlinecolor\":\"#2a3f5f\",\"gridcolor\":\"white\",\"linecolor\":\"white\",\"minorgridcolor\":\"white\",\"startlinecolor\":\"#2a3f5f\"},\"type\":\"carpet\"}],\"table\":[{\"cells\":{\"fill\":{\"color\":\"#EBF0F8\"},\"line\":{\"color\":\"white\"}},\"header\":{\"fill\":{\"color\":\"#C8D4E3\"},\"line\":{\"color\":\"white\"}},\"type\":\"table\"}],\"barpolar\":[{\"marker\":{\"line\":{\"color\":\"#E5ECF6\",\"width\":0.5},\"pattern\":{\"fillmode\":\"overlay\",\"size\":10,\"solidity\":0.2}},\"type\":\"barpolar\"}],\"pie\":[{\"automargin\":true,\"type\":\"pie\"}]},\"layout\":{\"autotypenumbers\":\"strict\",\"colorway\":[\"#636efa\",\"#EF553B\",\"#00cc96\",\"#ab63fa\",\"#FFA15A\",\"#19d3f3\",\"#FF6692\",\"#B6E880\",\"#FF97FF\",\"#FECB52\"],\"font\":{\"color\":\"#2a3f5f\"},\"hovermode\":\"closest\",\"hoverlabel\":{\"align\":\"left\"},\"paper_bgcolor\":\"white\",\"plot_bgcolor\":\"#E5ECF6\",\"polar\":{\"bgcolor\":\"#E5ECF6\",\"angularaxis\":{\"gridcolor\":\"white\",\"linecolor\":\"white\",\"ticks\":\"\"},\"radialaxis\":{\"gridcolor\":\"white\",\"linecolor\":\"white\",\"ticks\":\"\"}},\"ternary\":{\"bgcolor\":\"#E5ECF6\",\"aaxis\":{\"gridcolor\":\"white\",\"linecolor\":\"white\",\"ticks\":\"\"},\"baxis\":{\"gridcolor\":\"white\",\"linecolor\":\"white\",\"ticks\":\"\"},\"caxis\":{\"gridcolor\":\"white\",\"linecolor\":\"white\",\"ticks\":\"\"}},\"coloraxis\":{\"colorbar\":{\"outlinewidth\":0,\"ticks\":\"\"}},\"colorscale\":{\"sequential\":[[0.0,\"#0d0887\"],[0.1111111111111111,\"#46039f\"],[0.2222222222222222,\"#7201a8\"],[0.3333333333333333,\"#9c179e\"],[0.4444444444444444,\"#bd3786\"],[0.5555555555555556,\"#d8576b\"],[0.6666666666666666,\"#ed7953\"],[0.7777777777777778,\"#fb9f3a\"],[0.8888888888888888,\"#fdca26\"],[1.0,\"#f0f921\"]],\"sequentialminus\":[[0.0,\"#0d0887\"],[0.1111111111111111,\"#46039f\"],[0.2222222222222222,\"#7201a8\"],[0.3333333333333333,\"#9c179e\"],[0.4444444444444444,\"#bd3786\"],[0.5555555555555556,\"#d8576b\"],[0.6666666666666666,\"#ed7953\"],[0.7777777777777778,\"#fb9f3a\"],[0.8888888888888888,\"#fdca26\"],[1.0,\"#f0f921\"]],\"diverging\":[[0,\"#8e0152\"],[0.1,\"#c51b7d\"],[0.2,\"#de77ae\"],[0.3,\"#f1b6da\"],[0.4,\"#fde0ef\"],[0.5,\"#f7f7f7\"],[0.6,\"#e6f5d0\"],[0.7,\"#b8e186\"],[0.8,\"#7fbc41\"],[0.9,\"#4d9221\"],[1,\"#276419\"]]},\"xaxis\":{\"gridcolor\":\"white\",\"linecolor\":\"white\",\"ticks\":\"\",\"title\":{\"standoff\":15},\"zerolinecolor\":\"white\",\"automargin\":true,\"zerolinewidth\":2},\"yaxis\":{\"gridcolor\":\"white\",\"linecolor\":\"white\",\"ticks\":\"\",\"title\":{\"standoff\":15},\"zerolinecolor\":\"white\",\"automargin\":true,\"zerolinewidth\":2},\"scene\":{\"xaxis\":{\"backgroundcolor\":\"#E5ECF6\",\"gridcolor\":\"white\",\"linecolor\":\"white\",\"showbackground\":true,\"ticks\":\"\",\"zerolinecolor\":\"white\",\"gridwidth\":2},\"yaxis\":{\"backgroundcolor\":\"#E5ECF6\",\"gridcolor\":\"white\",\"linecolor\":\"white\",\"showbackground\":true,\"ticks\":\"\",\"zerolinecolor\":\"white\",\"gridwidth\":2},\"zaxis\":{\"backgroundcolor\":\"#E5ECF6\",\"gridcolor\":\"white\",\"linecolor\":\"white\",\"showbackground\":true,\"ticks\":\"\",\"zerolinecolor\":\"white\",\"gridwidth\":2}},\"shapedefaults\":{\"line\":{\"color\":\"#2a3f5f\"}},\"annotationdefaults\":{\"arrowcolor\":\"#2a3f5f\",\"arrowhead\":0,\"arrowwidth\":1},\"geo\":{\"bgcolor\":\"white\",\"landcolor\":\"#E5ECF6\",\"subunitcolor\":\"white\",\"showland\":true,\"showlakes\":true,\"lakecolor\":\"white\"},\"title\":{\"x\":0.05},\"mapbox\":{\"style\":\"light\"}}},\"xaxis\":{\"anchor\":\"y\",\"domain\":[0.0,1.0],\"title\":{\"text\":\"Bankrupcy\"}},\"yaxis\":{\"anchor\":\"x\",\"domain\":[0.0,1.0],\"title\":{\"text\":\"Count\"}},\"legend\":{\"tracegroupgap\":0},\"title\":{\"text\":\"Value Counts of Bankrupcy\"},\"barmode\":\"relative\"},                        {\"responsive\": true}                    ).then(function(){\n",
              "                            \n",
              "var gd = document.getElementById('e05f1886-39a7-468f-b9b6-c921d1ba2bcd');\n",
              "var x = new MutationObserver(function (mutations, observer) {{\n",
              "        var display = window.getComputedStyle(gd).display;\n",
              "        if (!display || display === 'none') {{\n",
              "            console.log([gd, 'removed!']);\n",
              "            Plotly.purge(gd);\n",
              "            observer.disconnect();\n",
              "        }}\n",
              "}});\n",
              "\n",
              "// Listen for the removal of the full notebook cells\n",
              "var notebookContainer = gd.closest('#notebook-container');\n",
              "if (notebookContainer) {{\n",
              "    x.observe(notebookContainer, {childList: true});\n",
              "}}\n",
              "\n",
              "// Listen for the clearing of the current output cell\n",
              "var outputEl = gd.closest('.output');\n",
              "if (outputEl) {{\n",
              "    x.observe(outputEl, {childList: true});\n",
              "}}\n",
              "\n",
              "                        })                };                            </script>        </div>\n",
              "</body>\n",
              "</html>"
            ]
          },
          "metadata": {}
        }
      ],
      "source": [
        "bal_bk = px.bar(data_frame = fd['BK'], x=value_counts.index, y=value_counts.values,text=value_counts.values ,labels={'x': 'Bankrupcy', 'y': 'Count'},\n",
        "             title='Value Counts of Bankrupcy')\n",
        "bal_bk.update_traces(texttemplate='%{text}', textposition='outside')\n",
        "bal_bk.show()"
      ]
    },
    {
      "cell_type": "code",
      "execution_count": 18,
      "id": "u_1KXH60Zzjf",
      "metadata": {
        "colab": {
          "base_uri": "https://localhost:8080/"
        },
        "id": "u_1KXH60Zzjf",
        "outputId": "c723194f-dbca-461d-dbbe-7921a0a4329e"
      },
      "outputs": [
        {
          "output_type": "execute_result",
          "data": {
            "text/plain": [
              "No     99.399173\n",
              "Yes     0.600827\n",
              "Name: BK, dtype: float64"
            ]
          },
          "metadata": {},
          "execution_count": 18
        }
      ],
      "source": [
        "per = value_counts / len(fd) * 100\n",
        "per"
      ]
    },
    {
      "cell_type": "markdown",
      "id": "DRqPifpdhJyS",
      "metadata": {
        "id": "DRqPifpdhJyS"
      },
      "source": [
        "This shows that the data is very imbalanced, where 99.4 % of cases are no bankrupcy, and 0.6 % are bankrupt."
      ]
    },
    {
      "cell_type": "code",
      "execution_count": null,
      "id": "GmE9AUAdhIty",
      "metadata": {
        "colab": {
          "base_uri": "https://localhost:8080/",
          "height": 425
        },
        "id": "GmE9AUAdhIty",
        "outputId": "d54feeca-105a-44af-a399-a6499bbf9d85"
      },
      "outputs": [
        {
          "data": {
            "text/html": [
              "<div>\n",
              "<style scoped>\n",
              "    .dataframe tbody tr th:only-of-type {\n",
              "        vertical-align: middle;\n",
              "    }\n",
              "\n",
              "    .dataframe tbody tr th {\n",
              "        vertical-align: top;\n",
              "    }\n",
              "\n",
              "    .dataframe thead th {\n",
              "        text-align: right;\n",
              "    }\n",
              "</style>\n",
              "<table border=\"1\" class=\"dataframe\">\n",
              "  <thead>\n",
              "    <tr style=\"text-align: right;\">\n",
              "      <th></th>\n",
              "      <th>count</th>\n",
              "      <th>mean</th>\n",
              "      <th>std</th>\n",
              "      <th>min</th>\n",
              "      <th>25%</th>\n",
              "      <th>50%</th>\n",
              "      <th>75%</th>\n",
              "      <th>max</th>\n",
              "    </tr>\n",
              "  </thead>\n",
              "  <tbody>\n",
              "    <tr>\n",
              "      <th>EPS</th>\n",
              "      <td>92872.0</td>\n",
              "      <td>0.676633</td>\n",
              "      <td>1.570250</td>\n",
              "      <td>-5.144980</td>\n",
              "      <td>-0.110000</td>\n",
              "      <td>0.380000</td>\n",
              "      <td>1.410000</td>\n",
              "      <td>6.540000</td>\n",
              "    </tr>\n",
              "    <tr>\n",
              "      <th>Liquidity</th>\n",
              "      <td>92872.0</td>\n",
              "      <td>0.226766</td>\n",
              "      <td>0.284550</td>\n",
              "      <td>-1.120000</td>\n",
              "      <td>0.040000</td>\n",
              "      <td>0.210000</td>\n",
              "      <td>0.400000</td>\n",
              "      <td>1.000000</td>\n",
              "    </tr>\n",
              "    <tr>\n",
              "      <th>Profitability</th>\n",
              "      <td>92872.0</td>\n",
              "      <td>-0.091068</td>\n",
              "      <td>0.726971</td>\n",
              "      <td>-3.487742</td>\n",
              "      <td>-0.120000</td>\n",
              "      <td>0.070000</td>\n",
              "      <td>0.310000</td>\n",
              "      <td>2.660000</td>\n",
              "    </tr>\n",
              "    <tr>\n",
              "      <th>Productivity</th>\n",
              "      <td>92872.0</td>\n",
              "      <td>0.036029</td>\n",
              "      <td>0.150013</td>\n",
              "      <td>-0.570000</td>\n",
              "      <td>0.010000</td>\n",
              "      <td>0.060000</td>\n",
              "      <td>0.110000</td>\n",
              "      <td>0.620000</td>\n",
              "    </tr>\n",
              "    <tr>\n",
              "      <th>Leverage Ratio</th>\n",
              "      <td>92872.0</td>\n",
              "      <td>0.447279</td>\n",
              "      <td>0.688461</td>\n",
              "      <td>-2.460000</td>\n",
              "      <td>0.010000</td>\n",
              "      <td>0.320000</td>\n",
              "      <td>0.700945</td>\n",
              "      <td>3.280000</td>\n",
              "    </tr>\n",
              "    <tr>\n",
              "      <th>Asset Turnover</th>\n",
              "      <td>92872.0</td>\n",
              "      <td>0.965435</td>\n",
              "      <td>0.776074</td>\n",
              "      <td>-1.440000</td>\n",
              "      <td>0.390000</td>\n",
              "      <td>0.830000</td>\n",
              "      <td>1.350000</td>\n",
              "      <td>4.390000</td>\n",
              "    </tr>\n",
              "    <tr>\n",
              "      <th>Operational Margin</th>\n",
              "      <td>92872.0</td>\n",
              "      <td>0.075471</td>\n",
              "      <td>0.142072</td>\n",
              "      <td>-0.540000</td>\n",
              "      <td>0.040000</td>\n",
              "      <td>0.075471</td>\n",
              "      <td>0.130000</td>\n",
              "      <td>0.650000</td>\n",
              "    </tr>\n",
              "    <tr>\n",
              "      <th>Return on Equity</th>\n",
              "      <td>92872.0</td>\n",
              "      <td>0.000718</td>\n",
              "      <td>0.128656</td>\n",
              "      <td>-0.530000</td>\n",
              "      <td>-0.020000</td>\n",
              "      <td>0.030000</td>\n",
              "      <td>0.070000</td>\n",
              "      <td>0.520000</td>\n",
              "    </tr>\n",
              "    <tr>\n",
              "      <th>Market Book Ratio</th>\n",
              "      <td>92872.0</td>\n",
              "      <td>114.865110</td>\n",
              "      <td>183.137876</td>\n",
              "      <td>-674.530000</td>\n",
              "      <td>13.927500</td>\n",
              "      <td>66.230000</td>\n",
              "      <td>130.372500</td>\n",
              "      <td>926.910000</td>\n",
              "    </tr>\n",
              "    <tr>\n",
              "      <th>Assets Growth</th>\n",
              "      <td>92872.0</td>\n",
              "      <td>0.055101</td>\n",
              "      <td>0.231931</td>\n",
              "      <td>-0.786243</td>\n",
              "      <td>-0.036273</td>\n",
              "      <td>0.055101</td>\n",
              "      <td>0.133158</td>\n",
              "      <td>0.925800</td>\n",
              "    </tr>\n",
              "    <tr>\n",
              "      <th>Sales Growth</th>\n",
              "      <td>92872.0</td>\n",
              "      <td>0.070823</td>\n",
              "      <td>0.222910</td>\n",
              "      <td>-0.746704</td>\n",
              "      <td>-0.009176</td>\n",
              "      <td>0.070823</td>\n",
              "      <td>0.147991</td>\n",
              "      <td>0.917255</td>\n",
              "    </tr>\n",
              "    <tr>\n",
              "      <th>Employee Growth</th>\n",
              "      <td>92872.0</td>\n",
              "      <td>0.032852</td>\n",
              "      <td>0.172857</td>\n",
              "      <td>-0.585227</td>\n",
              "      <td>-0.030818</td>\n",
              "      <td>0.032852</td>\n",
              "      <td>0.086809</td>\n",
              "      <td>0.667826</td>\n",
              "    </tr>\n",
              "  </tbody>\n",
              "</table>\n",
              "</div>"
            ],
            "text/plain": [
              "                      count        mean         std         min        25%  \\\n",
              "EPS                 92872.0    0.676633    1.570250   -5.144980  -0.110000   \n",
              "Liquidity           92872.0    0.226766    0.284550   -1.120000   0.040000   \n",
              "Profitability       92872.0   -0.091068    0.726971   -3.487742  -0.120000   \n",
              "Productivity        92872.0    0.036029    0.150013   -0.570000   0.010000   \n",
              "Leverage Ratio      92872.0    0.447279    0.688461   -2.460000   0.010000   \n",
              "Asset Turnover      92872.0    0.965435    0.776074   -1.440000   0.390000   \n",
              "Operational Margin  92872.0    0.075471    0.142072   -0.540000   0.040000   \n",
              "Return on Equity    92872.0    0.000718    0.128656   -0.530000  -0.020000   \n",
              "Market Book Ratio   92872.0  114.865110  183.137876 -674.530000  13.927500   \n",
              "Assets Growth       92872.0    0.055101    0.231931   -0.786243  -0.036273   \n",
              "Sales Growth        92872.0    0.070823    0.222910   -0.746704  -0.009176   \n",
              "Employee Growth     92872.0    0.032852    0.172857   -0.585227  -0.030818   \n",
              "\n",
              "                          50%         75%         max  \n",
              "EPS                  0.380000    1.410000    6.540000  \n",
              "Liquidity            0.210000    0.400000    1.000000  \n",
              "Profitability        0.070000    0.310000    2.660000  \n",
              "Productivity         0.060000    0.110000    0.620000  \n",
              "Leverage Ratio       0.320000    0.700945    3.280000  \n",
              "Asset Turnover       0.830000    1.350000    4.390000  \n",
              "Operational Margin   0.075471    0.130000    0.650000  \n",
              "Return on Equity     0.030000    0.070000    0.520000  \n",
              "Market Book Ratio   66.230000  130.372500  926.910000  \n",
              "Assets Growth        0.055101    0.133158    0.925800  \n",
              "Sales Growth         0.070823    0.147991    0.917255  \n",
              "Employee Growth      0.032852    0.086809    0.667826  "
            ]
          },
          "execution_count": 72,
          "metadata": {},
          "output_type": "execute_result"
        }
      ],
      "source": [
        "fd.describe().T"
      ]
    },
    {
      "cell_type": "markdown",
      "id": "FtmNrsPbialp",
      "metadata": {
        "id": "FtmNrsPbialp"
      },
      "source": [
        "Above is the descriptive statistics of the numeric features of our data."
      ]
    },
    {
      "cell_type": "code",
      "execution_count": 19,
      "id": "lWyJYW-Sj3zh",
      "metadata": {
        "id": "lWyJYW-Sj3zh"
      },
      "outputs": [],
      "source": [
        "import matplotlib.pyplot as plt\n",
        "import seaborn as sns"
      ]
    },
    {
      "cell_type": "code",
      "execution_count": 20,
      "id": "lLofsxO3iSpS",
      "metadata": {
        "colab": {
          "base_uri": "https://localhost:8080/",
          "height": 1000
        },
        "id": "lLofsxO3iSpS",
        "outputId": "e4508a05-e518-47cc-cda6-850d52cb805a"
      },
      "outputs": [
        {
          "output_type": "stream",
          "name": "stderr",
          "text": [
            "<ipython-input-20-fd3bb91fa9cc>:1: FutureWarning:\n",
            "\n",
            "The default value of numeric_only in DataFrame.corr is deprecated. In a future version, it will default to False. Select only valid columns or specify the value of numeric_only to silence this warning.\n",
            "\n"
          ]
        },
        {
          "output_type": "display_data",
          "data": {
            "text/html": [
              "<html>\n",
              "<head><meta charset=\"utf-8\" /></head>\n",
              "<body>\n",
              "    <div>            <script src=\"https://cdnjs.cloudflare.com/ajax/libs/mathjax/2.7.5/MathJax.js?config=TeX-AMS-MML_SVG\"></script><script type=\"text/javascript\">if (window.MathJax && window.MathJax.Hub && window.MathJax.Hub.Config) {window.MathJax.Hub.Config({SVG: {font: \"STIX-Web\"}});}</script>                <script type=\"text/javascript\">window.PlotlyConfig = {MathJaxConfig: 'local'};</script>\n",
              "        <script charset=\"utf-8\" src=\"https://cdn.plot.ly/plotly-2.24.1.min.js\"></script>                <div id=\"2427050d-d751-4de2-a028-117b32fec222\" class=\"plotly-graph-div\" style=\"height:900px; width:900px;\"></div>            <script type=\"text/javascript\">                                    window.PLOTLYENV=window.PLOTLYENV || {};                                    if (document.getElementById(\"2427050d-d751-4de2-a028-117b32fec222\")) {                    Plotly.newPlot(                        \"2427050d-d751-4de2-a028-117b32fec222\",                        [{\"coloraxis\":\"coloraxis\",\"name\":\"0\",\"x\":[\"EPS\",\"Liquidity\",\"Profitability\",\"Productivity\",\"Leverage Ratio\",\"Asset Turnover\",\"Operational Margin\",\"Return on Equity\",\"Market Book Ratio\",\"Assets Growth\",\"Sales Growth\",\"Employee Growth\"],\"y\":[\"EPS\",\"Liquidity\",\"Profitability\",\"Productivity\",\"Leverage Ratio\",\"Asset Turnover\",\"Operational Margin\",\"Return on Equity\",\"Market Book Ratio\",\"Assets Growth\",\"Sales Growth\",\"Employee Growth\"],\"z\":[[1.0,-0.07475964902093574,0.3978289726438778,0.47141352701991496,0.11906401001568657,0.14420818208745412,0.3924808919517352,0.5070706387471803,0.158236419256217,0.22479699769291184,0.14991849979942648,0.0966923867185259],[-0.07475964902093574,1.0,-0.006381029860379544,-0.03395989852052593,-0.21953512081785168,0.02186404163272575,-0.019863833184899867,-0.010147730159799249,-0.019533083302245343,0.06869049651197222,0.023142662995480488,0.07386940059398509],[0.3978289726438778,-0.006381029860379544,1.0,0.4869730140485091,0.08779614276120834,0.18176553488872207,0.2874293779225009,0.3426713222637789,0.03631839837139068,0.13844777190950766,0.07708588266347335,0.044232790679257436],[0.47141352701991496,-0.03395989852052593,0.4869730140485091,1.0,0.07701423047410663,0.2795300839188947,0.5234774031552397,0.4772568473683555,0.06783024509631087,0.22235011188890896,0.2054919400700624,0.12008462363802322],[0.11906401001568657,-0.21953512081785168,0.08779614276120834,0.07701423047410663,1.0,0.004113776346346025,0.08019253889021787,0.12106954299614553,0.15906551326876442,0.09672729654739691,0.04806658159555457,0.02008828241742754],[0.14420818208745412,0.02186404163272575,0.18176553488872207,0.2795300839188947,0.004113776346346025,1.0,-0.16247172215999403,0.19576650916909305,-0.11139197614562622,0.023597574057293607,0.06855595672287429,-0.0010112182265481651],[0.3924808919517352,-0.019863833184899867,0.2874293779225009,0.5234774031552397,0.08019253889021787,-0.16247172215999403,1.0,0.3379503501156055,0.1426932111266031,0.2086536177273113,0.16958642176518582,0.12911312196041158],[0.5070706387471803,-0.010147730159799249,0.3426713222637789,0.4772568473683555,0.12106954299614553,0.19576650916909305,0.3379503501156055,1.0,0.0584856309038031,0.22794213230640942,0.15256067680336236,0.08830535901223988],[0.158236419256217,-0.019533083302245343,0.03631839837139068,0.06783024509631087,0.15906551326876442,-0.11139197614562622,0.1426932111266031,0.0584856309038031,1.0,0.10682381829810894,0.06966000341982914,0.08231984430766577],[0.22479699769291184,0.06869049651197222,0.13844777190950766,0.22235011188890896,0.09672729654739691,0.023597574057293607,0.2086536177273113,0.22794213230640942,0.10682381829810894,1.0,0.3952838190448518,0.38895286779870203],[0.14991849979942648,0.023142662995480488,0.07708588266347335,0.2054919400700624,0.04806658159555457,0.06855595672287429,0.16958642176518582,0.15256067680336236,0.06966000341982914,0.3952838190448518,1.0,0.37164284965059907],[0.0966923867185259,0.07386940059398509,0.044232790679257436,0.12008462363802322,0.02008828241742754,-0.0010112182265481651,0.12911312196041158,0.08830535901223988,0.08231984430766577,0.38895286779870203,0.37164284965059907,1.0]],\"type\":\"heatmap\",\"xaxis\":\"x\",\"yaxis\":\"y\",\"hovertemplate\":\"x: %{x}\\u003cbr\\u003ey: %{y}\\u003cbr\\u003eCorrelation: %{z}\\u003cextra\\u003e\\u003c\\u002fextra\\u003e\"}],                        {\"template\":{\"data\":{\"histogram2dcontour\":[{\"type\":\"histogram2dcontour\",\"colorbar\":{\"outlinewidth\":0,\"ticks\":\"\"},\"colorscale\":[[0.0,\"#0d0887\"],[0.1111111111111111,\"#46039f\"],[0.2222222222222222,\"#7201a8\"],[0.3333333333333333,\"#9c179e\"],[0.4444444444444444,\"#bd3786\"],[0.5555555555555556,\"#d8576b\"],[0.6666666666666666,\"#ed7953\"],[0.7777777777777778,\"#fb9f3a\"],[0.8888888888888888,\"#fdca26\"],[1.0,\"#f0f921\"]]}],\"choropleth\":[{\"type\":\"choropleth\",\"colorbar\":{\"outlinewidth\":0,\"ticks\":\"\"}}],\"histogram2d\":[{\"type\":\"histogram2d\",\"colorbar\":{\"outlinewidth\":0,\"ticks\":\"\"},\"colorscale\":[[0.0,\"#0d0887\"],[0.1111111111111111,\"#46039f\"],[0.2222222222222222,\"#7201a8\"],[0.3333333333333333,\"#9c179e\"],[0.4444444444444444,\"#bd3786\"],[0.5555555555555556,\"#d8576b\"],[0.6666666666666666,\"#ed7953\"],[0.7777777777777778,\"#fb9f3a\"],[0.8888888888888888,\"#fdca26\"],[1.0,\"#f0f921\"]]}],\"heatmap\":[{\"type\":\"heatmap\",\"colorbar\":{\"outlinewidth\":0,\"ticks\":\"\"},\"colorscale\":[[0.0,\"#0d0887\"],[0.1111111111111111,\"#46039f\"],[0.2222222222222222,\"#7201a8\"],[0.3333333333333333,\"#9c179e\"],[0.4444444444444444,\"#bd3786\"],[0.5555555555555556,\"#d8576b\"],[0.6666666666666666,\"#ed7953\"],[0.7777777777777778,\"#fb9f3a\"],[0.8888888888888888,\"#fdca26\"],[1.0,\"#f0f921\"]]}],\"heatmapgl\":[{\"type\":\"heatmapgl\",\"colorbar\":{\"outlinewidth\":0,\"ticks\":\"\"},\"colorscale\":[[0.0,\"#0d0887\"],[0.1111111111111111,\"#46039f\"],[0.2222222222222222,\"#7201a8\"],[0.3333333333333333,\"#9c179e\"],[0.4444444444444444,\"#bd3786\"],[0.5555555555555556,\"#d8576b\"],[0.6666666666666666,\"#ed7953\"],[0.7777777777777778,\"#fb9f3a\"],[0.8888888888888888,\"#fdca26\"],[1.0,\"#f0f921\"]]}],\"contourcarpet\":[{\"type\":\"contourcarpet\",\"colorbar\":{\"outlinewidth\":0,\"ticks\":\"\"}}],\"contour\":[{\"type\":\"contour\",\"colorbar\":{\"outlinewidth\":0,\"ticks\":\"\"},\"colorscale\":[[0.0,\"#0d0887\"],[0.1111111111111111,\"#46039f\"],[0.2222222222222222,\"#7201a8\"],[0.3333333333333333,\"#9c179e\"],[0.4444444444444444,\"#bd3786\"],[0.5555555555555556,\"#d8576b\"],[0.6666666666666666,\"#ed7953\"],[0.7777777777777778,\"#fb9f3a\"],[0.8888888888888888,\"#fdca26\"],[1.0,\"#f0f921\"]]}],\"surface\":[{\"type\":\"surface\",\"colorbar\":{\"outlinewidth\":0,\"ticks\":\"\"},\"colorscale\":[[0.0,\"#0d0887\"],[0.1111111111111111,\"#46039f\"],[0.2222222222222222,\"#7201a8\"],[0.3333333333333333,\"#9c179e\"],[0.4444444444444444,\"#bd3786\"],[0.5555555555555556,\"#d8576b\"],[0.6666666666666666,\"#ed7953\"],[0.7777777777777778,\"#fb9f3a\"],[0.8888888888888888,\"#fdca26\"],[1.0,\"#f0f921\"]]}],\"mesh3d\":[{\"type\":\"mesh3d\",\"colorbar\":{\"outlinewidth\":0,\"ticks\":\"\"}}],\"scatter\":[{\"fillpattern\":{\"fillmode\":\"overlay\",\"size\":10,\"solidity\":0.2},\"type\":\"scatter\"}],\"parcoords\":[{\"type\":\"parcoords\",\"line\":{\"colorbar\":{\"outlinewidth\":0,\"ticks\":\"\"}}}],\"scatterpolargl\":[{\"type\":\"scatterpolargl\",\"marker\":{\"colorbar\":{\"outlinewidth\":0,\"ticks\":\"\"}}}],\"bar\":[{\"error_x\":{\"color\":\"#2a3f5f\"},\"error_y\":{\"color\":\"#2a3f5f\"},\"marker\":{\"line\":{\"color\":\"#E5ECF6\",\"width\":0.5},\"pattern\":{\"fillmode\":\"overlay\",\"size\":10,\"solidity\":0.2}},\"type\":\"bar\"}],\"scattergeo\":[{\"type\":\"scattergeo\",\"marker\":{\"colorbar\":{\"outlinewidth\":0,\"ticks\":\"\"}}}],\"scatterpolar\":[{\"type\":\"scatterpolar\",\"marker\":{\"colorbar\":{\"outlinewidth\":0,\"ticks\":\"\"}}}],\"histogram\":[{\"marker\":{\"pattern\":{\"fillmode\":\"overlay\",\"size\":10,\"solidity\":0.2}},\"type\":\"histogram\"}],\"scattergl\":[{\"type\":\"scattergl\",\"marker\":{\"colorbar\":{\"outlinewidth\":0,\"ticks\":\"\"}}}],\"scatter3d\":[{\"type\":\"scatter3d\",\"line\":{\"colorbar\":{\"outlinewidth\":0,\"ticks\":\"\"}},\"marker\":{\"colorbar\":{\"outlinewidth\":0,\"ticks\":\"\"}}}],\"scattermapbox\":[{\"type\":\"scattermapbox\",\"marker\":{\"colorbar\":{\"outlinewidth\":0,\"ticks\":\"\"}}}],\"scatterternary\":[{\"type\":\"scatterternary\",\"marker\":{\"colorbar\":{\"outlinewidth\":0,\"ticks\":\"\"}}}],\"scattercarpet\":[{\"type\":\"scattercarpet\",\"marker\":{\"colorbar\":{\"outlinewidth\":0,\"ticks\":\"\"}}}],\"carpet\":[{\"aaxis\":{\"endlinecolor\":\"#2a3f5f\",\"gridcolor\":\"white\",\"linecolor\":\"white\",\"minorgridcolor\":\"white\",\"startlinecolor\":\"#2a3f5f\"},\"baxis\":{\"endlinecolor\":\"#2a3f5f\",\"gridcolor\":\"white\",\"linecolor\":\"white\",\"minorgridcolor\":\"white\",\"startlinecolor\":\"#2a3f5f\"},\"type\":\"carpet\"}],\"table\":[{\"cells\":{\"fill\":{\"color\":\"#EBF0F8\"},\"line\":{\"color\":\"white\"}},\"header\":{\"fill\":{\"color\":\"#C8D4E3\"},\"line\":{\"color\":\"white\"}},\"type\":\"table\"}],\"barpolar\":[{\"marker\":{\"line\":{\"color\":\"#E5ECF6\",\"width\":0.5},\"pattern\":{\"fillmode\":\"overlay\",\"size\":10,\"solidity\":0.2}},\"type\":\"barpolar\"}],\"pie\":[{\"automargin\":true,\"type\":\"pie\"}]},\"layout\":{\"autotypenumbers\":\"strict\",\"colorway\":[\"#636efa\",\"#EF553B\",\"#00cc96\",\"#ab63fa\",\"#FFA15A\",\"#19d3f3\",\"#FF6692\",\"#B6E880\",\"#FF97FF\",\"#FECB52\"],\"font\":{\"color\":\"#2a3f5f\"},\"hovermode\":\"closest\",\"hoverlabel\":{\"align\":\"left\"},\"paper_bgcolor\":\"white\",\"plot_bgcolor\":\"#E5ECF6\",\"polar\":{\"bgcolor\":\"#E5ECF6\",\"angularaxis\":{\"gridcolor\":\"white\",\"linecolor\":\"white\",\"ticks\":\"\"},\"radialaxis\":{\"gridcolor\":\"white\",\"linecolor\":\"white\",\"ticks\":\"\"}},\"ternary\":{\"bgcolor\":\"#E5ECF6\",\"aaxis\":{\"gridcolor\":\"white\",\"linecolor\":\"white\",\"ticks\":\"\"},\"baxis\":{\"gridcolor\":\"white\",\"linecolor\":\"white\",\"ticks\":\"\"},\"caxis\":{\"gridcolor\":\"white\",\"linecolor\":\"white\",\"ticks\":\"\"}},\"coloraxis\":{\"colorbar\":{\"outlinewidth\":0,\"ticks\":\"\"}},\"colorscale\":{\"sequential\":[[0.0,\"#0d0887\"],[0.1111111111111111,\"#46039f\"],[0.2222222222222222,\"#7201a8\"],[0.3333333333333333,\"#9c179e\"],[0.4444444444444444,\"#bd3786\"],[0.5555555555555556,\"#d8576b\"],[0.6666666666666666,\"#ed7953\"],[0.7777777777777778,\"#fb9f3a\"],[0.8888888888888888,\"#fdca26\"],[1.0,\"#f0f921\"]],\"sequentialminus\":[[0.0,\"#0d0887\"],[0.1111111111111111,\"#46039f\"],[0.2222222222222222,\"#7201a8\"],[0.3333333333333333,\"#9c179e\"],[0.4444444444444444,\"#bd3786\"],[0.5555555555555556,\"#d8576b\"],[0.6666666666666666,\"#ed7953\"],[0.7777777777777778,\"#fb9f3a\"],[0.8888888888888888,\"#fdca26\"],[1.0,\"#f0f921\"]],\"diverging\":[[0,\"#8e0152\"],[0.1,\"#c51b7d\"],[0.2,\"#de77ae\"],[0.3,\"#f1b6da\"],[0.4,\"#fde0ef\"],[0.5,\"#f7f7f7\"],[0.6,\"#e6f5d0\"],[0.7,\"#b8e186\"],[0.8,\"#7fbc41\"],[0.9,\"#4d9221\"],[1,\"#276419\"]]},\"xaxis\":{\"gridcolor\":\"white\",\"linecolor\":\"white\",\"ticks\":\"\",\"title\":{\"standoff\":15},\"zerolinecolor\":\"white\",\"automargin\":true,\"zerolinewidth\":2},\"yaxis\":{\"gridcolor\":\"white\",\"linecolor\":\"white\",\"ticks\":\"\",\"title\":{\"standoff\":15},\"zerolinecolor\":\"white\",\"automargin\":true,\"zerolinewidth\":2},\"scene\":{\"xaxis\":{\"backgroundcolor\":\"#E5ECF6\",\"gridcolor\":\"white\",\"linecolor\":\"white\",\"showbackground\":true,\"ticks\":\"\",\"zerolinecolor\":\"white\",\"gridwidth\":2},\"yaxis\":{\"backgroundcolor\":\"#E5ECF6\",\"gridcolor\":\"white\",\"linecolor\":\"white\",\"showbackground\":true,\"ticks\":\"\",\"zerolinecolor\":\"white\",\"gridwidth\":2},\"zaxis\":{\"backgroundcolor\":\"#E5ECF6\",\"gridcolor\":\"white\",\"linecolor\":\"white\",\"showbackground\":true,\"ticks\":\"\",\"zerolinecolor\":\"white\",\"gridwidth\":2}},\"shapedefaults\":{\"line\":{\"color\":\"#2a3f5f\"}},\"annotationdefaults\":{\"arrowcolor\":\"#2a3f5f\",\"arrowhead\":0,\"arrowwidth\":1},\"geo\":{\"bgcolor\":\"white\",\"landcolor\":\"#E5ECF6\",\"subunitcolor\":\"white\",\"showland\":true,\"showlakes\":true,\"lakecolor\":\"white\"},\"title\":{\"x\":0.05},\"mapbox\":{\"style\":\"light\"}}},\"xaxis\":{\"anchor\":\"y\",\"domain\":[0.0,1.0],\"scaleanchor\":\"y\",\"constrain\":\"domain\"},\"yaxis\":{\"anchor\":\"x\",\"domain\":[0.0,1.0],\"autorange\":\"reversed\",\"constrain\":\"domain\"},\"coloraxis\":{\"colorbar\":{\"title\":{\"text\":\"Correlation\"},\"x\":1.15},\"colorscale\":[[0,\"pink\"],[0.18,\"white\"],[1.0,\"green\"]]},\"margin\":{\"t\":60},\"annotations\":[{\"font\":{\"size\":10},\"showarrow\":false,\"text\":\"1.0\",\"x\":0,\"y\":0},{\"font\":{\"size\":10},\"showarrow\":false,\"text\":\"-0.07\",\"x\":1,\"y\":0},{\"font\":{\"size\":10},\"showarrow\":false,\"text\":\"0.4\",\"x\":2,\"y\":0},{\"font\":{\"size\":10},\"showarrow\":false,\"text\":\"0.47\",\"x\":3,\"y\":0},{\"font\":{\"size\":10},\"showarrow\":false,\"text\":\"0.12\",\"x\":4,\"y\":0},{\"font\":{\"size\":10},\"showarrow\":false,\"text\":\"0.14\",\"x\":5,\"y\":0},{\"font\":{\"size\":10},\"showarrow\":false,\"text\":\"0.39\",\"x\":6,\"y\":0},{\"font\":{\"size\":10},\"showarrow\":false,\"text\":\"0.51\",\"x\":7,\"y\":0},{\"font\":{\"size\":10},\"showarrow\":false,\"text\":\"0.16\",\"x\":8,\"y\":0},{\"font\":{\"size\":10},\"showarrow\":false,\"text\":\"0.22\",\"x\":9,\"y\":0},{\"font\":{\"size\":10},\"showarrow\":false,\"text\":\"0.15\",\"x\":10,\"y\":0},{\"font\":{\"size\":10},\"showarrow\":false,\"text\":\"0.1\",\"x\":11,\"y\":0},{\"font\":{\"size\":10},\"showarrow\":false,\"text\":\"-0.07\",\"x\":0,\"y\":1},{\"font\":{\"size\":10},\"showarrow\":false,\"text\":\"1.0\",\"x\":1,\"y\":1},{\"font\":{\"size\":10},\"showarrow\":false,\"text\":\"-0.01\",\"x\":2,\"y\":1},{\"font\":{\"size\":10},\"showarrow\":false,\"text\":\"-0.03\",\"x\":3,\"y\":1},{\"font\":{\"size\":10},\"showarrow\":false,\"text\":\"-0.22\",\"x\":4,\"y\":1},{\"font\":{\"size\":10},\"showarrow\":false,\"text\":\"0.02\",\"x\":5,\"y\":1},{\"font\":{\"size\":10},\"showarrow\":false,\"text\":\"-0.02\",\"x\":6,\"y\":1},{\"font\":{\"size\":10},\"showarrow\":false,\"text\":\"-0.01\",\"x\":7,\"y\":1},{\"font\":{\"size\":10},\"showarrow\":false,\"text\":\"-0.02\",\"x\":8,\"y\":1},{\"font\":{\"size\":10},\"showarrow\":false,\"text\":\"0.07\",\"x\":9,\"y\":1},{\"font\":{\"size\":10},\"showarrow\":false,\"text\":\"0.02\",\"x\":10,\"y\":1},{\"font\":{\"size\":10},\"showarrow\":false,\"text\":\"0.07\",\"x\":11,\"y\":1},{\"font\":{\"size\":10},\"showarrow\":false,\"text\":\"0.4\",\"x\":0,\"y\":2},{\"font\":{\"size\":10},\"showarrow\":false,\"text\":\"-0.01\",\"x\":1,\"y\":2},{\"font\":{\"size\":10},\"showarrow\":false,\"text\":\"1.0\",\"x\":2,\"y\":2},{\"font\":{\"size\":10},\"showarrow\":false,\"text\":\"0.49\",\"x\":3,\"y\":2},{\"font\":{\"size\":10},\"showarrow\":false,\"text\":\"0.09\",\"x\":4,\"y\":2},{\"font\":{\"size\":10},\"showarrow\":false,\"text\":\"0.18\",\"x\":5,\"y\":2},{\"font\":{\"size\":10},\"showarrow\":false,\"text\":\"0.29\",\"x\":6,\"y\":2},{\"font\":{\"size\":10},\"showarrow\":false,\"text\":\"0.34\",\"x\":7,\"y\":2},{\"font\":{\"size\":10},\"showarrow\":false,\"text\":\"0.04\",\"x\":8,\"y\":2},{\"font\":{\"size\":10},\"showarrow\":false,\"text\":\"0.14\",\"x\":9,\"y\":2},{\"font\":{\"size\":10},\"showarrow\":false,\"text\":\"0.08\",\"x\":10,\"y\":2},{\"font\":{\"size\":10},\"showarrow\":false,\"text\":\"0.04\",\"x\":11,\"y\":2},{\"font\":{\"size\":10},\"showarrow\":false,\"text\":\"0.47\",\"x\":0,\"y\":3},{\"font\":{\"size\":10},\"showarrow\":false,\"text\":\"-0.03\",\"x\":1,\"y\":3},{\"font\":{\"size\":10},\"showarrow\":false,\"text\":\"0.49\",\"x\":2,\"y\":3},{\"font\":{\"size\":10},\"showarrow\":false,\"text\":\"1.0\",\"x\":3,\"y\":3},{\"font\":{\"size\":10},\"showarrow\":false,\"text\":\"0.08\",\"x\":4,\"y\":3},{\"font\":{\"size\":10},\"showarrow\":false,\"text\":\"0.28\",\"x\":5,\"y\":3},{\"font\":{\"size\":10},\"showarrow\":false,\"text\":\"0.52\",\"x\":6,\"y\":3},{\"font\":{\"size\":10},\"showarrow\":false,\"text\":\"0.48\",\"x\":7,\"y\":3},{\"font\":{\"size\":10},\"showarrow\":false,\"text\":\"0.07\",\"x\":8,\"y\":3},{\"font\":{\"size\":10},\"showarrow\":false,\"text\":\"0.22\",\"x\":9,\"y\":3},{\"font\":{\"size\":10},\"showarrow\":false,\"text\":\"0.21\",\"x\":10,\"y\":3},{\"font\":{\"size\":10},\"showarrow\":false,\"text\":\"0.12\",\"x\":11,\"y\":3},{\"font\":{\"size\":10},\"showarrow\":false,\"text\":\"0.12\",\"x\":0,\"y\":4},{\"font\":{\"size\":10},\"showarrow\":false,\"text\":\"-0.22\",\"x\":1,\"y\":4},{\"font\":{\"size\":10},\"showarrow\":false,\"text\":\"0.09\",\"x\":2,\"y\":4},{\"font\":{\"size\":10},\"showarrow\":false,\"text\":\"0.08\",\"x\":3,\"y\":4},{\"font\":{\"size\":10},\"showarrow\":false,\"text\":\"1.0\",\"x\":4,\"y\":4},{\"font\":{\"size\":10},\"showarrow\":false,\"text\":\"0.0\",\"x\":5,\"y\":4},{\"font\":{\"size\":10},\"showarrow\":false,\"text\":\"0.08\",\"x\":6,\"y\":4},{\"font\":{\"size\":10},\"showarrow\":false,\"text\":\"0.12\",\"x\":7,\"y\":4},{\"font\":{\"size\":10},\"showarrow\":false,\"text\":\"0.16\",\"x\":8,\"y\":4},{\"font\":{\"size\":10},\"showarrow\":false,\"text\":\"0.1\",\"x\":9,\"y\":4},{\"font\":{\"size\":10},\"showarrow\":false,\"text\":\"0.05\",\"x\":10,\"y\":4},{\"font\":{\"size\":10},\"showarrow\":false,\"text\":\"0.02\",\"x\":11,\"y\":4},{\"font\":{\"size\":10},\"showarrow\":false,\"text\":\"0.14\",\"x\":0,\"y\":5},{\"font\":{\"size\":10},\"showarrow\":false,\"text\":\"0.02\",\"x\":1,\"y\":5},{\"font\":{\"size\":10},\"showarrow\":false,\"text\":\"0.18\",\"x\":2,\"y\":5},{\"font\":{\"size\":10},\"showarrow\":false,\"text\":\"0.28\",\"x\":3,\"y\":5},{\"font\":{\"size\":10},\"showarrow\":false,\"text\":\"0.0\",\"x\":4,\"y\":5},{\"font\":{\"size\":10},\"showarrow\":false,\"text\":\"1.0\",\"x\":5,\"y\":5},{\"font\":{\"size\":10},\"showarrow\":false,\"text\":\"-0.16\",\"x\":6,\"y\":5},{\"font\":{\"size\":10},\"showarrow\":false,\"text\":\"0.2\",\"x\":7,\"y\":5},{\"font\":{\"size\":10},\"showarrow\":false,\"text\":\"-0.11\",\"x\":8,\"y\":5},{\"font\":{\"size\":10},\"showarrow\":false,\"text\":\"0.02\",\"x\":9,\"y\":5},{\"font\":{\"size\":10},\"showarrow\":false,\"text\":\"0.07\",\"x\":10,\"y\":5},{\"font\":{\"size\":10},\"showarrow\":false,\"text\":\"-0.0\",\"x\":11,\"y\":5},{\"font\":{\"size\":10},\"showarrow\":false,\"text\":\"0.39\",\"x\":0,\"y\":6},{\"font\":{\"size\":10},\"showarrow\":false,\"text\":\"-0.02\",\"x\":1,\"y\":6},{\"font\":{\"size\":10},\"showarrow\":false,\"text\":\"0.29\",\"x\":2,\"y\":6},{\"font\":{\"size\":10},\"showarrow\":false,\"text\":\"0.52\",\"x\":3,\"y\":6},{\"font\":{\"size\":10},\"showarrow\":false,\"text\":\"0.08\",\"x\":4,\"y\":6},{\"font\":{\"size\":10},\"showarrow\":false,\"text\":\"-0.16\",\"x\":5,\"y\":6},{\"font\":{\"size\":10},\"showarrow\":false,\"text\":\"1.0\",\"x\":6,\"y\":6},{\"font\":{\"size\":10},\"showarrow\":false,\"text\":\"0.34\",\"x\":7,\"y\":6},{\"font\":{\"size\":10},\"showarrow\":false,\"text\":\"0.14\",\"x\":8,\"y\":6},{\"font\":{\"size\":10},\"showarrow\":false,\"text\":\"0.21\",\"x\":9,\"y\":6},{\"font\":{\"size\":10},\"showarrow\":false,\"text\":\"0.17\",\"x\":10,\"y\":6},{\"font\":{\"size\":10},\"showarrow\":false,\"text\":\"0.13\",\"x\":11,\"y\":6},{\"font\":{\"size\":10},\"showarrow\":false,\"text\":\"0.51\",\"x\":0,\"y\":7},{\"font\":{\"size\":10},\"showarrow\":false,\"text\":\"-0.01\",\"x\":1,\"y\":7},{\"font\":{\"size\":10},\"showarrow\":false,\"text\":\"0.34\",\"x\":2,\"y\":7},{\"font\":{\"size\":10},\"showarrow\":false,\"text\":\"0.48\",\"x\":3,\"y\":7},{\"font\":{\"size\":10},\"showarrow\":false,\"text\":\"0.12\",\"x\":4,\"y\":7},{\"font\":{\"size\":10},\"showarrow\":false,\"text\":\"0.2\",\"x\":5,\"y\":7},{\"font\":{\"size\":10},\"showarrow\":false,\"text\":\"0.34\",\"x\":6,\"y\":7},{\"font\":{\"size\":10},\"showarrow\":false,\"text\":\"1.0\",\"x\":7,\"y\":7},{\"font\":{\"size\":10},\"showarrow\":false,\"text\":\"0.06\",\"x\":8,\"y\":7},{\"font\":{\"size\":10},\"showarrow\":false,\"text\":\"0.23\",\"x\":9,\"y\":7},{\"font\":{\"size\":10},\"showarrow\":false,\"text\":\"0.15\",\"x\":10,\"y\":7},{\"font\":{\"size\":10},\"showarrow\":false,\"text\":\"0.09\",\"x\":11,\"y\":7},{\"font\":{\"size\":10},\"showarrow\":false,\"text\":\"0.16\",\"x\":0,\"y\":8},{\"font\":{\"size\":10},\"showarrow\":false,\"text\":\"-0.02\",\"x\":1,\"y\":8},{\"font\":{\"size\":10},\"showarrow\":false,\"text\":\"0.04\",\"x\":2,\"y\":8},{\"font\":{\"size\":10},\"showarrow\":false,\"text\":\"0.07\",\"x\":3,\"y\":8},{\"font\":{\"size\":10},\"showarrow\":false,\"text\":\"0.16\",\"x\":4,\"y\":8},{\"font\":{\"size\":10},\"showarrow\":false,\"text\":\"-0.11\",\"x\":5,\"y\":8},{\"font\":{\"size\":10},\"showarrow\":false,\"text\":\"0.14\",\"x\":6,\"y\":8},{\"font\":{\"size\":10},\"showarrow\":false,\"text\":\"0.06\",\"x\":7,\"y\":8},{\"font\":{\"size\":10},\"showarrow\":false,\"text\":\"1.0\",\"x\":8,\"y\":8},{\"font\":{\"size\":10},\"showarrow\":false,\"text\":\"0.11\",\"x\":9,\"y\":8},{\"font\":{\"size\":10},\"showarrow\":false,\"text\":\"0.07\",\"x\":10,\"y\":8},{\"font\":{\"size\":10},\"showarrow\":false,\"text\":\"0.08\",\"x\":11,\"y\":8},{\"font\":{\"size\":10},\"showarrow\":false,\"text\":\"0.22\",\"x\":0,\"y\":9},{\"font\":{\"size\":10},\"showarrow\":false,\"text\":\"0.07\",\"x\":1,\"y\":9},{\"font\":{\"size\":10},\"showarrow\":false,\"text\":\"0.14\",\"x\":2,\"y\":9},{\"font\":{\"size\":10},\"showarrow\":false,\"text\":\"0.22\",\"x\":3,\"y\":9},{\"font\":{\"size\":10},\"showarrow\":false,\"text\":\"0.1\",\"x\":4,\"y\":9},{\"font\":{\"size\":10},\"showarrow\":false,\"text\":\"0.02\",\"x\":5,\"y\":9},{\"font\":{\"size\":10},\"showarrow\":false,\"text\":\"0.21\",\"x\":6,\"y\":9},{\"font\":{\"size\":10},\"showarrow\":false,\"text\":\"0.23\",\"x\":7,\"y\":9},{\"font\":{\"size\":10},\"showarrow\":false,\"text\":\"0.11\",\"x\":8,\"y\":9},{\"font\":{\"size\":10},\"showarrow\":false,\"text\":\"1.0\",\"x\":9,\"y\":9},{\"font\":{\"size\":10},\"showarrow\":false,\"text\":\"0.4\",\"x\":10,\"y\":9},{\"font\":{\"size\":10},\"showarrow\":false,\"text\":\"0.39\",\"x\":11,\"y\":9},{\"font\":{\"size\":10},\"showarrow\":false,\"text\":\"0.15\",\"x\":0,\"y\":10},{\"font\":{\"size\":10},\"showarrow\":false,\"text\":\"0.02\",\"x\":1,\"y\":10},{\"font\":{\"size\":10},\"showarrow\":false,\"text\":\"0.08\",\"x\":2,\"y\":10},{\"font\":{\"size\":10},\"showarrow\":false,\"text\":\"0.21\",\"x\":3,\"y\":10},{\"font\":{\"size\":10},\"showarrow\":false,\"text\":\"0.05\",\"x\":4,\"y\":10},{\"font\":{\"size\":10},\"showarrow\":false,\"text\":\"0.07\",\"x\":5,\"y\":10},{\"font\":{\"size\":10},\"showarrow\":false,\"text\":\"0.17\",\"x\":6,\"y\":10},{\"font\":{\"size\":10},\"showarrow\":false,\"text\":\"0.15\",\"x\":7,\"y\":10},{\"font\":{\"size\":10},\"showarrow\":false,\"text\":\"0.07\",\"x\":8,\"y\":10},{\"font\":{\"size\":10},\"showarrow\":false,\"text\":\"0.4\",\"x\":9,\"y\":10},{\"font\":{\"size\":10},\"showarrow\":false,\"text\":\"1.0\",\"x\":10,\"y\":10},{\"font\":{\"size\":10},\"showarrow\":false,\"text\":\"0.37\",\"x\":11,\"y\":10},{\"font\":{\"size\":10},\"showarrow\":false,\"text\":\"0.1\",\"x\":0,\"y\":11},{\"font\":{\"size\":10},\"showarrow\":false,\"text\":\"0.07\",\"x\":1,\"y\":11},{\"font\":{\"size\":10},\"showarrow\":false,\"text\":\"0.04\",\"x\":2,\"y\":11},{\"font\":{\"size\":10},\"showarrow\":false,\"text\":\"0.12\",\"x\":3,\"y\":11},{\"font\":{\"size\":10},\"showarrow\":false,\"text\":\"0.02\",\"x\":4,\"y\":11},{\"font\":{\"size\":10},\"showarrow\":false,\"text\":\"-0.0\",\"x\":5,\"y\":11},{\"font\":{\"size\":10},\"showarrow\":false,\"text\":\"0.13\",\"x\":6,\"y\":11},{\"font\":{\"size\":10},\"showarrow\":false,\"text\":\"0.09\",\"x\":7,\"y\":11},{\"font\":{\"size\":10},\"showarrow\":false,\"text\":\"0.08\",\"x\":8,\"y\":11},{\"font\":{\"size\":10},\"showarrow\":false,\"text\":\"0.39\",\"x\":9,\"y\":11},{\"font\":{\"size\":10},\"showarrow\":false,\"text\":\"0.37\",\"x\":10,\"y\":11},{\"font\":{\"size\":10},\"showarrow\":false,\"text\":\"1.0\",\"x\":11,\"y\":11}],\"title\":{\"text\":\"Correlation Matrix Heatmap\"},\"width\":900,\"height\":900},                        {\"responsive\": true}                    ).then(function(){\n",
              "                            \n",
              "var gd = document.getElementById('2427050d-d751-4de2-a028-117b32fec222');\n",
              "var x = new MutationObserver(function (mutations, observer) {{\n",
              "        var display = window.getComputedStyle(gd).display;\n",
              "        if (!display || display === 'none') {{\n",
              "            console.log([gd, 'removed!']);\n",
              "            Plotly.purge(gd);\n",
              "            observer.disconnect();\n",
              "        }}\n",
              "}});\n",
              "\n",
              "// Listen for the removal of the full notebook cells\n",
              "var notebookContainer = gd.closest('#notebook-container');\n",
              "if (notebookContainer) {{\n",
              "    x.observe(notebookContainer, {childList: true});\n",
              "}}\n",
              "\n",
              "// Listen for the clearing of the current output cell\n",
              "var outputEl = gd.closest('.output');\n",
              "if (outputEl) {{\n",
              "    x.observe(outputEl, {childList: true});\n",
              "}}\n",
              "\n",
              "                        })                };                            </script>        </div>\n",
              "</body>\n",
              "</html>"
            ]
          },
          "metadata": {}
        }
      ],
      "source": [
        "corr_matrix = fd.corr()\n",
        "custom_color_scale = [[0, 'pink'], [0.18, 'white'], [1.0, 'green']]\n",
        "fig = px.imshow(\n",
        "    corr_matrix,\n",
        "    color_continuous_scale=custom_color_scale,\n",
        "    labels=dict(color='Correlation'),\n",
        ")\n",
        "\n",
        "# Add data labels\n",
        "annotations = []\n",
        "for i, row in enumerate(corr_matrix.index):\n",
        "    for j, value in enumerate(corr_matrix.columns):\n",
        "        annotations.append(dict(\n",
        "            x=j,\n",
        "            y=i,\n",
        "            text=str(round(corr_matrix.iloc[i, j], 2)),\n",
        "            showarrow=False,\n",
        "            font=dict(size=10),\n",
        "        ))\n",
        "\n",
        "fig.update_layout(annotations=annotations)\n",
        "fig.update_layout(\n",
        "    title='Correlation Matrix Heatmap',\n",
        "    width=900,\n",
        "    height=900,\n",
        ")\n",
        "fig.update_layout(coloraxis_colorbar=dict(x=1.15))\n",
        "fig.show()"
      ]
    },
    {
      "cell_type": "markdown",
      "id": "y6riR01_3W8R",
      "metadata": {
        "id": "y6riR01_3W8R"
      },
      "source": [
        "This heat map shows that there are no two variables that have correlation more than 0.6 both in positive and negative interaction. This shows that all the features are unique. Hence, we have to take all the features of our data in the prediction model."
      ]
    },
    {
      "cell_type": "code",
      "execution_count": 21,
      "id": "CkjG5MySwh83",
      "metadata": {
        "colab": {
          "base_uri": "https://localhost:8080/",
          "height": 538
        },
        "id": "CkjG5MySwh83",
        "outputId": "458e60f3-cd41-4a9a-d030-6901c0bdfc7c"
      },
      "outputs": [
        {
          "output_type": "display_data",
          "data": {
            "text/plain": [
              "<Figure size 2300x800 with 1 Axes>"
            ],
            "image/png": "[encoded data removed]"
          },
          "metadata": {}
        }
      ],
      "source": [
        "plt.figure(figsize=(23, 8))\n",
        "sns.boxplot(data=fd, width=0.5)\n",
        "plt.title('Box Plot of All Columns')\n",
        "plt.show()"
      ]
    },
    {
      "cell_type": "markdown",
      "id": "YwgW3Csk2qk6",
      "metadata": {
        "id": "YwgW3Csk2qk6"
      },
      "source": [
        "The data is scattered at different scales, so scaling is required."
      ]
    },
    {
      "cell_type": "code",
      "execution_count": 24,
      "id": "wZtOwR6fdyPP",
      "metadata": {
        "colab": {
          "base_uri": "https://localhost:8080/",
          "height": 223
        },
        "id": "wZtOwR6fdyPP",
        "outputId": "41940eda-b12c-4591-cd6f-f0c05a4f1f42"
      },
      "outputs": [
        {
          "output_type": "execute_result",
          "data": {
            "text/plain": [
              "    EPS  Liquidity  Profitability  Productivity  Leverage Ratio  \\\n",
              "0  1.58       0.36           0.18          0.13            1.33   \n",
              "1  1.41       0.36           0.19          0.12            1.31   \n",
              "2  0.31       0.32           0.13          0.08            1.03   \n",
              "3  0.71       0.28           0.14          0.08            0.80   \n",
              "4  0.75       0.41           0.13          0.08            0.20   \n",
              "\n",
              "   Asset Turnover  Operational Margin  Return on Equity  Market Book Ratio  \\\n",
              "0            1.77                0.07              0.15               2.22   \n",
              "1            1.59                0.07              0.13               2.41   \n",
              "2            1.55                0.05              0.04               2.56   \n",
              "3            1.39                0.06              0.05               5.28   \n",
              "4            1.30                0.06              0.04               8.68   \n",
              "\n",
              "   Assets Growth  Sales Growth  Employee Growth  \n",
              "0       0.055101      0.070823         0.032852  \n",
              "1       0.126319      0.014278         0.040179  \n",
              "2       0.368077      0.327909         0.566524  \n",
              "3      -0.020809     -0.118904        -0.095890  \n",
              "4       0.233089      0.146807         0.053030  "
            ],
            "text/html": [
              "\n",
              "  <div id=\"df-817482b0-c959-4381-8fb1-8da783a53a4e\" class=\"colab-df-container\">\n",
              "    <div>\n",
              "<style scoped>\n",
              "    .dataframe tbody tr th:only-of-type {\n",
              "        vertical-align: middle;\n",
              "    }\n",
              "\n",
              "    .dataframe tbody tr th {\n",
              "        vertical-align: top;\n",
              "    }\n",
              "\n",
              "    .dataframe thead th {\n",
              "        text-align: right;\n",
              "    }\n",
              "</style>\n",
              "<table border=\"1\" class=\"dataframe\">\n",
              "  <thead>\n",
              "    <tr style=\"text-align: right;\">\n",
              "      <th></th>\n",
              "      <th>EPS</th>\n",
              "      <th>Liquidity</th>\n",
              "      <th>Profitability</th>\n",
              "      <th>Productivity</th>\n",
              "      <th>Leverage Ratio</th>\n",
              "      <th>Asset Turnover</th>\n",
              "      <th>Operational Margin</th>\n",
              "      <th>Return on Equity</th>\n",
              "      <th>Market Book Ratio</th>\n",
              "      <th>Assets Growth</th>\n",
              "      <th>Sales Growth</th>\n",
              "      <th>Employee Growth</th>\n",
              "    </tr>\n",
              "  </thead>\n",
              "  <tbody>\n",
              "    <tr>\n",
              "      <th>0</th>\n",
              "      <td>1.58</td>\n",
              "      <td>0.36</td>\n",
              "      <td>0.18</td>\n",
              "      <td>0.13</td>\n",
              "      <td>1.33</td>\n",
              "      <td>1.77</td>\n",
              "      <td>0.07</td>\n",
              "      <td>0.15</td>\n",
              "      <td>2.22</td>\n",
              "      <td>0.055101</td>\n",
              "      <td>0.070823</td>\n",
              "      <td>0.032852</td>\n",
              "    </tr>\n",
              "    <tr>\n",
              "      <th>1</th>\n",
              "      <td>1.41</td>\n",
              "      <td>0.36</td>\n",
              "      <td>0.19</td>\n",
              "      <td>0.12</td>\n",
              "      <td>1.31</td>\n",
              "      <td>1.59</td>\n",
              "      <td>0.07</td>\n",
              "      <td>0.13</td>\n",
              "      <td>2.41</td>\n",
              "      <td>0.126319</td>\n",
              "      <td>0.014278</td>\n",
              "      <td>0.040179</td>\n",
              "    </tr>\n",
              "    <tr>\n",
              "      <th>2</th>\n",
              "      <td>0.31</td>\n",
              "      <td>0.32</td>\n",
              "      <td>0.13</td>\n",
              "      <td>0.08</td>\n",
              "      <td>1.03</td>\n",
              "      <td>1.55</td>\n",
              "      <td>0.05</td>\n",
              "      <td>0.04</td>\n",
              "      <td>2.56</td>\n",
              "      <td>0.368077</td>\n",
              "      <td>0.327909</td>\n",
              "      <td>0.566524</td>\n",
              "    </tr>\n",
              "    <tr>\n",
              "      <th>3</th>\n",
              "      <td>0.71</td>\n",
              "      <td>0.28</td>\n",
              "      <td>0.14</td>\n",
              "      <td>0.08</td>\n",
              "      <td>0.80</td>\n",
              "      <td>1.39</td>\n",
              "      <td>0.06</td>\n",
              "      <td>0.05</td>\n",
              "      <td>5.28</td>\n",
              "      <td>-0.020809</td>\n",
              "      <td>-0.118904</td>\n",
              "      <td>-0.095890</td>\n",
              "    </tr>\n",
              "    <tr>\n",
              "      <th>4</th>\n",
              "      <td>0.75</td>\n",
              "      <td>0.41</td>\n",
              "      <td>0.13</td>\n",
              "      <td>0.08</td>\n",
              "      <td>0.20</td>\n",
              "      <td>1.30</td>\n",
              "      <td>0.06</td>\n",
              "      <td>0.04</td>\n",
              "      <td>8.68</td>\n",
              "      <td>0.233089</td>\n",
              "      <td>0.146807</td>\n",
              "      <td>0.053030</td>\n",
              "    </tr>\n",
              "  </tbody>\n",
              "</table>\n",
              "</div>\n",
              "    <div class=\"colab-df-buttons\">\n",
              "\n",
              "  <div class=\"colab-df-container\">\n",
              "    <button class=\"colab-df-convert\" onclick=\"convertToInteractive('df-817482b0-c959-4381-8fb1-8da783a53a4e')\"\n",
              "            title=\"Convert this dataframe to an interactive table.\"\n",
              "            style=\"display:none;\">\n",
              "\n",
              "  <svg xmlns=\"http://www.w3.org/2000/svg\" height=\"24px\" viewBox=\"0 -960 960 960\">\n",
              "    <path d=\"M120-120v-720h720v720H120Zm60-500h600v-160H180v160Zm220 220h160v-160H400v160Zm0 220h160v-160H400v160ZM180-400h160v-160H180v160Zm440 0h160v-160H620v160ZM180-180h160v-160H180v160Zm440 0h160v-160H620v160Z\"/>\n",
              "  </svg>\n",
              "    </button>\n",
              "\n",
              "  <style>\n",
              "    .colab-df-container {\n",
              "      display:flex;\n",
              "      gap: 12px;\n",
              "    }\n",
              "\n",
              "    .colab-df-convert {\n",
              "      background-color: #E8F0FE;\n",
              "      border: none;\n",
              "      border-radius: 50%;\n",
              "      cursor: pointer;\n",
              "      display: none;\n",
              "      fill: #1967D2;\n",
              "      height: 32px;\n",
              "      padding: 0 0 0 0;\n",
              "      width: 32px;\n",
              "    }\n",
              "\n",
              "    .colab-df-convert:hover {\n",
              "      background-color: #E2EBFA;\n",
              "      box-shadow: 0px 1px 2px rgba(60, 64, 67, 0.3), 0px 1px 3px 1px rgba(60, 64, 67, 0.15);\n",
              "      fill: #174EA6;\n",
              "    }\n",
              "\n",
              "    .colab-df-buttons div {\n",
              "      margin-bottom: 4px;\n",
              "    }\n",
              "\n",
              "    [theme=dark] .colab-df-convert {\n",
              "      background-color: #3B4455;\n",
              "      fill: #D2E3FC;\n",
              "    }\n",
              "\n",
              "    [theme=dark] .colab-df-convert:hover {\n",
              "      background-color: #434B5C;\n",
              "      box-shadow: 0px 1px 3px 1px rgba(0, 0, 0, 0.15);\n",
              "      filter: drop-shadow(0px 1px 2px rgba(0, 0, 0, 0.3));\n",
              "      fill: #FFFFFF;\n",
              "    }\n",
              "  </style>\n",
              "\n",
              "    <script>\n",
              "      const buttonEl =\n",
              "        document.querySelector('#df-817482b0-c959-4381-8fb1-8da783a53a4e button.colab-df-convert');\n",
              "      buttonEl.style.display =\n",
              "        google.colab.kernel.accessAllowed ? 'block' : 'none';\n",
              "\n",
              "      async function convertToInteractive(key) {\n",
              "        const element = document.querySelector('#df-817482b0-c959-4381-8fb1-8da783a53a4e');\n",
              "        const dataTable =\n",
              "          await google.colab.kernel.invokeFunction('convertToInteractive',\n",
              "                                                    [key], {});\n",
              "        if (!dataTable) return;\n",
              "\n",
              "        const docLinkHtml = 'Like what you see? Visit the ' +\n",
              "          '<a target=\"_blank\" href=https://colab.research.google.com/notebooks/data_table.ipynb>data table notebook</a>'\n",
              "          + ' to learn more about interactive tables.';\n",
              "        element.innerHTML = '';\n",
              "        dataTable['output_type'] = 'display_data';\n",
              "        await google.colab.output.renderOutput(dataTable, element);\n",
              "        const docLink = document.createElement('div');\n",
              "        docLink.innerHTML = docLinkHtml;\n",
              "        element.appendChild(docLink);\n",
              "      }\n",
              "    </script>\n",
              "  </div>\n",
              "\n",
              "\n",
              "<div id=\"df-52183adc-9cd2-41d2-99cd-43da873d24e6\">\n",
              "  <button class=\"colab-df-quickchart\" onclick=\"quickchart('df-52183adc-9cd2-41d2-99cd-43da873d24e6')\"\n",
              "            title=\"Suggest charts\"\n",
              "            style=\"display:none;\">\n",
              "\n",
              "<svg xmlns=\"http://www.w3.org/2000/svg\" height=\"24px\"viewBox=\"0 0 24 24\"\n",
              "     width=\"24px\">\n",
              "    <g>\n",
              "        <path d=\"M19 3H5c-1.1 0-2 .9-2 2v14c0 1.1.9 2 2 2h14c1.1 0 2-.9 2-2V5c0-1.1-.9-2-2-2zM9 17H7v-7h2v7zm4 0h-2V7h2v10zm4 0h-2v-4h2v4z\"/>\n",
              "    </g>\n",
              "</svg>\n",
              "  </button>\n",
              "\n",
              "<style>\n",
              "  .colab-df-quickchart {\n",
              "      --bg-color: #E8F0FE;\n",
              "      --fill-color: #1967D2;\n",
              "      --hover-bg-color: #E2EBFA;\n",
              "      --hover-fill-color: #174EA6;\n",
              "      --disabled-fill-color: #AAA;\n",
              "      --disabled-bg-color: #DDD;\n",
              "  }\n",
              "\n",
              "  [theme=dark] .colab-df-quickchart {\n",
              "      --bg-color: #3B4455;\n",
              "      --fill-color: #D2E3FC;\n",
              "      --hover-bg-color: #434B5C;\n",
              "      --hover-fill-color: #FFFFFF;\n",
              "      --disabled-bg-color: #3B4455;\n",
              "      --disabled-fill-color: #666;\n",
              "  }\n",
              "\n",
              "  .colab-df-quickchart {\n",
              "    background-color: var(--bg-color);\n",
              "    border: none;\n",
              "    border-radius: 50%;\n",
              "    cursor: pointer;\n",
              "    display: none;\n",
              "    fill: var(--fill-color);\n",
              "    height: 32px;\n",
              "    padding: 0;\n",
              "    width: 32px;\n",
              "  }\n",
              "\n",
              "  .colab-df-quickchart:hover {\n",
              "    background-color: var(--hover-bg-color);\n",
              "    box-shadow: 0 1px 2px rgba(60, 64, 67, 0.3), 0 1px 3px 1px rgba(60, 64, 67, 0.15);\n",
              "    fill: var(--button-hover-fill-color);\n",
              "  }\n",
              "\n",
              "  .colab-df-quickchart-complete:disabled,\n",
              "  .colab-df-quickchart-complete:disabled:hover {\n",
              "    background-color: var(--disabled-bg-color);\n",
              "    fill: var(--disabled-fill-color);\n",
              "    box-shadow: none;\n",
              "  }\n",
              "\n",
              "  .colab-df-spinner {\n",
              "    border: 2px solid var(--fill-color);\n",
              "    border-color: transparent;\n",
              "    border-bottom-color: var(--fill-color);\n",
              "    animation:\n",
              "      spin 1s steps(1) infinite;\n",
              "  }\n",
              "\n",
              "  @keyframes spin {\n",
              "    0% {\n",
              "      border-color: transparent;\n",
              "      border-bottom-color: var(--fill-color);\n",
              "      border-left-color: var(--fill-color);\n",
              "    }\n",
              "    20% {\n",
              "      border-color: transparent;\n",
              "      border-left-color: var(--fill-color);\n",
              "      border-top-color: var(--fill-color);\n",
              "    }\n",
              "    30% {\n",
              "      border-color: transparent;\n",
              "      border-left-color: var(--fill-color);\n",
              "      border-top-color: var(--fill-color);\n",
              "      border-right-color: var(--fill-color);\n",
              "    }\n",
              "    40% {\n",
              "      border-color: transparent;\n",
              "      border-right-color: var(--fill-color);\n",
              "      border-top-color: var(--fill-color);\n",
              "    }\n",
              "    60% {\n",
              "      border-color: transparent;\n",
              "      border-right-color: var(--fill-color);\n",
              "    }\n",
              "    80% {\n",
              "      border-color: transparent;\n",
              "      border-right-color: var(--fill-color);\n",
              "      border-bottom-color: var(--fill-color);\n",
              "    }\n",
              "    90% {\n",
              "      border-color: transparent;\n",
              "      border-bottom-color: var(--fill-color);\n",
              "    }\n",
              "  }\n",
              "</style>\n",
              "\n",
              "  <script>\n",
              "    async function quickchart(key) {\n",
              "      const quickchartButtonEl =\n",
              "        document.querySelector('#' + key + ' button');\n",
              "      quickchartButtonEl.disabled = true;  // To prevent multiple clicks.\n",
              "      quickchartButtonEl.classList.add('colab-df-spinner');\n",
              "      try {\n",
              "        const charts = await google.colab.kernel.invokeFunction(\n",
              "            'suggestCharts', [key], {});\n",
              "      } catch (error) {\n",
              "        console.error('Error during call to suggestCharts:', error);\n",
              "      }\n",
              "      quickchartButtonEl.classList.remove('colab-df-spinner');\n",
              "      quickchartButtonEl.classList.add('colab-df-quickchart-complete');\n",
              "    }\n",
              "    (() => {\n",
              "      let quickchartButtonEl =\n",
              "        document.querySelector('#df-52183adc-9cd2-41d2-99cd-43da873d24e6 button');\n",
              "      quickchartButtonEl.style.display =\n",
              "        google.colab.kernel.accessAllowed ? 'block' : 'none';\n",
              "    })();\n",
              "  </script>\n",
              "</div>\n",
              "    </div>\n",
              "  </div>\n"
            ]
          },
          "metadata": {},
          "execution_count": 24
        }
      ],
      "source": [
        "X.head()"
      ]
    },
    {
      "cell_type": "code",
      "execution_count": 25,
      "id": "4rB1wiaQxnpk",
      "metadata": {
        "id": "4rB1wiaQxnpk"
      },
      "outputs": [],
      "source": [
        "from sklearn.preprocessing import MinMaxScaler"
      ]
    },
    {
      "cell_type": "code",
      "execution_count": 26,
      "id": "oUisHbC9x2mk",
      "metadata": {
        "colab": {
          "base_uri": "https://localhost:8080/",
          "height": 391
        },
        "id": "oUisHbC9x2mk",
        "outputId": "c5233b2d-8e46-43e1-bb28-5f3ed1b2949e"
      },
      "outputs": [
        {
          "output_type": "display_data",
          "data": {
            "text/plain": [
              "<Figure size 1200x400 with 1 Axes>"
            ],
            "image/png": "[encoded data removed]"
          },
          "metadata": {}
        }
      ],
      "source": [
        "plt.figure(figsize=(12, 4))\n",
        "plt.subplot(1, 2, 1)\n",
        "for col in X.columns:\n",
        "    plt.hist(X[col], bins='auto', alpha=0.7, label=col, density=True)\n",
        "plt.legend()\n",
        "plt.title('Original Data')\n",
        "plt.show()"
      ]
    },
    {
      "cell_type": "markdown",
      "id": "zgKG4vhI1qfo",
      "metadata": {
        "id": "zgKG4vhI1qfo"
      },
      "source": [
        "Here, it can be seen that since there is irregular scaling of data, the histogram is not at all visible, and is miniaturized near 0."
      ]
    },
    {
      "cell_type": "code",
      "execution_count": 28,
      "id": "1f06b842",
      "metadata": {
        "id": "1f06b842"
      },
      "outputs": [],
      "source": [
        "scaler = MinMaxScaler()\n",
        "scaled_data = scaler.fit_transform(X)\n",
        "X = pd.DataFrame(scaled_data, columns=X.columns)"
      ]
    },
    {
      "cell_type": "code",
      "execution_count": 29,
      "id": "rCx49AsM0yu4",
      "metadata": {
        "colab": {
          "base_uri": "https://localhost:8080/",
          "height": 487
        },
        "id": "rCx49AsM0yu4",
        "outputId": "b9a89fc6-aab0-4dd7-ed26-0e0bbcd63b8a"
      },
      "outputs": [
        {
          "output_type": "display_data",
          "data": {
            "text/plain": [
              "<Figure size 640x480 with 1 Axes>"
            ],
            "image/png": "[encoded data removed]"
          },
          "metadata": {}
        }
      ],
      "source": [
        "plt.subplot(1, 2, 2)\n",
        "for col in X.columns:\n",
        "    plt.hist(X[col], bins='auto', alpha=0.7, label=col, density=True)\n",
        "plt.legend(bbox_to_anchor=(1.05, 1), loc='upper left')\n",
        "plt.title('Scaled Data')\n",
        "plt.tight_layout()\n",
        "plt.show()"
      ]
    },
    {
      "cell_type": "markdown",
      "id": "0niTpy1r2A4D",
      "metadata": {
        "id": "0niTpy1r2A4D"
      },
      "source": [
        "Now, after the MinMax scaling, the data is normalized, and very much visible at same scale."
      ]
    },
    {
      "cell_type": "markdown",
      "id": "Z0EiniSOd1o7",
      "metadata": {
        "id": "Z0EiniSOd1o7"
      },
      "source": [
        "Now, I am going to use Logistic regression and SVM models to predict bankrupcy."
      ]
    },
    {
      "cell_type": "code",
      "execution_count": 30,
      "id": "FpzfNUex00bX",
      "metadata": {
        "id": "FpzfNUex00bX"
      },
      "outputs": [],
      "source": [
        "from sklearn.model_selection import train_test_split\n",
        "from sklearn.linear_model import LogisticRegression\n",
        "from sklearn.metrics import accuracy_score, classification_report, confusion_matrix"
      ]
    },
    {
      "cell_type": "code",
      "execution_count": 31,
      "id": "_RsN8b3D2bMR",
      "metadata": {
        "id": "_RsN8b3D2bMR"
      },
      "outputs": [],
      "source": [
        "X_train, X_test, y_train, y_test = train_test_split(X, y, test_size=0.2, random_state=42)"
      ]
    },
    {
      "cell_type": "markdown",
      "id": "f8be1e0e",
      "metadata": {
        "id": "f8be1e0e"
      },
      "source": [
        "#### Tackeling oversampling of data."
      ]
    },
    {
      "cell_type": "code",
      "execution_count": 32,
      "id": "9d18bab0",
      "metadata": {
        "colab": {
          "base_uri": "https://localhost:8080/",
          "height": 472
        },
        "id": "9d18bab0",
        "outputId": "48b7fd28-5966-4fc6-d882-d35c067df45d"
      },
      "outputs": [
        {
          "output_type": "display_data",
          "data": {
            "text/plain": [
              "<Figure size 640x480 with 1 Axes>"
            ],
            "image/png": "[encoded data removed]"
          },
          "metadata": {}
        }
      ],
      "source": [
        "plt.hist(y_train, bins='auto', alpha=0.7, color='blue', edgecolor='black')\n",
        "plt.xlabel('Value')\n",
        "plt.ylabel('Frequency')\n",
        "plt.title('Histogram Example')\n",
        "plt.show()"
      ]
    },
    {
      "cell_type": "code",
      "execution_count": 33,
      "id": "bb470ff0",
      "metadata": {
        "id": "bb470ff0"
      },
      "outputs": [],
      "source": [
        "from imblearn.over_sampling import SMOTE"
      ]
    },
    {
      "cell_type": "code",
      "execution_count": 34,
      "id": "7a831f2a",
      "metadata": {
        "id": "7a831f2a"
      },
      "outputs": [],
      "source": [
        "smote = SMOTE(random_state=42)\n",
        "X_train, y_train = smote.fit_resample(X_train, y_train)"
      ]
    },
    {
      "cell_type": "code",
      "execution_count": 99,
      "id": "8693f077",
      "metadata": {
        "colab": {
          "base_uri": "https://localhost:8080/",
          "height": 472
        },
        "id": "8693f077",
        "outputId": "be37e5ac-1b9c-4653-8294-942a348d7f0f"
      },
      "outputs": [
        {
          "output_type": "display_data",
          "data": {
            "text/plain": [
              "<Figure size 640x480 with 1 Axes>"
            ],
            "image/png": "[encoded data removed]"
          },
          "metadata": {}
        }
      ],
      "source": [
        "plt.hist(y_train, bins='auto', alpha=0.7, color='blue', edgecolor='black')\n",
        "plt.xlabel('Value')\n",
        "plt.ylabel('Frequency')\n",
        "plt.title('Histogram After SMOT')\n",
        "plt.show()"
      ]
    },
    {
      "cell_type": "markdown",
      "id": "e1abaa53",
      "metadata": {
        "id": "e1abaa53"
      },
      "source": [
        "### First, let use Logistic Regression"
      ]
    },
    {
      "cell_type": "code",
      "execution_count": 36,
      "id": "d8V1Yzv03o4c",
      "metadata": {
        "id": "d8V1Yzv03o4c"
      },
      "outputs": [],
      "source": [
        "model1 = LogisticRegression()"
      ]
    },
    {
      "cell_type": "code",
      "execution_count": 37,
      "id": "1d7iqxZz3o3g",
      "metadata": {
        "colab": {
          "base_uri": "https://localhost:8080/",
          "height": 74
        },
        "id": "1d7iqxZz3o3g",
        "outputId": "bf961ced-717a-43c8-9cbe-901ce4e158f2"
      },
      "outputs": [
        {
          "output_type": "execute_result",
          "data": {
            "text/plain": [
              "LogisticRegression()"
            ],
            "text/html": [
              "<style>#sk-container-id-1 {color: black;background-color: white;}#sk-container-id-1 pre{padding: 0;}#sk-container-id-1 div.sk-toggleable {background-color: white;}#sk-container-id-1 label.sk-toggleable__label {cursor: pointer;display: block;width: 100%;margin-bottom: 0;padding: 0.3em;box-sizing: border-box;text-align: center;}#sk-container-id-1 label.sk-toggleable__label-arrow:before {content: \"▸\";float: left;margin-right: 0.25em;color: #696969;}#sk-container-id-1 label.sk-toggleable__label-arrow:hover:before {color: black;}#sk-container-id-1 div.sk-estimator:hover label.sk-toggleable__label-arrow:before {color: black;}#sk-container-id-1 div.sk-toggleable__content {max-height: 0;max-width: 0;overflow: hidden;text-align: left;background-color: #f0f8ff;}#sk-container-id-1 div.sk-toggleable__content pre {margin: 0.2em;color: black;border-radius: 0.25em;background-color: #f0f8ff;}#sk-container-id-1 input.sk-toggleable__control:checked~div.sk-toggleable__content {max-height: 200px;max-width: 100%;overflow: auto;}#sk-container-id-1 input.sk-toggleable__control:checked~label.sk-toggleable__label-arrow:before {content: \"▾\";}#sk-container-id-1 div.sk-estimator input.sk-toggleable__control:checked~label.sk-toggleable__label {background-color: #d4ebff;}#sk-container-id-1 div.sk-label input.sk-toggleable__control:checked~label.sk-toggleable__label {background-color: #d4ebff;}#sk-container-id-1 input.sk-hidden--visually {border: 0;clip: rect(1px 1px 1px 1px);clip: rect(1px, 1px, 1px, 1px);height: 1px;margin: -1px;overflow: hidden;padding: 0;position: absolute;width: 1px;}#sk-container-id-1 div.sk-estimator {font-family: monospace;background-color: #f0f8ff;border: 1px dotted black;border-radius: 0.25em;box-sizing: border-box;margin-bottom: 0.5em;}#sk-container-id-1 div.sk-estimator:hover {background-color: #d4ebff;}#sk-container-id-1 div.sk-parallel-item::after {content: \"\";width: 100%;border-bottom: 1px solid gray;flex-grow: 1;}#sk-container-id-1 div.sk-label:hover label.sk-toggleable__label {background-color: #d4ebff;}#sk-container-id-1 div.sk-serial::before {content: \"\";position: absolute;border-left: 1px solid gray;box-sizing: border-box;top: 0;bottom: 0;left: 50%;z-index: 0;}#sk-container-id-1 div.sk-serial {display: flex;flex-direction: column;align-items: center;background-color: white;padding-right: 0.2em;padding-left: 0.2em;position: relative;}#sk-container-id-1 div.sk-item {position: relative;z-index: 1;}#sk-container-id-1 div.sk-parallel {display: flex;align-items: stretch;justify-content: center;background-color: white;position: relative;}#sk-container-id-1 div.sk-item::before, #sk-container-id-1 div.sk-parallel-item::before {content: \"\";position: absolute;border-left: 1px solid gray;box-sizing: border-box;top: 0;bottom: 0;left: 50%;z-index: -1;}#sk-container-id-1 div.sk-parallel-item {display: flex;flex-direction: column;z-index: 1;position: relative;background-color: white;}#sk-container-id-1 div.sk-parallel-item:first-child::after {align-self: flex-end;width: 50%;}#sk-container-id-1 div.sk-parallel-item:last-child::after {align-self: flex-start;width: 50%;}#sk-container-id-1 div.sk-parallel-item:only-child::after {width: 0;}#sk-container-id-1 div.sk-dashed-wrapped {border: 1px dashed gray;margin: 0 0.4em 0.5em 0.4em;box-sizing: border-box;padding-bottom: 0.4em;background-color: white;}#sk-container-id-1 div.sk-label label {font-family: monospace;font-weight: bold;display: inline-block;line-height: 1.2em;}#sk-container-id-1 div.sk-label-container {text-align: center;}#sk-container-id-1 div.sk-container {/* jupyter's `normalize.less` sets `[hidden] { display: none; }` but bootstrap.min.css set `[hidden] { display: none !important; }` so we also need the `!important` here to be able to override the default hidden behavior on the sphinx rendered scikit-learn.org. See: https://github.com/scikit-learn/scikit-learn/issues/21755 */display: inline-block !important;position: relative;}#sk-container-id-1 div.sk-text-repr-fallback {display: none;}</style><div id=\"sk-container-id-1\" class=\"sk-top-container\"><div class=\"sk-text-repr-fallback\"><pre>LogisticRegression()</pre><b>In a Jupyter environment, please rerun this cell to show the HTML representation or trust the notebook. <br />On GitHub, the HTML representation is unable to render, please try loading this page with nbviewer.org.</b></div><div class=\"sk-container\" hidden><div class=\"sk-item\"><div class=\"sk-estimator sk-toggleable\"><input class=\"sk-toggleable__control sk-hidden--visually\" id=\"sk-estimator-id-1\" type=\"checkbox\" checked><label for=\"sk-estimator-id-1\" class=\"sk-toggleable__label sk-toggleable__label-arrow\">LogisticRegression</label><div class=\"sk-toggleable__content\"><pre>LogisticRegression()</pre></div></div></div></div></div>"
            ]
          },
          "metadata": {},
          "execution_count": 37
        }
      ],
      "source": [
        "model1.fit(X_train, y_train)"
      ]
    },
    {
      "cell_type": "code",
      "execution_count": 38,
      "id": "Ba44_Uxq3o2l",
      "metadata": {
        "id": "Ba44_Uxq3o2l"
      },
      "outputs": [],
      "source": [
        "lry_pred = model1.predict(X_test)"
      ]
    },
    {
      "cell_type": "code",
      "execution_count": 39,
      "id": "knpZBM3y3tgW",
      "metadata": {
        "colab": {
          "base_uri": "https://localhost:8080/"
        },
        "id": "knpZBM3y3tgW",
        "outputId": "ef5b5989-903e-45a9-fe43-ec536a253fbc"
      },
      "outputs": [
        {
          "output_type": "stream",
          "name": "stdout",
          "text": [
            "Accuracy: 0.8071063257065949\n",
            "Classification Report:\n",
            "               precision    recall  f1-score   support\n",
            "\n",
            "           0       1.00      0.81      0.89     18461\n",
            "           1       0.02      0.74      0.04       114\n",
            "\n",
            "    accuracy                           0.81     18575\n",
            "   macro avg       0.51      0.77      0.47     18575\n",
            "weighted avg       0.99      0.81      0.89     18575\n",
            "\n"
          ]
        }
      ],
      "source": [
        "print(\"Accuracy:\", accuracy_score(y_test, lry_pred))\n",
        "print(\"Classification Report:\\n\", classification_report(y_test, lry_pred))"
      ]
    },
    {
      "cell_type": "code",
      "execution_count": 40,
      "id": "22b508ef",
      "metadata": {
        "id": "22b508ef"
      },
      "outputs": [],
      "source": [
        "cm = confusion_matrix(y_test, lry_pred)"
      ]
    },
    {
      "cell_type": "code",
      "execution_count": 41,
      "id": "d93c9d67",
      "metadata": {
        "colab": {
          "base_uri": "https://localhost:8080/"
        },
        "id": "d93c9d67",
        "outputId": "29b13059-771f-4c30-d61c-d32f37f6a29b"
      },
      "outputs": [
        {
          "output_type": "stream",
          "name": "stdout",
          "text": [
            "Confusion Matrix:\n",
            " [[14908  3553]\n",
            " [   30    84]] \n",
            "\n",
            "True Positive: 84\n",
            "False Positive: 3553\n",
            "True Negative: 14908\n",
            "False Negative: 30\n",
            "Correct predictions: 80.7 %\n"
          ]
        }
      ],
      "source": [
        "true_positive=cm[1][1]\n",
        "false_positive=cm[0][1]\n",
        "true_negative=cm[0][0]\n",
        "false_negative=cm[1][0]\n",
        "\n",
        "print(\"Confusion Matrix:\\n\", cm, \"\\n\")\n",
        "print(\"True Positive:\",true_positive )\n",
        "print(\"False Positive:\",false_positive )\n",
        "print(\"True Negative:\",true_negative )\n",
        "print(\"False Negative:\",false_negative )\n",
        "print(\"Correct predictions:\",round((true_positive + true_negative)/len(lry_pred)*100,1),'%')"
      ]
    },
    {
      "cell_type": "markdown",
      "id": "tEWaNdpv4EKS",
      "metadata": {
        "id": "tEWaNdpv4EKS"
      },
      "source": [
        "### Now, lets use Support Vector Machine."
      ]
    },
    {
      "cell_type": "code",
      "execution_count": 63,
      "id": "VcV8GZDY35xA",
      "metadata": {
        "id": "VcV8GZDY35xA"
      },
      "outputs": [],
      "source": [
        "from sklearn.svm import SVC"
      ]
    },
    {
      "cell_type": "code",
      "execution_count": 64,
      "id": "lT-UI8Lt4Lps",
      "metadata": {
        "id": "lT-UI8Lt4Lps"
      },
      "outputs": [],
      "source": [
        "model2 = SVC()"
      ]
    },
    {
      "cell_type": "code",
      "execution_count": 65,
      "id": "f3SNrKnG4XWT",
      "metadata": {
        "colab": {
          "base_uri": "https://localhost:8080/",
          "height": 74
        },
        "id": "f3SNrKnG4XWT",
        "outputId": "0fdc10f2-cb58-4e99-a2d9-eb99a5a18d45"
      },
      "outputs": [
        {
          "output_type": "execute_result",
          "data": {
            "text/plain": [
              "SVC()"
            ],
            "text/html": [
              "<style>#sk-container-id-4 {color: black;background-color: white;}#sk-container-id-4 pre{padding: 0;}#sk-container-id-4 div.sk-toggleable {background-color: white;}#sk-container-id-4 label.sk-toggleable__label {cursor: pointer;display: block;width: 100%;margin-bottom: 0;padding: 0.3em;box-sizing: border-box;text-align: center;}#sk-container-id-4 label.sk-toggleable__label-arrow:before {content: \"▸\";float: left;margin-right: 0.25em;color: #696969;}#sk-container-id-4 label.sk-toggleable__label-arrow:hover:before {color: black;}#sk-container-id-4 div.sk-estimator:hover label.sk-toggleable__label-arrow:before {color: black;}#sk-container-id-4 div.sk-toggleable__content {max-height: 0;max-width: 0;overflow: hidden;text-align: left;background-color: #f0f8ff;}#sk-container-id-4 div.sk-toggleable__content pre {margin: 0.2em;color: black;border-radius: 0.25em;background-color: #f0f8ff;}#sk-container-id-4 input.sk-toggleable__control:checked~div.sk-toggleable__content {max-height: 200px;max-width: 100%;overflow: auto;}#sk-container-id-4 input.sk-toggleable__control:checked~label.sk-toggleable__label-arrow:before {content: \"▾\";}#sk-container-id-4 div.sk-estimator input.sk-toggleable__control:checked~label.sk-toggleable__label {background-color: #d4ebff;}#sk-container-id-4 div.sk-label input.sk-toggleable__control:checked~label.sk-toggleable__label {background-color: #d4ebff;}#sk-container-id-4 input.sk-hidden--visually {border: 0;clip: rect(1px 1px 1px 1px);clip: rect(1px, 1px, 1px, 1px);height: 1px;margin: -1px;overflow: hidden;padding: 0;position: absolute;width: 1px;}#sk-container-id-4 div.sk-estimator {font-family: monospace;background-color: #f0f8ff;border: 1px dotted black;border-radius: 0.25em;box-sizing: border-box;margin-bottom: 0.5em;}#sk-container-id-4 div.sk-estimator:hover {background-color: #d4ebff;}#sk-container-id-4 div.sk-parallel-item::after {content: \"\";width: 100%;border-bottom: 1px solid gray;flex-grow: 1;}#sk-container-id-4 div.sk-label:hover label.sk-toggleable__label {background-color: #d4ebff;}#sk-container-id-4 div.sk-serial::before {content: \"\";position: absolute;border-left: 1px solid gray;box-sizing: border-box;top: 0;bottom: 0;left: 50%;z-index: 0;}#sk-container-id-4 div.sk-serial {display: flex;flex-direction: column;align-items: center;background-color: white;padding-right: 0.2em;padding-left: 0.2em;position: relative;}#sk-container-id-4 div.sk-item {position: relative;z-index: 1;}#sk-container-id-4 div.sk-parallel {display: flex;align-items: stretch;justify-content: center;background-color: white;position: relative;}#sk-container-id-4 div.sk-item::before, #sk-container-id-4 div.sk-parallel-item::before {content: \"\";position: absolute;border-left: 1px solid gray;box-sizing: border-box;top: 0;bottom: 0;left: 50%;z-index: -1;}#sk-container-id-4 div.sk-parallel-item {display: flex;flex-direction: column;z-index: 1;position: relative;background-color: white;}#sk-container-id-4 div.sk-parallel-item:first-child::after {align-self: flex-end;width: 50%;}#sk-container-id-4 div.sk-parallel-item:last-child::after {align-self: flex-start;width: 50%;}#sk-container-id-4 div.sk-parallel-item:only-child::after {width: 0;}#sk-container-id-4 div.sk-dashed-wrapped {border: 1px dashed gray;margin: 0 0.4em 0.5em 0.4em;box-sizing: border-box;padding-bottom: 0.4em;background-color: white;}#sk-container-id-4 div.sk-label label {font-family: monospace;font-weight: bold;display: inline-block;line-height: 1.2em;}#sk-container-id-4 div.sk-label-container {text-align: center;}#sk-container-id-4 div.sk-container {/* jupyter's `normalize.less` sets `[hidden] { display: none; }` but bootstrap.min.css set `[hidden] { display: none !important; }` so we also need the `!important` here to be able to override the default hidden behavior on the sphinx rendered scikit-learn.org. See: https://github.com/scikit-learn/scikit-learn/issues/21755 */display: inline-block !important;position: relative;}#sk-container-id-4 div.sk-text-repr-fallback {display: none;}</style><div id=\"sk-container-id-4\" class=\"sk-top-container\"><div class=\"sk-text-repr-fallback\"><pre>SVC()</pre><b>In a Jupyter environment, please rerun this cell to show the HTML representation or trust the notebook. <br />On GitHub, the HTML representation is unable to render, please try loading this page with nbviewer.org.</b></div><div class=\"sk-container\" hidden><div class=\"sk-item\"><div class=\"sk-estimator sk-toggleable\"><input class=\"sk-toggleable__control sk-hidden--visually\" id=\"sk-estimator-id-4\" type=\"checkbox\" checked><label for=\"sk-estimator-id-4\" class=\"sk-toggleable__label sk-toggleable__label-arrow\">SVC</label><div class=\"sk-toggleable__content\"><pre>SVC()</pre></div></div></div></div></div>"
            ]
          },
          "metadata": {},
          "execution_count": 65
        }
      ],
      "source": [
        "model2.fit(X_train, y_train)"
      ]
    },
    {
      "cell_type": "code",
      "execution_count": 66,
      "id": "zOkPzRag4aDO",
      "metadata": {
        "id": "zOkPzRag4aDO"
      },
      "outputs": [],
      "source": [
        "svmy_pred = model2.predict(X_test)"
      ]
    },
    {
      "cell_type": "code",
      "execution_count": 67,
      "id": "hymhfc5N4e7j",
      "metadata": {
        "colab": {
          "base_uri": "https://localhost:8080/"
        },
        "id": "hymhfc5N4e7j",
        "outputId": "343f2ca0-248d-497f-d336-766339793336",
        "scrolled": true
      },
      "outputs": [
        {
          "output_type": "stream",
          "name": "stdout",
          "text": [
            "Accuracy: 0.9232839838492598\n",
            "Classification Report:\n",
            "               precision    recall  f1-score   support\n",
            "\n",
            "           0       1.00      0.93      0.96     18461\n",
            "           1       0.03      0.42      0.06       114\n",
            "\n",
            "    accuracy                           0.92     18575\n",
            "   macro avg       0.52      0.67      0.51     18575\n",
            "weighted avg       0.99      0.92      0.95     18575\n",
            "\n"
          ]
        }
      ],
      "source": [
        "print(\"Accuracy:\", accuracy_score(y_test, svmy_pred))\n",
        "print(\"Classification Report:\\n\", classification_report(y_test, svmy_pred))"
      ]
    },
    {
      "cell_type": "code",
      "execution_count": 68,
      "id": "f982869b",
      "metadata": {
        "id": "f982869b"
      },
      "outputs": [],
      "source": [
        "cm = confusion_matrix(y_test, svmy_pred)"
      ]
    },
    {
      "cell_type": "code",
      "execution_count": 69,
      "id": "a5f2a248",
      "metadata": {
        "colab": {
          "base_uri": "https://localhost:8080/"
        },
        "id": "a5f2a248",
        "outputId": "90e9d067-0b87-4b5c-a430-49e7fcf91e48"
      },
      "outputs": [
        {
          "output_type": "stream",
          "name": "stdout",
          "text": [
            "Confusion Matrix:\n",
            " [[17102  1359]\n",
            " [   66    48]] \n",
            "\n",
            "True Positive: 48\n",
            "False Positive: 1359\n",
            "True Negative: 17102\n",
            "False Negative: 66\n",
            "Correct predictions: 92.3 %\n"
          ]
        }
      ],
      "source": [
        "true_positive=cm[1][1]\n",
        "false_positive=cm[0][1]\n",
        "true_negative=cm[0][0]\n",
        "false_negative=cm[1][0]\n",
        "\n",
        "print(\"Confusion Matrix:\\n\", cm, \"\\n\")\n",
        "print(\"True Positive:\",true_positive )\n",
        "print(\"False Positive:\",false_positive )\n",
        "print(\"True Negative:\",true_negative )\n",
        "print(\"False Negative:\",false_negative )\n",
        "print(\"Correct predictions:\",round((true_positive + true_negative)/len(svmy_pred)*100,1),'%')"
      ]
    },
    {
      "cell_type": "markdown",
      "id": "403ff2ee",
      "metadata": {
        "id": "403ff2ee"
      },
      "source": [
        "### Using Random Forest model:"
      ]
    },
    {
      "cell_type": "code",
      "execution_count": 42,
      "id": "ecf84662",
      "metadata": {
        "id": "ecf84662"
      },
      "outputs": [],
      "source": [
        "from sklearn.ensemble import RandomForestClassifier"
      ]
    },
    {
      "cell_type": "code",
      "execution_count": 43,
      "id": "d2c3aadf",
      "metadata": {
        "id": "d2c3aadf"
      },
      "outputs": [],
      "source": [
        "model3 = RandomForestClassifier(n_estimators=100, random_state=42)"
      ]
    },
    {
      "cell_type": "code",
      "source": [
        "model3.fit(X_train, y_train)"
      ],
      "metadata": {
        "colab": {
          "base_uri": "https://localhost:8080/",
          "height": 74
        },
        "id": "Ix3e2FANiVxB",
        "outputId": "2aaaf9a0-d445-4a24-966f-6fca261679ec"
      },
      "id": "Ix3e2FANiVxB",
      "execution_count": 44,
      "outputs": [
        {
          "output_type": "execute_result",
          "data": {
            "text/plain": [
              "RandomForestClassifier(random_state=42)"
            ],
            "text/html": [
              "<style>#sk-container-id-2 {color: black;background-color: white;}#sk-container-id-2 pre{padding: 0;}#sk-container-id-2 div.sk-toggleable {background-color: white;}#sk-container-id-2 label.sk-toggleable__label {cursor: pointer;display: block;width: 100%;margin-bottom: 0;padding: 0.3em;box-sizing: border-box;text-align: center;}#sk-container-id-2 label.sk-toggleable__label-arrow:before {content: \"▸\";float: left;margin-right: 0.25em;color: #696969;}#sk-container-id-2 label.sk-toggleable__label-arrow:hover:before {color: black;}#sk-container-id-2 div.sk-estimator:hover label.sk-toggleable__label-arrow:before {color: black;}#sk-container-id-2 div.sk-toggleable__content {max-height: 0;max-width: 0;overflow: hidden;text-align: left;background-color: #f0f8ff;}#sk-container-id-2 div.sk-toggleable__content pre {margin: 0.2em;color: black;border-radius: 0.25em;background-color: #f0f8ff;}#sk-container-id-2 input.sk-toggleable__control:checked~div.sk-toggleable__content {max-height: 200px;max-width: 100%;overflow: auto;}#sk-container-id-2 input.sk-toggleable__control:checked~label.sk-toggleable__label-arrow:before {content: \"▾\";}#sk-container-id-2 div.sk-estimator input.sk-toggleable__control:checked~label.sk-toggleable__label {background-color: #d4ebff;}#sk-container-id-2 div.sk-label input.sk-toggleable__control:checked~label.sk-toggleable__label {background-color: #d4ebff;}#sk-container-id-2 input.sk-hidden--visually {border: 0;clip: rect(1px 1px 1px 1px);clip: rect(1px, 1px, 1px, 1px);height: 1px;margin: -1px;overflow: hidden;padding: 0;position: absolute;width: 1px;}#sk-container-id-2 div.sk-estimator {font-family: monospace;background-color: #f0f8ff;border: 1px dotted black;border-radius: 0.25em;box-sizing: border-box;margin-bottom: 0.5em;}#sk-container-id-2 div.sk-estimator:hover {background-color: #d4ebff;}#sk-container-id-2 div.sk-parallel-item::after {content: \"\";width: 100%;border-bottom: 1px solid gray;flex-grow: 1;}#sk-container-id-2 div.sk-label:hover label.sk-toggleable__label {background-color: #d4ebff;}#sk-container-id-2 div.sk-serial::before {content: \"\";position: absolute;border-left: 1px solid gray;box-sizing: border-box;top: 0;bottom: 0;left: 50%;z-index: 0;}#sk-container-id-2 div.sk-serial {display: flex;flex-direction: column;align-items: center;background-color: white;padding-right: 0.2em;padding-left: 0.2em;position: relative;}#sk-container-id-2 div.sk-item {position: relative;z-index: 1;}#sk-container-id-2 div.sk-parallel {display: flex;align-items: stretch;justify-content: center;background-color: white;position: relative;}#sk-container-id-2 div.sk-item::before, #sk-container-id-2 div.sk-parallel-item::before {content: \"\";position: absolute;border-left: 1px solid gray;box-sizing: border-box;top: 0;bottom: 0;left: 50%;z-index: -1;}#sk-container-id-2 div.sk-parallel-item {display: flex;flex-direction: column;z-index: 1;position: relative;background-color: white;}#sk-container-id-2 div.sk-parallel-item:first-child::after {align-self: flex-end;width: 50%;}#sk-container-id-2 div.sk-parallel-item:last-child::after {align-self: flex-start;width: 50%;}#sk-container-id-2 div.sk-parallel-item:only-child::after {width: 0;}#sk-container-id-2 div.sk-dashed-wrapped {border: 1px dashed gray;margin: 0 0.4em 0.5em 0.4em;box-sizing: border-box;padding-bottom: 0.4em;background-color: white;}#sk-container-id-2 div.sk-label label {font-family: monospace;font-weight: bold;display: inline-block;line-height: 1.2em;}#sk-container-id-2 div.sk-label-container {text-align: center;}#sk-container-id-2 div.sk-container {/* jupyter's `normalize.less` sets `[hidden] { display: none; }` but bootstrap.min.css set `[hidden] { display: none !important; }` so we also need the `!important` here to be able to override the default hidden behavior on the sphinx rendered scikit-learn.org. See: https://github.com/scikit-learn/scikit-learn/issues/21755 */display: inline-block !important;position: relative;}#sk-container-id-2 div.sk-text-repr-fallback {display: none;}</style><div id=\"sk-container-id-2\" class=\"sk-top-container\"><div class=\"sk-text-repr-fallback\"><pre>RandomForestClassifier(random_state=42)</pre><b>In a Jupyter environment, please rerun this cell to show the HTML representation or trust the notebook. <br />On GitHub, the HTML representation is unable to render, please try loading this page with nbviewer.org.</b></div><div class=\"sk-container\" hidden><div class=\"sk-item\"><div class=\"sk-estimator sk-toggleable\"><input class=\"sk-toggleable__control sk-hidden--visually\" id=\"sk-estimator-id-2\" type=\"checkbox\" checked><label for=\"sk-estimator-id-2\" class=\"sk-toggleable__label sk-toggleable__label-arrow\">RandomForestClassifier</label><div class=\"sk-toggleable__content\"><pre>RandomForestClassifier(random_state=42)</pre></div></div></div></div></div>"
            ]
          },
          "metadata": {},
          "execution_count": 44
        }
      ]
    },
    {
      "cell_type": "code",
      "source": [
        "rny_pred = model3.predict(X_test)"
      ],
      "metadata": {
        "id": "eVNUHJIiif0e"
      },
      "id": "eVNUHJIiif0e",
      "execution_count": 45,
      "outputs": []
    },
    {
      "cell_type": "code",
      "source": [
        "print(\"Accuracy:\", accuracy_score(y_test, rny_pred))\n",
        "print(\"Classification Report:\\n\", classification_report(y_test, rny_pred))"
      ],
      "metadata": {
        "colab": {
          "base_uri": "https://localhost:8080/"
        },
        "id": "5HzcZUqNiyZS",
        "outputId": "8c8cab5f-b80b-4681-cea2-9552a72c94c4"
      },
      "id": "5HzcZUqNiyZS",
      "execution_count": 47,
      "outputs": [
        {
          "output_type": "stream",
          "name": "stdout",
          "text": [
            "Accuracy: 0.9872947510094212\n",
            "Classification Report:\n",
            "               precision    recall  f1-score   support\n",
            "\n",
            "           0       0.99      0.99      0.99     18461\n",
            "           1       0.13      0.18      0.15       114\n",
            "\n",
            "    accuracy                           0.99     18575\n",
            "   macro avg       0.56      0.59      0.57     18575\n",
            "weighted avg       0.99      0.99      0.99     18575\n",
            "\n"
          ]
        }
      ]
    },
    {
      "cell_type": "code",
      "source": [
        "cm = confusion_matrix(y_test, rny_pred)"
      ],
      "metadata": {
        "id": "cM9QT9Oji5ys"
      },
      "id": "cM9QT9Oji5ys",
      "execution_count": 48,
      "outputs": []
    },
    {
      "cell_type": "code",
      "source": [
        "true_positive=cm[1][1]\n",
        "false_positive=cm[0][1]\n",
        "true_negative=cm[0][0]\n",
        "false_negative=cm[1][0]\n",
        "\n",
        "print(\"Confusion Matrix:\\n\", cm, \"\\n\")\n",
        "print(\"True Positive:\",true_positive )\n",
        "print(\"False Positive:\",false_positive )\n",
        "print(\"True Negative:\",true_negative )\n",
        "print(\"False Negative:\",false_negative )\n",
        "print(\"Correct predictions:\",round((true_positive + true_negative)/len(rny_pred)*100,1),'%')"
      ],
      "metadata": {
        "colab": {
          "base_uri": "https://localhost:8080/"
        },
        "id": "fAVBf4F6i9H9",
        "outputId": "2142da55-ad38-49e2-c40f-5bc4e9c72413"
      },
      "id": "fAVBf4F6i9H9",
      "execution_count": 49,
      "outputs": [
        {
          "output_type": "stream",
          "name": "stdout",
          "text": [
            "Confusion Matrix:\n",
            " [[18318   143]\n",
            " [   93    21]] \n",
            "\n",
            "True Positive: 21\n",
            "False Positive: 143\n",
            "True Negative: 18318\n",
            "False Negative: 93\n",
            "Correct predictions: 98.7 %\n"
          ]
        }
      ]
    },
    {
      "cell_type": "markdown",
      "source": [
        "Now with Decision tree:"
      ],
      "metadata": {
        "id": "_-CtqewLjHBe"
      },
      "id": "_-CtqewLjHBe"
    },
    {
      "cell_type": "code",
      "source": [
        "from sklearn.tree import DecisionTreeClassifier"
      ],
      "metadata": {
        "id": "mQ_Z-YNmjLYb"
      },
      "id": "mQ_Z-YNmjLYb",
      "execution_count": 50,
      "outputs": []
    },
    {
      "cell_type": "code",
      "source": [
        "model4 = DecisionTreeClassifier(random_state=42)"
      ],
      "metadata": {
        "id": "YCA_Oyw0jWHI"
      },
      "id": "YCA_Oyw0jWHI",
      "execution_count": 51,
      "outputs": []
    },
    {
      "cell_type": "code",
      "source": [
        "model4.fit(X_train, y_train)"
      ],
      "metadata": {
        "colab": {
          "base_uri": "https://localhost:8080/",
          "height": 74
        },
        "id": "ejvtXSWHjaix",
        "outputId": "d56e68ee-bbf9-419b-879d-dfaa35bfd6b3"
      },
      "id": "ejvtXSWHjaix",
      "execution_count": 52,
      "outputs": [
        {
          "output_type": "execute_result",
          "data": {
            "text/plain": [
              "DecisionTreeClassifier(random_state=42)"
            ],
            "text/html": [
              "<style>#sk-container-id-3 {color: black;background-color: white;}#sk-container-id-3 pre{padding: 0;}#sk-container-id-3 div.sk-toggleable {background-color: white;}#sk-container-id-3 label.sk-toggleable__label {cursor: pointer;display: block;width: 100%;margin-bottom: 0;padding: 0.3em;box-sizing: border-box;text-align: center;}#sk-container-id-3 label.sk-toggleable__label-arrow:before {content: \"▸\";float: left;margin-right: 0.25em;color: #696969;}#sk-container-id-3 label.sk-toggleable__label-arrow:hover:before {color: black;}#sk-container-id-3 div.sk-estimator:hover label.sk-toggleable__label-arrow:before {color: black;}#sk-container-id-3 div.sk-toggleable__content {max-height: 0;max-width: 0;overflow: hidden;text-align: left;background-color: #f0f8ff;}#sk-container-id-3 div.sk-toggleable__content pre {margin: 0.2em;color: black;border-radius: 0.25em;background-color: #f0f8ff;}#sk-container-id-3 input.sk-toggleable__control:checked~div.sk-toggleable__content {max-height: 200px;max-width: 100%;overflow: auto;}#sk-container-id-3 input.sk-toggleable__control:checked~label.sk-toggleable__label-arrow:before {content: \"▾\";}#sk-container-id-3 div.sk-estimator input.sk-toggleable__control:checked~label.sk-toggleable__label {background-color: #d4ebff;}#sk-container-id-3 div.sk-label input.sk-toggleable__control:checked~label.sk-toggleable__label {background-color: #d4ebff;}#sk-container-id-3 input.sk-hidden--visually {border: 0;clip: rect(1px 1px 1px 1px);clip: rect(1px, 1px, 1px, 1px);height: 1px;margin: -1px;overflow: hidden;padding: 0;position: absolute;width: 1px;}#sk-container-id-3 div.sk-estimator {font-family: monospace;background-color: #f0f8ff;border: 1px dotted black;border-radius: 0.25em;box-sizing: border-box;margin-bottom: 0.5em;}#sk-container-id-3 div.sk-estimator:hover {background-color: #d4ebff;}#sk-container-id-3 div.sk-parallel-item::after {content: \"\";width: 100%;border-bottom: 1px solid gray;flex-grow: 1;}#sk-container-id-3 div.sk-label:hover label.sk-toggleable__label {background-color: #d4ebff;}#sk-container-id-3 div.sk-serial::before {content: \"\";position: absolute;border-left: 1px solid gray;box-sizing: border-box;top: 0;bottom: 0;left: 50%;z-index: 0;}#sk-container-id-3 div.sk-serial {display: flex;flex-direction: column;align-items: center;background-color: white;padding-right: 0.2em;padding-left: 0.2em;position: relative;}#sk-container-id-3 div.sk-item {position: relative;z-index: 1;}#sk-container-id-3 div.sk-parallel {display: flex;align-items: stretch;justify-content: center;background-color: white;position: relative;}#sk-container-id-3 div.sk-item::before, #sk-container-id-3 div.sk-parallel-item::before {content: \"\";position: absolute;border-left: 1px solid gray;box-sizing: border-box;top: 0;bottom: 0;left: 50%;z-index: -1;}#sk-container-id-3 div.sk-parallel-item {display: flex;flex-direction: column;z-index: 1;position: relative;background-color: white;}#sk-container-id-3 div.sk-parallel-item:first-child::after {align-self: flex-end;width: 50%;}#sk-container-id-3 div.sk-parallel-item:last-child::after {align-self: flex-start;width: 50%;}#sk-container-id-3 div.sk-parallel-item:only-child::after {width: 0;}#sk-container-id-3 div.sk-dashed-wrapped {border: 1px dashed gray;margin: 0 0.4em 0.5em 0.4em;box-sizing: border-box;padding-bottom: 0.4em;background-color: white;}#sk-container-id-3 div.sk-label label {font-family: monospace;font-weight: bold;display: inline-block;line-height: 1.2em;}#sk-container-id-3 div.sk-label-container {text-align: center;}#sk-container-id-3 div.sk-container {/* jupyter's `normalize.less` sets `[hidden] { display: none; }` but bootstrap.min.css set `[hidden] { display: none !important; }` so we also need the `!important` here to be able to override the default hidden behavior on the sphinx rendered scikit-learn.org. See: https://github.com/scikit-learn/scikit-learn/issues/21755 */display: inline-block !important;position: relative;}#sk-container-id-3 div.sk-text-repr-fallback {display: none;}</style><div id=\"sk-container-id-3\" class=\"sk-top-container\"><div class=\"sk-text-repr-fallback\"><pre>DecisionTreeClassifier(random_state=42)</pre><b>In a Jupyter environment, please rerun this cell to show the HTML representation or trust the notebook. <br />On GitHub, the HTML representation is unable to render, please try loading this page with nbviewer.org.</b></div><div class=\"sk-container\" hidden><div class=\"sk-item\"><div class=\"sk-estimator sk-toggleable\"><input class=\"sk-toggleable__control sk-hidden--visually\" id=\"sk-estimator-id-3\" type=\"checkbox\" checked><label for=\"sk-estimator-id-3\" class=\"sk-toggleable__label sk-toggleable__label-arrow\">DecisionTreeClassifier</label><div class=\"sk-toggleable__content\"><pre>DecisionTreeClassifier(random_state=42)</pre></div></div></div></div></div>"
            ]
          },
          "metadata": {},
          "execution_count": 52
        }
      ]
    },
    {
      "cell_type": "code",
      "source": [
        "dty_pred = model4.predict(X_test)"
      ],
      "metadata": {
        "id": "qmVyQQ09jd8N"
      },
      "id": "qmVyQQ09jd8N",
      "execution_count": 53,
      "outputs": []
    },
    {
      "cell_type": "code",
      "source": [
        "print(\"Accuracy:\", accuracy_score(y_test, dty_pred))\n",
        "print(\"Classification Report:\\n\", classification_report(y_test, dty_pred))"
      ],
      "metadata": {
        "colab": {
          "base_uri": "https://localhost:8080/"
        },
        "id": "VRD2jByMjrRe",
        "outputId": "070a84e6-bab4-40eb-be4e-7fd15764411a"
      },
      "id": "VRD2jByMjrRe",
      "execution_count": 59,
      "outputs": [
        {
          "output_type": "stream",
          "name": "stdout",
          "text": [
            "Accuracy: 0.9704979811574698\n",
            "Classification Report:\n",
            "               precision    recall  f1-score   support\n",
            "\n",
            "           0       1.00      0.97      0.99     18461\n",
            "           1       0.06      0.25      0.09       114\n",
            "\n",
            "    accuracy                           0.97     18575\n",
            "   macro avg       0.53      0.61      0.54     18575\n",
            "weighted avg       0.99      0.97      0.98     18575\n",
            "\n"
          ]
        }
      ]
    },
    {
      "cell_type": "code",
      "source": [
        "cm = confusion_matrix(y_test, dty_pred)"
      ],
      "metadata": {
        "id": "VeoP3zz-juAK"
      },
      "id": "VeoP3zz-juAK",
      "execution_count": 57,
      "outputs": []
    },
    {
      "cell_type": "code",
      "source": [
        "true_positive=cm[1][1]\n",
        "false_positive=cm[0][1]\n",
        "true_negative=cm[0][0]\n",
        "false_negative=cm[1][0]\n",
        "\n",
        "print(\"Confusion Matrix:\\n\", cm, \"\\n\")\n",
        "print(\"True Positive:\",true_positive )\n",
        "print(\"False Positive:\",false_positive )\n",
        "print(\"True Negative:\",true_negative )\n",
        "print(\"False Negative:\",false_negative )\n",
        "print(\"Correct predictions:\",round((true_positive + true_negative)/len(dty_pred)*100,1),'%')"
      ],
      "metadata": {
        "colab": {
          "base_uri": "https://localhost:8080/"
        },
        "id": "WLtrqpBsjw4e",
        "outputId": "3230803d-2714-423b-8efc-627f69694950"
      },
      "id": "WLtrqpBsjw4e",
      "execution_count": 58,
      "outputs": [
        {
          "output_type": "stream",
          "name": "stdout",
          "text": [
            "Confusion Matrix:\n",
            " [[17999   462]\n",
            " [   86    28]] \n",
            "\n",
            "True Positive: 28\n",
            "False Positive: 462\n",
            "True Negative: 17999\n",
            "False Negative: 86\n",
            "Correct predictions: 97.0 %\n"
          ]
        }
      ]
    },
    {
      "cell_type": "markdown",
      "id": "vWDMcOC34-AV",
      "metadata": {
        "id": "vWDMcOC34-AV"
      },
      "source": [
        "### Now lets compare these models:"
      ]
    },
    {
      "cell_type": "code",
      "execution_count": 73,
      "id": "8CD7sWeC9eMG",
      "metadata": {
        "colab": {
          "base_uri": "https://localhost:8080/",
          "height": 720
        },
        "id": "8CD7sWeC9eMG",
        "outputId": "0a67947e-4ec6-440e-d609-934f08ca545f"
      },
      "outputs": [
        {
          "output_type": "display_data",
          "data": {
            "text/plain": [
              "<Figure size 1600x800 with 4 Axes>"
            ],
            "image/png": "[encoded data removed]"
          },
          "metadata": {}
        }
      ],
      "source": [
        "cm_lr = confusion_matrix(y_test, lry_pred)\n",
        "\n",
        "cm_svm = confusion_matrix(y_test, svmy_pred)\n",
        "\n",
        "cm_rn = confusion_matrix(y_test, rny_pred)\n",
        "\n",
        "cm_dt = confusion_matrix(y_test, dty_pred)\n",
        "\n",
        "labels = ['True Negative', 'False Positive', 'False Negative', 'True Positive']\n",
        "\n",
        "plt.figure(figsize=(16, 8))\n",
        "\n",
        "#Plot confusion matrix for Logistic Regression\n",
        "plt.subplot(2, 2, 1)\n",
        "sns.heatmap(cm_lr, annot=True, fmt=\"d\", cmap=\"Blues\", cbar=False)\n",
        "plt.title(\"Logistic Regression Confusion Matrix\")\n",
        "plt.xticks(ticks=[0.5, 1.5], labels=['Predicted 0', 'Predicted 1'])\n",
        "plt.yticks(ticks=[0.5, 1.5], labels=['Actual 0', 'Actual 1'])\n",
        "for i in range(4):\n",
        "    plt.text(i % 2, i // 2, f\"{labels[i]}\\n{cm_lr.flatten()[i]}\", ha='center', va='center', fontsize=8, color='red')\n",
        "\n",
        "# Plot confusion matrix for SVM\n",
        "plt.subplot(2, 2, 2)\n",
        "sns.heatmap(cm_svm, annot=True, fmt=\"d\", cmap=\"Blues\", cbar=False)\n",
        "plt.title(\"SVM Confusion Matrix\")\n",
        "plt.xticks(ticks=[0.5, 1.5], labels=['Predicted 0', 'Predicted 1'])\n",
        "plt.yticks(ticks=[0.5, 1.5], labels=['Actual 0', 'Actual 1'])\n",
        "for i in range(4):\n",
        "    plt.text(i % 2, i // 2, f\"{labels[i]}\\n{cm_svm.flatten()[i]}\", ha='center', va='center', fontsize=8, color='red')\n",
        "\n",
        "# Plot confusion matrix for Random Forest\n",
        "plt.subplot(2, 2, 3)\n",
        "sns.heatmap(cm_rn, annot=True, fmt=\"d\", cmap=\"Blues\", cbar=False)\n",
        "plt.title(\"Random Forest Confusion Matrix\")\n",
        "plt.xticks(ticks=[0.5, 1.5], labels=['Predicted 0', 'Predicted 1'])\n",
        "plt.yticks(ticks=[0.5, 1.5], labels=['Actual 0', 'Actual 1'])\n",
        "for i in range(4):\n",
        "    plt.text(i % 2, i // 2, f\"{labels[i]}\\n{cm_rn.flatten()[i]}\", ha='center', va='center', fontsize=8, color='red')\n",
        "\n",
        "# Plot confusion matrix for Decision Tree\n",
        "plt.subplot(2, 2, 4)\n",
        "sns.heatmap(cm_dt, annot=True, fmt=\"d\", cmap=\"Blues\", cbar=False)\n",
        "plt.title(\"Decision Tree Confusion Matrix\")\n",
        "plt.xticks(ticks=[0.5, 1.5], labels=['Predicted 0', 'Predicted 1'])\n",
        "plt.yticks(ticks=[0.5, 1.5], labels=['Actual 0', 'Actual 1'])\n",
        "for i in range(4):\n",
        "    plt.text(i % 2, i // 2, f\"{labels[i]}\\n{cm_dt.flatten()[i]}\", ha='center', va='center', fontsize=8, color='red')\n",
        "\n",
        "plt.tight_layout()\n",
        "plt.show()\n"
      ]
    },
    {
      "cell_type": "code",
      "source": [
        "accuracy_lr = accuracy_score(y_test, lry_pred)\n",
        "accuracy_svm = accuracy_score(y_test, svmy_pred)\n",
        "accuracy_rf = accuracy_score(y_test, rny_pred)\n",
        "accuracy_dt = accuracy_score(y_test, dty_pred)\n",
        "\n",
        "accuracies = [accuracy_lr, accuracy_svm, accuracy_rf, accuracy_dt]\n",
        "models = ['Logistic Regression', 'SVM', 'Random Forest', 'Decision Tree']\n",
        "\n",
        "plt.figure(figsize=(10, 6))\n",
        "barplot = sns.barplot(x=models, y=accuracies, palette='viridis')\n",
        "\n",
        "for i, v in enumerate(accuracies):\n",
        "    barplot.text(i, v + 0.01, f'{v:.2%}', ha='center', va='bottom', fontsize=10)\n",
        "\n",
        "plt.title('Accuracy of Different Models')\n",
        "plt.ylim(0, 1.05)\n",
        "plt.ylabel('Accuracy')\n",
        "plt.subplots_adjust(left=0.1, right=0.9, top=0.8, bottom=0.1)\n",
        "plt.show()"
      ],
      "metadata": {
        "colab": {
          "base_uri": "https://localhost:8080/",
          "height": 503
        },
        "id": "fxUH6mDNohbQ",
        "outputId": "2ea8bca4-7777-4b12-e8f5-0b9386dc58ef"
      },
      "id": "fxUH6mDNohbQ",
      "execution_count": 84,
      "outputs": [
        {
          "output_type": "display_data",
          "data": {
            "text/plain": [
              "<Figure size 1000x600 with 1 Axes>"
            ],
            "image/png": "[encoded data removed]"
          },
          "metadata": {}
        }
      ]
    },
    {
      "cell_type": "markdown",
      "source": [
        "The above visualization shows that Random Forest has the maximum accuracy for determining Bankrupcy.\n",
        "Now, lets do Hyperparameter tuning for random forest using grid search method:"
      ],
      "metadata": {
        "id": "NLJbqbk7q89e"
      },
      "id": "NLJbqbk7q89e"
    },
    {
      "cell_type": "code",
      "execution_count": 85,
      "id": "cc9c4196",
      "metadata": {
        "id": "cc9c4196"
      },
      "outputs": [],
      "source": [
        "from sklearn.model_selection import GridSearchCV"
      ]
    },
    {
      "cell_type": "code",
      "execution_count": 92,
      "id": "c86c4410",
      "metadata": {
        "id": "c86c4410"
      },
      "outputs": [],
      "source": [
        "param_grid = {\n",
        "    'n_estimators': [50, 100],        # Number of trees in the forest\n",
        "    'max_depth': [10, 20],       # Maximum depth of the tree\n",
        "    'min_samples_split': [2, 5],       # Minimum number of samples required to split an internal node\n",
        "    'min_samples_leaf': [1, 2]          # Minimum number of samples required to be at a leaf node\n",
        "}\n",
        "\n",
        "grid = GridSearchCV(model3, param_grid, cv=3, scoring='accuracy', n_jobs = -1)"
      ]
    },
    {
      "cell_type": "code",
      "execution_count": 93,
      "id": "28b2ada8",
      "metadata": {
        "colab": {
          "base_uri": "https://localhost:8080/",
          "height": 117
        },
        "id": "28b2ada8",
        "outputId": "1839b64f-6734-499b-fd07-5ba641214daa"
      },
      "outputs": [
        {
          "output_type": "execute_result",
          "data": {
            "text/plain": [
              "GridSearchCV(cv=3, estimator=RandomForestClassifier(random_state=42), n_jobs=-1,\n",
              "             param_grid={'max_depth': [10, 20], 'min_samples_leaf': [1, 2],\n",
              "                         'min_samples_split': [2, 5],\n",
              "                         'n_estimators': [50, 100]},\n",
              "             scoring='accuracy')"
            ],
            "text/html": [
              "<style>#sk-container-id-5 {color: black;background-color: white;}#sk-container-id-5 pre{padding: 0;}#sk-container-id-5 div.sk-toggleable {background-color: white;}#sk-container-id-5 label.sk-toggleable__label {cursor: pointer;display: block;width: 100%;margin-bottom: 0;padding: 0.3em;box-sizing: border-box;text-align: center;}#sk-container-id-5 label.sk-toggleable__label-arrow:before {content: \"▸\";float: left;margin-right: 0.25em;color: #696969;}#sk-container-id-5 label.sk-toggleable__label-arrow:hover:before {color: black;}#sk-container-id-5 div.sk-estimator:hover label.sk-toggleable__label-arrow:before {color: black;}#sk-container-id-5 div.sk-toggleable__content {max-height: 0;max-width: 0;overflow: hidden;text-align: left;background-color: #f0f8ff;}#sk-container-id-5 div.sk-toggleable__content pre {margin: 0.2em;color: black;border-radius: 0.25em;background-color: #f0f8ff;}#sk-container-id-5 input.sk-toggleable__control:checked~div.sk-toggleable__content {max-height: 200px;max-width: 100%;overflow: auto;}#sk-container-id-5 input.sk-toggleable__control:checked~label.sk-toggleable__label-arrow:before {content: \"▾\";}#sk-container-id-5 div.sk-estimator input.sk-toggleable__control:checked~label.sk-toggleable__label {background-color: #d4ebff;}#sk-container-id-5 div.sk-label input.sk-toggleable__control:checked~label.sk-toggleable__label {background-color: #d4ebff;}#sk-container-id-5 input.sk-hidden--visually {border: 0;clip: rect(1px 1px 1px 1px);clip: rect(1px, 1px, 1px, 1px);height: 1px;margin: -1px;overflow: hidden;padding: 0;position: absolute;width: 1px;}#sk-container-id-5 div.sk-estimator {font-family: monospace;background-color: #f0f8ff;border: 1px dotted black;border-radius: 0.25em;box-sizing: border-box;margin-bottom: 0.5em;}#sk-container-id-5 div.sk-estimator:hover {background-color: #d4ebff;}#sk-container-id-5 div.sk-parallel-item::after {content: \"\";width: 100%;border-bottom: 1px solid gray;flex-grow: 1;}#sk-container-id-5 div.sk-label:hover label.sk-toggleable__label {background-color: #d4ebff;}#sk-container-id-5 div.sk-serial::before {content: \"\";position: absolute;border-left: 1px solid gray;box-sizing: border-box;top: 0;bottom: 0;left: 50%;z-index: 0;}#sk-container-id-5 div.sk-serial {display: flex;flex-direction: column;align-items: center;background-color: white;padding-right: 0.2em;padding-left: 0.2em;position: relative;}#sk-container-id-5 div.sk-item {position: relative;z-index: 1;}#sk-container-id-5 div.sk-parallel {display: flex;align-items: stretch;justify-content: center;background-color: white;position: relative;}#sk-container-id-5 div.sk-item::before, #sk-container-id-5 div.sk-parallel-item::before {content: \"\";position: absolute;border-left: 1px solid gray;box-sizing: border-box;top: 0;bottom: 0;left: 50%;z-index: -1;}#sk-container-id-5 div.sk-parallel-item {display: flex;flex-direction: column;z-index: 1;position: relative;background-color: white;}#sk-container-id-5 div.sk-parallel-item:first-child::after {align-self: flex-end;width: 50%;}#sk-container-id-5 div.sk-parallel-item:last-child::after {align-self: flex-start;width: 50%;}#sk-container-id-5 div.sk-parallel-item:only-child::after {width: 0;}#sk-container-id-5 div.sk-dashed-wrapped {border: 1px dashed gray;margin: 0 0.4em 0.5em 0.4em;box-sizing: border-box;padding-bottom: 0.4em;background-color: white;}#sk-container-id-5 div.sk-label label {font-family: monospace;font-weight: bold;display: inline-block;line-height: 1.2em;}#sk-container-id-5 div.sk-label-container {text-align: center;}#sk-container-id-5 div.sk-container {/* jupyter's `normalize.less` sets `[hidden] { display: none; }` but bootstrap.min.css set `[hidden] { display: none !important; }` so we also need the `!important` here to be able to override the default hidden behavior on the sphinx rendered scikit-learn.org. See: https://github.com/scikit-learn/scikit-learn/issues/21755 */display: inline-block !important;position: relative;}#sk-container-id-5 div.sk-text-repr-fallback {display: none;}</style><div id=\"sk-container-id-5\" class=\"sk-top-container\"><div class=\"sk-text-repr-fallback\"><pre>GridSearchCV(cv=3, estimator=RandomForestClassifier(random_state=42), n_jobs=-1,\n",
              "             param_grid={&#x27;max_depth&#x27;: [10, 20], &#x27;min_samples_leaf&#x27;: [1, 2],\n",
              "                         &#x27;min_samples_split&#x27;: [2, 5],\n",
              "                         &#x27;n_estimators&#x27;: [50, 100]},\n",
              "             scoring=&#x27;accuracy&#x27;)</pre><b>In a Jupyter environment, please rerun this cell to show the HTML representation or trust the notebook. <br />On GitHub, the HTML representation is unable to render, please try loading this page with nbviewer.org.</b></div><div class=\"sk-container\" hidden><div class=\"sk-item sk-dashed-wrapped\"><div class=\"sk-label-container\"><div class=\"sk-label sk-toggleable\"><input class=\"sk-toggleable__control sk-hidden--visually\" id=\"sk-estimator-id-5\" type=\"checkbox\" ><label for=\"sk-estimator-id-5\" class=\"sk-toggleable__label sk-toggleable__label-arrow\">GridSearchCV</label><div class=\"sk-toggleable__content\"><pre>GridSearchCV(cv=3, estimator=RandomForestClassifier(random_state=42), n_jobs=-1,\n",
              "             param_grid={&#x27;max_depth&#x27;: [10, 20], &#x27;min_samples_leaf&#x27;: [1, 2],\n",
              "                         &#x27;min_samples_split&#x27;: [2, 5],\n",
              "                         &#x27;n_estimators&#x27;: [50, 100]},\n",
              "             scoring=&#x27;accuracy&#x27;)</pre></div></div></div><div class=\"sk-parallel\"><div class=\"sk-parallel-item\"><div class=\"sk-item\"><div class=\"sk-label-container\"><div class=\"sk-label sk-toggleable\"><input class=\"sk-toggleable__control sk-hidden--visually\" id=\"sk-estimator-id-6\" type=\"checkbox\" ><label for=\"sk-estimator-id-6\" class=\"sk-toggleable__label sk-toggleable__label-arrow\">estimator: RandomForestClassifier</label><div class=\"sk-toggleable__content\"><pre>RandomForestClassifier(random_state=42)</pre></div></div></div><div class=\"sk-serial\"><div class=\"sk-item\"><div class=\"sk-estimator sk-toggleable\"><input class=\"sk-toggleable__control sk-hidden--visually\" id=\"sk-estimator-id-7\" type=\"checkbox\" ><label for=\"sk-estimator-id-7\" class=\"sk-toggleable__label sk-toggleable__label-arrow\">RandomForestClassifier</label><div class=\"sk-toggleable__content\"><pre>RandomForestClassifier(random_state=42)</pre></div></div></div></div></div></div></div></div></div></div>"
            ]
          },
          "metadata": {},
          "execution_count": 93
        }
      ],
      "source": [
        "grid.fit(X_train,y_train)"
      ]
    },
    {
      "cell_type": "code",
      "execution_count": 98,
      "id": "02206bca",
      "metadata": {
        "colab": {
          "base_uri": "https://localhost:8080/"
        },
        "id": "02206bca",
        "outputId": "e4168860-27e0-40b2-abed-aadcf340ff9b"
      },
      "outputs": [
        {
          "output_type": "stream",
          "name": "stdout",
          "text": [
            "{'max_depth': 20, 'min_samples_leaf': 1, 'min_samples_split': 2, 'n_estimators': 100}\n",
            "RandomForestClassifier(max_depth=20, random_state=42)\n"
          ]
        }
      ],
      "source": [
        "print(grid.best_params_)\n",
        "print(grid.best_estimator_)\n",
        "grid_predictions = grid.predict(X_test)\n",
        "cmG = confusion_matrix(y_test,grid_predictions)"
      ]
    },
    {
      "cell_type": "code",
      "execution_count": 95,
      "id": "0b79c1a0",
      "metadata": {
        "colab": {
          "base_uri": "https://localhost:8080/",
          "height": 447
        },
        "id": "0b79c1a0",
        "outputId": "6d737f8b-d1c1-4521-adf0-49c3f1f766c0"
      },
      "outputs": [
        {
          "output_type": "execute_result",
          "data": {
            "text/plain": [
              "<Axes: >"
            ]
          },
          "metadata": {},
          "execution_count": 95
        },
        {
          "output_type": "display_data",
          "data": {
            "text/plain": [
              "<Figure size 640x480 with 2 Axes>"
            ],
            "image/png": "[encoded data removed]"
          },
          "metadata": {}
        }
      ],
      "source": [
        "sns.heatmap(cmG, annot=True)"
      ]
    },
    {
      "cell_type": "code",
      "execution_count": 96,
      "id": "37da9037",
      "metadata": {
        "colab": {
          "base_uri": "https://localhost:8080/"
        },
        "id": "37da9037",
        "outputId": "d7c5492d-4f96-438b-9cb8-508d999bc580"
      },
      "outputs": [
        {
          "output_type": "stream",
          "name": "stdout",
          "text": [
            "              precision    recall  f1-score   support\n",
            "\n",
            "           0       1.00      0.98      0.99     18461\n",
            "           1       0.08      0.29      0.13       114\n",
            "\n",
            "    accuracy                           0.98     18575\n",
            "   macro avg       0.54      0.63      0.56     18575\n",
            "weighted avg       0.99      0.98      0.98     18575\n",
            "\n"
          ]
        }
      ],
      "source": [
        "print(classification_report(y_test,grid_predictions))"
      ]
    }
  ],
  "metadata": {
    "colab": {
      "provenance": []
    },
    "kernelspec": {
      "display_name": "Python 3 (ipykernel)",
      "language": "python",
      "name": "python3"
    },
    "language_info": {
      "codemirror_mode": {
        "name": "ipython",
        "version": 3
      },
      "file_extension": ".py",
      "mimetype": "text/x-python",
      "name": "python",
      "nbconvert_exporter": "python",
      "pygments_lexer": "ipython3",
      "version": "3.10.9"
    }
  },
  "nbformat": 4,
  "nbformat_minor": 5
}